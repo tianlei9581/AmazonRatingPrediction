{
 "cells": [
  {
   "cell_type": "markdown",
   "metadata": {
    "id": "CCF9eN1oRw9m"
   },
   "source": [
    "# Data Sampling and Collection"
   ]
  },
  {
   "cell_type": "markdown",
   "metadata": {
    "id": "9N8mdiqgRURl"
   },
   "source": [
    "The datasets we choose is from the [Amazon Review Data](https://nijianmo.github.io/amazon/index.html) of Topic 3 - Dataset B: recommender systems. \n",
    "\n",
    "## How were the data collected?\n",
    "According to the [official website](https://nijianmo.github.io/amazon/index.html) of this collection of datasets, the data are collected from Amazon shopping site. It contains reviews (ratings, text, helpfulness votes), product metadata (descriptions, category information, price, brand, and image features), and links (also viewed/also bought graphs). Current data includes reviews in the range May 1996 - Oct 2018. "
   ]
  },
  {
   "cell_type": "markdown",
   "metadata": {
    "id": "Vgoo4G4tgMXm"
   },
   "source": [
    "## Was there any potential bias introduced in the sampling process?\n",
    "During the sampling process, there might be potential bias introduced. First, they collected data from certain categories and only included data from certain time frame, so there could be selection bias.\n",
    "\n",
    "For this case study, we only analyze the `metadata` dataset and `ratings only` dataset from the Prime Pantry category. The metadata contains the product information of 10,815 products in total. The ratings only dataset contains 471,614 ratings in total."
   ]
  },
  {
   "cell_type": "markdown",
   "metadata": {
    "id": "TcVouJqIjCMm"
   },
   "source": [
    "# Data Cleaning"
   ]
  },
  {
   "cell_type": "markdown",
   "metadata": {
    "id": "AIZ5TLxkiQ8V"
   },
   "source": [
    "Here we import all the python libraries we need for this project."
   ]
  },
  {
   "cell_type": "code",
   "execution_count": 71,
   "metadata": {
    "id": "1IcAr1RDSLM3"
   },
   "outputs": [],
   "source": [
    "import numpy as np\n",
    "import gzip\n",
    "import pandas as pd\n",
    "from pandas.api.types import CategoricalDtype\n",
    "import json\n",
    "import re\n",
    "%matplotlib inline\n",
    "import matplotlib.pyplot as plt\n",
    "import seaborn as sns\n",
    "import warnings\n",
    "warnings.filterwarnings(\"ignore\", category=FutureWarning)"
   ]
  },
  {
   "cell_type": "markdown",
   "metadata": {
    "id": "P0DzKkYvinww"
   },
   "source": [
    "First, we need to read in the whole metadata dataset that is in the json format to examine the original data. Code in the next cell is modified based on example functions provided on the [official website](https://nijianmo.github.io/amazon/index.html)."
   ]
  },
  {
   "cell_type": "code",
   "execution_count": 72,
   "metadata": {
    "colab": {
     "base_uri": "https://localhost:8080/",
     "height": 583
    },
    "id": "UM6XwYIuP9zW",
    "outputId": "917a4822-d96a-40d1-afc5-2fd0df748d6a"
   },
   "outputs": [
    {
     "data": {
      "text/html": [
       "<div>\n",
       "<style scoped>\n",
       "    .dataframe tbody tr th:only-of-type {\n",
       "        vertical-align: middle;\n",
       "    }\n",
       "\n",
       "    .dataframe tbody tr th {\n",
       "        vertical-align: top;\n",
       "    }\n",
       "\n",
       "    .dataframe thead th {\n",
       "        text-align: right;\n",
       "    }\n",
       "</style>\n",
       "<table border=\"1\" class=\"dataframe\">\n",
       "  <thead>\n",
       "    <tr style=\"text-align: right;\">\n",
       "      <th></th>\n",
       "      <th>category</th>\n",
       "      <th>tech1</th>\n",
       "      <th>description</th>\n",
       "      <th>fit</th>\n",
       "      <th>title</th>\n",
       "      <th>also_buy</th>\n",
       "      <th>tech2</th>\n",
       "      <th>brand</th>\n",
       "      <th>feature</th>\n",
       "      <th>rank</th>\n",
       "      <th>also_view</th>\n",
       "      <th>details</th>\n",
       "      <th>main_cat</th>\n",
       "      <th>similar_item</th>\n",
       "      <th>date</th>\n",
       "      <th>price</th>\n",
       "      <th>asin</th>\n",
       "      <th>imageURL</th>\n",
       "      <th>imageURLHighRes</th>\n",
       "    </tr>\n",
       "  </thead>\n",
       "  <tbody>\n",
       "    <tr>\n",
       "      <th>0</th>\n",
       "      <td>[]</td>\n",
       "      <td></td>\n",
       "      <td>[Sink your sweet tooth into MILK DUDS Candya d...</td>\n",
       "      <td></td>\n",
       "      <td>HERSHEY'S Milk Duds Candy, 5 Ounce(Halloween C...</td>\n",
       "      <td>[B019KE37WO, B007NQSWEU]</td>\n",
       "      <td></td>\n",
       "      <td>Milk Duds</td>\n",
       "      <td>[]</td>\n",
       "      <td>[]</td>\n",
       "      <td>[]</td>\n",
       "      <td>{'ASIN: ': 'B00005BPJO', 'Item model number:':...</td>\n",
       "      <td>&lt;img src=\"https://m.media-amazon.com/images/G/...</td>\n",
       "      <td></td>\n",
       "      <td></td>\n",
       "      <td>$5.00</td>\n",
       "      <td>B00005BPJO</td>\n",
       "      <td>[https://images-na.ssl-images-amazon.com/image...</td>\n",
       "      <td>[https://images-na.ssl-images-amazon.com/image...</td>\n",
       "    </tr>\n",
       "    <tr>\n",
       "      <th>1</th>\n",
       "      <td>[]</td>\n",
       "      <td></td>\n",
       "      <td>[Sink your sweet tooth into MILK DUDS Candya d...</td>\n",
       "      <td></td>\n",
       "      <td>HERSHEY'S Milk Duds Candy, 5 Ounce(Halloween C...</td>\n",
       "      <td>[B019KE37WO, B007NQSWEU]</td>\n",
       "      <td></td>\n",
       "      <td>Milk Duds</td>\n",
       "      <td>[]</td>\n",
       "      <td>[]</td>\n",
       "      <td>[]</td>\n",
       "      <td>{'ASIN: ': 'B00005BPJO', 'Item model number:':...</td>\n",
       "      <td>&lt;img src=\"https://m.media-amazon.com/images/G/...</td>\n",
       "      <td></td>\n",
       "      <td></td>\n",
       "      <td>$5.00</td>\n",
       "      <td>B00005BPJO</td>\n",
       "      <td>[https://images-na.ssl-images-amazon.com/image...</td>\n",
       "      <td>[https://images-na.ssl-images-amazon.com/image...</td>\n",
       "    </tr>\n",
       "    <tr>\n",
       "      <th>2</th>\n",
       "      <td>[]</td>\n",
       "      <td></td>\n",
       "      <td>[A perfect Lentil soup starts with Goya Lentil...</td>\n",
       "      <td></td>\n",
       "      <td>Goya Dry Lentils, 16 oz</td>\n",
       "      <td>[B003SI144W, B000VDRKEK]</td>\n",
       "      <td></td>\n",
       "      <td>Goya</td>\n",
       "      <td>[]</td>\n",
       "      <td>[]</td>\n",
       "      <td>[B074MFVZG7, B079PTH69L, B000VDRKEK, B074M9T81...</td>\n",
       "      <td>{'ASIN: ': 'B0000DIF38'}</td>\n",
       "      <td>&lt;img src=\"https://images-na.ssl-images-amazon....</td>\n",
       "      <td></td>\n",
       "      <td></td>\n",
       "      <td></td>\n",
       "      <td>B0000DIF38</td>\n",
       "      <td>[https://images-na.ssl-images-amazon.com/image...</td>\n",
       "      <td>[https://images-na.ssl-images-amazon.com/image...</td>\n",
       "    </tr>\n",
       "    <tr>\n",
       "      <th>3</th>\n",
       "      <td>[]</td>\n",
       "      <td></td>\n",
       "      <td>[Saran Premium Wrap is an extra tough yet easy...</td>\n",
       "      <td></td>\n",
       "      <td>Saran Premium Plastic Wrap, 100 Sq Ft</td>\n",
       "      <td>[B01MY5FHT6, B000PYF8VM, B000SRMDFA, B07CX6LN8...</td>\n",
       "      <td></td>\n",
       "      <td>Saran</td>\n",
       "      <td>[]</td>\n",
       "      <td>[]</td>\n",
       "      <td>[B077QLSLRQ, B00JPKW1RQ, B000FE2IK6, B00XUJHJ9...</td>\n",
       "      <td>{'Domestic Shipping: ': 'This item can only be...</td>\n",
       "      <td>&lt;img src=\"https://images-na.ssl-images-amazon....</td>\n",
       "      <td></td>\n",
       "      <td></td>\n",
       "      <td></td>\n",
       "      <td>B0000DIWNI</td>\n",
       "      <td>[https://images-na.ssl-images-amazon.com/image...</td>\n",
       "      <td>[https://images-na.ssl-images-amazon.com/image...</td>\n",
       "    </tr>\n",
       "    <tr>\n",
       "      <th>4</th>\n",
       "      <td>[]</td>\n",
       "      <td></td>\n",
       "      <td>[200 sq ft (285 ft x 11-3/4 in x 18.6 m2). Eas...</td>\n",
       "      <td></td>\n",
       "      <td>Saran Cling Plus Plastic Wrap, 200 Sq Ft</td>\n",
       "      <td>[]</td>\n",
       "      <td></td>\n",
       "      <td>Saran</td>\n",
       "      <td>[]</td>\n",
       "      <td>[]</td>\n",
       "      <td>[B0014CZ0TE]</td>\n",
       "      <td>{'Domestic Shipping: ': 'This item can only be...</td>\n",
       "      <td>&lt;img src=\"https://images-na.ssl-images-amazon....</td>\n",
       "      <td></td>\n",
       "      <td></td>\n",
       "      <td></td>\n",
       "      <td>B0000DIWNZ</td>\n",
       "      <td>[https://images-na.ssl-images-amazon.com/image...</td>\n",
       "      <td>[https://images-na.ssl-images-amazon.com/image...</td>\n",
       "    </tr>\n",
       "  </tbody>\n",
       "</table>\n",
       "</div>"
      ],
      "text/plain": [
       "  category tech1                                        description fit  \\\n",
       "0       []        [Sink your sweet tooth into MILK DUDS Candya d...       \n",
       "1       []        [Sink your sweet tooth into MILK DUDS Candya d...       \n",
       "2       []        [A perfect Lentil soup starts with Goya Lentil...       \n",
       "3       []        [Saran Premium Wrap is an extra tough yet easy...       \n",
       "4       []        [200 sq ft (285 ft x 11-3/4 in x 18.6 m2). Eas...       \n",
       "\n",
       "                                               title  \\\n",
       "0  HERSHEY'S Milk Duds Candy, 5 Ounce(Halloween C...   \n",
       "1  HERSHEY'S Milk Duds Candy, 5 Ounce(Halloween C...   \n",
       "2                            Goya Dry Lentils, 16 oz   \n",
       "3              Saran Premium Plastic Wrap, 100 Sq Ft   \n",
       "4           Saran Cling Plus Plastic Wrap, 200 Sq Ft   \n",
       "\n",
       "                                            also_buy tech2      brand feature  \\\n",
       "0                           [B019KE37WO, B007NQSWEU]        Milk Duds      []   \n",
       "1                           [B019KE37WO, B007NQSWEU]        Milk Duds      []   \n",
       "2                           [B003SI144W, B000VDRKEK]             Goya      []   \n",
       "3  [B01MY5FHT6, B000PYF8VM, B000SRMDFA, B07CX6LN8...            Saran      []   \n",
       "4                                                 []            Saran      []   \n",
       "\n",
       "  rank                                          also_view  \\\n",
       "0   []                                                 []   \n",
       "1   []                                                 []   \n",
       "2   []  [B074MFVZG7, B079PTH69L, B000VDRKEK, B074M9T81...   \n",
       "3   []  [B077QLSLRQ, B00JPKW1RQ, B000FE2IK6, B00XUJHJ9...   \n",
       "4   []                                       [B0014CZ0TE]   \n",
       "\n",
       "                                             details  \\\n",
       "0  {'ASIN: ': 'B00005BPJO', 'Item model number:':...   \n",
       "1  {'ASIN: ': 'B00005BPJO', 'Item model number:':...   \n",
       "2                           {'ASIN: ': 'B0000DIF38'}   \n",
       "3  {'Domestic Shipping: ': 'This item can only be...   \n",
       "4  {'Domestic Shipping: ': 'This item can only be...   \n",
       "\n",
       "                                            main_cat similar_item date  price  \\\n",
       "0  <img src=\"https://m.media-amazon.com/images/G/...                    $5.00   \n",
       "1  <img src=\"https://m.media-amazon.com/images/G/...                    $5.00   \n",
       "2  <img src=\"https://images-na.ssl-images-amazon....                            \n",
       "3  <img src=\"https://images-na.ssl-images-amazon....                            \n",
       "4  <img src=\"https://images-na.ssl-images-amazon....                            \n",
       "\n",
       "         asin                                           imageURL  \\\n",
       "0  B00005BPJO  [https://images-na.ssl-images-amazon.com/image...   \n",
       "1  B00005BPJO  [https://images-na.ssl-images-amazon.com/image...   \n",
       "2  B0000DIF38  [https://images-na.ssl-images-amazon.com/image...   \n",
       "3  B0000DIWNI  [https://images-na.ssl-images-amazon.com/image...   \n",
       "4  B0000DIWNZ  [https://images-na.ssl-images-amazon.com/image...   \n",
       "\n",
       "                                     imageURLHighRes  \n",
       "0  [https://images-na.ssl-images-amazon.com/image...  \n",
       "1  [https://images-na.ssl-images-amazon.com/image...  \n",
       "2  [https://images-na.ssl-images-amazon.com/image...  \n",
       "3  [https://images-na.ssl-images-amazon.com/image...  \n",
       "4  [https://images-na.ssl-images-amazon.com/image...  "
      ]
     },
     "execution_count": 72,
     "metadata": {},
     "output_type": "execute_result"
    }
   ],
   "source": [
    "def parse(path):\n",
    "  g = gzip.open(path, 'rb')\n",
    "  for l in g:\n",
    "    yield json.loads(l)\n",
    "\n",
    "def getDF(path):\n",
    "  i = 0\n",
    "  df = {}\n",
    "  for d in parse(path):\n",
    "    df[i] = d\n",
    "    i += 1\n",
    "  return pd.DataFrame.from_dict(df, orient='index')\n",
    "\n",
    "df_meta = getDF('meta_Prime_Pantry.json.gz')\n",
    "df_meta.head()"
   ]
  },
  {
   "cell_type": "markdown",
   "metadata": {
    "id": "r5cE6yAqibDl"
   },
   "source": [
    "Secondly, we also need to read the ratings only dataset in the csv format into this notebook. Since this dataset doesn't contain the header row, we need to add that manually."
   ]
  },
  {
   "cell_type": "code",
   "execution_count": 73,
   "metadata": {
    "colab": {
     "base_uri": "https://localhost:8080/",
     "height": 206
    },
    "id": "Qic8Cbi8kLZn",
    "outputId": "a272e846-d2c0-421c-ddc6-0b3a24f27825"
   },
   "outputs": [
    {
     "data": {
      "text/html": [
       "<div>\n",
       "<style scoped>\n",
       "    .dataframe tbody tr th:only-of-type {\n",
       "        vertical-align: middle;\n",
       "    }\n",
       "\n",
       "    .dataframe tbody tr th {\n",
       "        vertical-align: top;\n",
       "    }\n",
       "\n",
       "    .dataframe thead th {\n",
       "        text-align: right;\n",
       "    }\n",
       "</style>\n",
       "<table border=\"1\" class=\"dataframe\">\n",
       "  <thead>\n",
       "    <tr style=\"text-align: right;\">\n",
       "      <th></th>\n",
       "      <th>item</th>\n",
       "      <th>user</th>\n",
       "      <th>rating</th>\n",
       "      <th>timestamp</th>\n",
       "    </tr>\n",
       "  </thead>\n",
       "  <tbody>\n",
       "    <tr>\n",
       "      <th>0</th>\n",
       "      <td>B0000DIWNZ</td>\n",
       "      <td>A1NKJW0TNRVS7O</td>\n",
       "      <td>5.0</td>\n",
       "      <td>1418515200</td>\n",
       "    </tr>\n",
       "    <tr>\n",
       "      <th>1</th>\n",
       "      <td>B0000DIWNZ</td>\n",
       "      <td>A2L6X37E8TFTCC</td>\n",
       "      <td>4.0</td>\n",
       "      <td>1416441600</td>\n",
       "    </tr>\n",
       "    <tr>\n",
       "      <th>2</th>\n",
       "      <td>B0000DIWNZ</td>\n",
       "      <td>A2WPR4W6V48121</td>\n",
       "      <td>4.0</td>\n",
       "      <td>1412985600</td>\n",
       "    </tr>\n",
       "    <tr>\n",
       "      <th>3</th>\n",
       "      <td>B0000DIWNZ</td>\n",
       "      <td>A27EE7X7L29UMU</td>\n",
       "      <td>3.0</td>\n",
       "      <td>1409529600</td>\n",
       "    </tr>\n",
       "    <tr>\n",
       "      <th>4</th>\n",
       "      <td>B0000DIWNZ</td>\n",
       "      <td>A1OWT4YZGB5GV9</td>\n",
       "      <td>4.0</td>\n",
       "      <td>1407628800</td>\n",
       "    </tr>\n",
       "  </tbody>\n",
       "</table>\n",
       "</div>"
      ],
      "text/plain": [
       "         item            user  rating   timestamp\n",
       "0  B0000DIWNZ  A1NKJW0TNRVS7O     5.0  1418515200\n",
       "1  B0000DIWNZ  A2L6X37E8TFTCC     4.0  1416441600\n",
       "2  B0000DIWNZ  A2WPR4W6V48121     4.0  1412985600\n",
       "3  B0000DIWNZ  A27EE7X7L29UMU     3.0  1409529600\n",
       "4  B0000DIWNZ  A1OWT4YZGB5GV9     4.0  1407628800"
      ]
     },
     "execution_count": 73,
     "metadata": {},
     "output_type": "execute_result"
    }
   ],
   "source": [
    "df_rating = pd.read_csv('Prime_Pantry.csv', names=[\"item\", \"user\", \"rating\", \"timestamp\"])\n",
    "df_rating.head()\n"
   ]
  },
  {
   "cell_type": "markdown",
   "metadata": {
    "id": "H0SFp4w6p8gS"
   },
   "source": [
    "## What type of data are you currently exploring?\n",
    "The data we are exploring in this pantry dataset is the product information and ratings from Amazon Prime Pantry category. The metadata includes descriptions, title, price, sales-rank, brand info, co-purchasing links, etc. The rating dataset includes rating information like the item, user, rating and timestamp.\n"
   ]
  },
  {
   "cell_type": "markdown",
   "metadata": {
    "id": "3iqdokmWgdOW"
   },
   "source": [
    "## What is the granularity of the data?\n",
    "The granularity of the metadata dataset is the detailed product profile for each product in the Amazon Prime Pantry category. \n",
    "\n",
    "Here is the description of metadata dataset from the official website:\n",
    "*   asin - ID of the product, e.g. 0000031852\n",
    "*   title - name of the product\n",
    "*   feature - bullet-point format features of the product\n",
    "*   description - description of the product\n",
    "*   price - price in US dollars (at time of crawl)\n",
    "*   imageURL - url of the product image\n",
    "*   imageURL - url of the high resolution product image\n",
    "*   related - related products (also bought, also viewed, bought together, buy after viewing)\n",
    "*   salesRank - sales rank information\n",
    "*   brand - brand name\n",
    "*   categories - list of categories the product belongs to\n",
    "*   tech1 - the first technical detail table of the product\n",
    "*   tech2 - the second technical detail table of the product\n",
    "*   similar - similar product table\n",
    "\n",
    "The granularity of the rating dataset is the detailed rating informastion for each review of products in the Amazon Prime Pantry category.\n",
    "\n",
    "The rating dataset include no metadata or reviews, but only (item,user,rating,timestamp) tuples.\n"
   ]
  },
  {
   "cell_type": "markdown",
   "metadata": {
    "id": "hOZdUUSBpXZz"
   },
   "source": [
    "## What does the distribution of the data look like? Are there any outliers? Are there any missing or invalid entries?\n",
    "\n"
   ]
  },
  {
   "cell_type": "code",
   "execution_count": 74,
   "metadata": {
    "colab": {
     "base_uri": "https://localhost:8080/"
    },
    "id": "rjMP9LXPrDj-",
    "outputId": "942e47d0-db27-4cfc-daec-842cd231a6e8"
   },
   "outputs": [
    {
     "name": "stdout",
     "output_type": "stream",
     "text": [
      "The shape of the metadata dataframe is:\n",
      "(10813, 19)\n",
      "The shape of the rating dataframe is:\n",
      "(471614, 4)\n"
     ]
    }
   ],
   "source": [
    "print('The shape of the metadata dataframe is:')\n",
    "print(df_meta.shape)\n",
    "print('The shape of the rating dataframe is:')\n",
    "print(df_rating.shape)"
   ]
  },
  {
   "cell_type": "markdown",
   "metadata": {
    "id": "OuwCSmBU9gM4"
   },
   "source": [
    "Overall, there are 10813 entries of product profile (which is inconsistant with the description on the official website) in the metadata, and every entry has 19 features. There are 471614 entries of ratings in the rating dataset, and every entry has 4 features."
   ]
  },
  {
   "cell_type": "markdown",
   "metadata": {
    "id": "6T4RYln56yB_"
   },
   "source": [
    "From the original metadata dataframe, we can see that there are a lot of coloumns for each data entry, some of the cells are either empty or too complicated to read. Thus, we need to further examine and clean the data for the next step - Exploratory Data Analysis.\n",
    "\n",
    "First, from the description we know that the column of \"*asin*\" is the ID of the product, which should be the prime key for this dataset. Therefore, we can remove all the duplicates based on this value - it seems there is only 1 duplicate record."
   ]
  },
  {
   "cell_type": "code",
   "execution_count": 75,
   "metadata": {
    "colab": {
     "base_uri": "https://localhost:8080/"
    },
    "id": "wF4OhFa-TBRd",
    "outputId": "1d36097b-d5ee-409f-f246-28ec455c3afa"
   },
   "outputs": [
    {
     "name": "stdout",
     "output_type": "stream",
     "text": [
      "(10813, 19)\n"
     ]
    }
   ],
   "source": [
    "df_nodup = df_meta.drop_duplicates(subset=['asin'])\n",
    "print(df_meta.shape)"
   ]
  },
  {
   "cell_type": "markdown",
   "metadata": {
    "id": "nIYI2sjyXWte"
   },
   "source": [
    "### Dealing with missing/empty entries"
   ]
  },
  {
   "cell_type": "markdown",
   "metadata": {
    "id": "73JoseTDXZFU"
   },
   "source": [
    "Then, we can check for null/missing values. The result shows that there aren't any null values in either dataframes, but from the glimpse of the metadata dataframe, we can see a lot of empty cells. So we need to perform further data cleaning on the metadata dataframe by examining every column one by one.\n"
   ]
  },
  {
   "cell_type": "code",
   "execution_count": 76,
   "metadata": {
    "colab": {
     "base_uri": "https://localhost:8080/"
    },
    "id": "CsATE_Teno4B",
    "outputId": "01fdb5f4-2c16-48b4-f513-165d2ed875e1"
   },
   "outputs": [
    {
     "name": "stdout",
     "output_type": "stream",
     "text": [
      "Metadata dataframe:\n",
      "category           0\n",
      "tech1              0\n",
      "description        0\n",
      "fit                0\n",
      "title              0\n",
      "also_buy           0\n",
      "tech2              0\n",
      "brand              0\n",
      "feature            0\n",
      "rank               0\n",
      "also_view          0\n",
      "details            0\n",
      "main_cat           0\n",
      "similar_item       0\n",
      "date               0\n",
      "price              0\n",
      "asin               0\n",
      "imageURL           0\n",
      "imageURLHighRes    0\n",
      "dtype: int64\n",
      "\n",
      "Rating dataframe:\n",
      "item         0\n",
      "user         0\n",
      "rating       0\n",
      "timestamp    0\n",
      "dtype: int64\n"
     ]
    }
   ],
   "source": [
    "print('Metadata dataframe:')\n",
    "print(df_nodup.isnull().sum())\n",
    "print()\n",
    "print('Rating dataframe:')\n",
    "print(df_rating.isnull().sum())"
   ]
  },
  {
   "cell_type": "code",
   "execution_count": 77,
   "metadata": {
    "colab": {
     "base_uri": "https://localhost:8080/"
    },
    "id": "OFdqgsQOf_sW",
    "outputId": "065df21d-6375-433f-d490-1c39805ef384"
   },
   "outputs": [
    {
     "name": "stdout",
     "output_type": "stream",
     "text": [
      "Numbers of rows that have a valid category value:\n",
      "0\n",
      "Numbers of rows that have a non-empty tech1 value:\n",
      "0\n",
      "Numbers of rows that have a non-empty tech2 value:\n",
      "0\n",
      "Numbers of rows that have a non-empty fit value:\n",
      "0\n",
      "Numbers of rows that have a non-empty similar_item value:\n",
      "0\n",
      "Numbers of rows that have a non-empty date value:\n",
      "0\n"
     ]
    }
   ],
   "source": [
    "print(\"Numbers of rows that have a valid category value:\")\n",
    "print(len(df_nodup[df_nodup[\"category\"].str.len() != 0]))\n",
    "print(\"Numbers of rows that have a non-empty tech1 value:\")\n",
    "print(len(df_nodup[df_nodup[\"tech1\"].str.len() != 0]))\n",
    "print(\"Numbers of rows that have a non-empty tech2 value:\")\n",
    "print(len(df_nodup[df_nodup[\"tech2\"].str.len() != 0]))\n",
    "print(\"Numbers of rows that have a non-empty fit value:\")\n",
    "print(len(df_nodup[df_nodup[\"fit\"].str.len() != 0]))\n",
    "print(\"Numbers of rows that have a non-empty similar_item value:\")\n",
    "print(len(df_nodup[df_nodup[\"similar_item\"].str.len() != 0]))\n",
    "print(\"Numbers of rows that have a non-empty date value:\")\n",
    "print(len(df_nodup[df_nodup[\"date\"].str.len() != 0]))"
   ]
  },
  {
   "cell_type": "code",
   "execution_count": 78,
   "metadata": {
    "colab": {
     "base_uri": "https://localhost:8080/"
    },
    "id": "AQfRV4g5BTOw",
    "outputId": "5a6e17b3-7802-4d99-e90c-cb6aae2feacb"
   },
   "outputs": [
    {
     "name": "stdout",
     "output_type": "stream",
     "text": [
      "Numbers of rows that have a non-empty feature value:\n",
      "1036\n",
      "Numbers of rows that have a non-empty price value:\n",
      "6749\n",
      "Numbers of rows that have a non-empty imageURL value:\n",
      "9031\n",
      "Numbers of rows that have a non-empty imageURLHighRes value:\n",
      "9031\n"
     ]
    }
   ],
   "source": [
    "print(\"Numbers of rows that have a non-empty feature value:\")\n",
    "print(len(df_nodup[df_nodup[\"feature\"].str.len() != 0]))\n",
    "print(\"Numbers of rows that have a non-empty price value:\")\n",
    "print(len(df_nodup[df_nodup[\"price\"].str.len() != 0]))\n",
    "print(\"Numbers of rows that have a non-empty imageURL value:\")\n",
    "print(len(df_nodup[df_nodup[\"imageURL\"].str.len() != 0]))\n",
    "print(\"Numbers of rows that have a non-empty imageURLHighRes value:\")\n",
    "print(len(df_nodup[df_nodup[\"imageURLHighRes\"].str.len() != 0]))"
   ]
  },
  {
   "cell_type": "markdown",
   "metadata": {
    "id": "SrbNLG3HCL7w"
   },
   "source": [
    "After examination, we found that there are six columns of feature that are all empty, which we can exclude when doing EDA and data modeling."
   ]
  },
  {
   "cell_type": "code",
   "execution_count": 79,
   "metadata": {
    "colab": {
     "base_uri": "https://localhost:8080/"
    },
    "id": "hx4_cOKKCjYO",
    "outputId": "241af730-e946-4e47-b625-199e9c315dfe"
   },
   "outputs": [
    {
     "data": {
      "text/plain": [
       "(10812, 13)"
      ]
     },
     "execution_count": 79,
     "metadata": {},
     "output_type": "execute_result"
    }
   ],
   "source": [
    "df_noempty = df_nodup.copy()\n",
    "df_noempty = df_noempty.drop(['category', 'tech1', 'tech2', 'fit', 'similar_item', 'date'], axis = 1)\n",
    "df_noempty.shape"
   ]
  },
  {
   "cell_type": "markdown",
   "metadata": {
    "id": "gjSYOBJ-XjAh"
   },
   "source": [
    "### Dealing with unreadable and complex entries"
   ]
  },
  {
   "cell_type": "markdown",
   "metadata": {
    "id": "Zq1JSuMkNppT"
   },
   "source": [
    "Upon inspection, we found that some of value in the '*feature*' column are in the complicated format of `<span class=\"a-size-base a-color-secondary\">\\n real feature\\n </span> `, thus, we create a feature extraction function to reformat the value into clean and readable feature lists, and put them in the new '*feature_clean*' column."
   ]
  },
  {
   "cell_type": "code",
   "execution_count": 80,
   "metadata": {
    "colab": {
     "base_uri": "https://localhost:8080/"
    },
    "id": "157Z080NOlsT",
    "outputId": "74a62d95-e7d3-4da3-b445-ebf94c937ba7"
   },
   "outputs": [
    {
     "data": {
      "text/plain": [
       "['<span class=\"a-size-base a-color-secondary\">\\n                100% whole grain oats\\n            </span>',\n",
       " '<span class=\"a-size-base a-color-secondary\">\\n                Provides energy to help get you going\\n            </span>',\n",
       " '<span class=\"a-size-base a-color-secondary\">\\n                Good source of fiber\\n            </span>',\n",
       " '<span class=\"a-size-base a-color-secondary\">\\n                A healthy addition to many recipes\\n            </span>',\n",
       " '<span class=\"a-size-base a-color-secondary\">\\n                Soluble fiber helps lower cholesterol to support heart health**\\n            </span>',\n",
       " '<span class=\"a-size-base a-color-secondary\">\\n                **Consuming 3 grams of soluble fiber daily from oatmeal, in a diet low in saturated fat and cholesterol, may reduce the risk of heart disease.\\n            </span>']"
      ]
     },
     "execution_count": 80,
     "metadata": {},
     "output_type": "execute_result"
    }
   ],
   "source": [
    "df_noempty[\"feature\"].loc[22]"
   ]
  },
  {
   "cell_type": "code",
   "execution_count": 81,
   "metadata": {
    "id": "lTsG4a4OMu5P"
   },
   "outputs": [],
   "source": [
    "# A function that extract feature from original feature column and make it readable\n",
    "# input: original feature column value\n",
    "# output: new readable feature column value\n",
    "def extract_feature(feature_list):\n",
    "  res = []\n",
    "  if len(feature_list)==0:\n",
    "    return res\n",
    "  pattern = '<.*>'\n",
    "  for feature in feature_list:\n",
    "    extracted = re.sub(pattern, '', feature)\n",
    "    extracted = extracted.replace('\\n', '')\n",
    "    res.append(extracted.strip())\n",
    "  return res\n",
    "\n",
    "\n",
    "df_noempty[\"feature_clean\"] = df_noempty[\"feature\"].apply(lambda x: extract_feature(x))"
   ]
  },
  {
   "cell_type": "markdown",
   "metadata": {
    "id": "Qr5owECnkNuw"
   },
   "source": [
    "<hr style=\"border: 2px solid #fdb515;\" />"
   ]
  },
  {
   "cell_type": "markdown",
   "metadata": {
    "id": "AbQ36b2PP7Xc"
   },
   "source": [
    "For the '*rank*' column, we can see that there are empty cells as well as cells with value. For record with a rank message, the message is in the form of `rank number + \" in \" + rank category`, so we create two functions to seperatly extract these two values from the original '*rank*' column and put them into *rank_num* and *rank_cat* columns."
   ]
  },
  {
   "cell_type": "code",
   "execution_count": 82,
   "metadata": {},
   "outputs": [
    {
     "data": {
      "text/plain": [
       "0.09581945985941547"
      ]
     },
     "execution_count": 82,
     "metadata": {},
     "output_type": "execute_result"
    }
   ],
   "source": [
    "sum([len(x)>0 for x in df_noempty[\"feature_clean\"]]) / len(df_noempty)"
   ]
  },
  {
   "cell_type": "code",
   "execution_count": 83,
   "metadata": {
    "id": "3PYdA08wQB6X"
   },
   "outputs": [],
   "source": [
    "# Two functions that extract rank number and category from original rank column\n",
    "# input: original rank column value\n",
    "# output: rank number and rank column\n",
    "def extract_rank_num(rank_value):\n",
    "  if len(rank_value)==0:\n",
    "    return 0\n",
    "  num= rank_value.split(' in ')[0]\n",
    "  num = num.replace(',', '')\n",
    "  return int(num)\n",
    "\n",
    "def extract_rank_cat(rank_value):\n",
    "  if len(rank_value)==0:\n",
    "    return ''\n",
    "  cat = rank_value.split(' in ')[1]\n",
    "  cat = cat.replace(' (', '')\n",
    "  cat = cat.replace('&amp;', '&')\n",
    "  return cat\n",
    "\n",
    "\n",
    "df_noempty[\"rank_num\"] = df_noempty[\"rank\"].apply(lambda x: extract_rank_num(x))\n",
    "df_noempty[\"rank_cat\"] = df_noempty[\"rank\"].apply(lambda x: extract_rank_cat(x))"
   ]
  },
  {
   "cell_type": "markdown",
   "metadata": {
    "id": "mEWWh5esj2Zi"
   },
   "source": [
    "<hr style=\"border: 2px solid #fdb515;\" />"
   ]
  },
  {
   "cell_type": "markdown",
   "metadata": {
    "id": "1DZByoj8WQDI"
   },
   "source": [
    "For the '*price*' column, we can see that there are empty cells as well as cells with string value. We created a function to cast the string of price to float for future analysis and put them in the new '*price_num*' column. "
   ]
  },
  {
   "cell_type": "code",
   "execution_count": 84,
   "metadata": {
    "id": "VEw7IMxYctzE"
   },
   "outputs": [],
   "source": [
    "# A function that extract the price value from original price column\n",
    "# input: original price column value\n",
    "# output: price value in float number\n",
    "def extract_price(price):\n",
    "  if (len(price)==0) | ('$' not in price):\n",
    "    return np.NaN\n",
    "  price = price[1:]\n",
    "  return float(price)\n",
    "\n",
    "\n",
    "df_noempty[\"price_num\"] = df_noempty[\"price\"].apply(lambda x: extract_price(x))"
   ]
  },
  {
   "cell_type": "code",
   "execution_count": 85,
   "metadata": {},
   "outputs": [
    {
     "data": {
      "text/plain": [
       "0.3800406955234924"
      ]
     },
     "execution_count": 85,
     "metadata": {},
     "output_type": "execute_result"
    }
   ],
   "source": [
    "sum(df_noempty[\"price_num\"].isna())/len(df_noempty)"
   ]
  },
  {
   "cell_type": "code",
   "execution_count": 86,
   "metadata": {},
   "outputs": [],
   "source": [
    "df_noempty['price_num'] = df_noempty['price_num'].fillna(df_noempty['price_num'].mean())"
   ]
  },
  {
   "cell_type": "markdown",
   "metadata": {
    "id": "7MyHS16VkYpR"
   },
   "source": [
    "<hr style=\"border: 2px solid #fdb515;\" />"
   ]
  },
  {
   "cell_type": "markdown",
   "metadata": {
    "id": "VBcCfyDTey_E"
   },
   "source": [
    "At the end of data cleaning, we have a metadata dataframe that has 10812 entries with 17 columns of feature."
   ]
  },
  {
   "cell_type": "code",
   "execution_count": 87,
   "metadata": {
    "colab": {
     "base_uri": "https://localhost:8080/",
     "height": 617
    },
    "id": "spTZYc8WcwDU",
    "outputId": "99f6c894-e693-4c2c-c0f6-37409b4e7c67"
   },
   "outputs": [
    {
     "name": "stdout",
     "output_type": "stream",
     "text": [
      "(10812, 17)\n"
     ]
    },
    {
     "data": {
      "text/html": [
       "<div>\n",
       "<style scoped>\n",
       "    .dataframe tbody tr th:only-of-type {\n",
       "        vertical-align: middle;\n",
       "    }\n",
       "\n",
       "    .dataframe tbody tr th {\n",
       "        vertical-align: top;\n",
       "    }\n",
       "\n",
       "    .dataframe thead th {\n",
       "        text-align: right;\n",
       "    }\n",
       "</style>\n",
       "<table border=\"1\" class=\"dataframe\">\n",
       "  <thead>\n",
       "    <tr style=\"text-align: right;\">\n",
       "      <th></th>\n",
       "      <th>description</th>\n",
       "      <th>title</th>\n",
       "      <th>also_buy</th>\n",
       "      <th>brand</th>\n",
       "      <th>feature</th>\n",
       "      <th>rank</th>\n",
       "      <th>also_view</th>\n",
       "      <th>details</th>\n",
       "      <th>main_cat</th>\n",
       "      <th>price</th>\n",
       "      <th>asin</th>\n",
       "      <th>imageURL</th>\n",
       "      <th>imageURLHighRes</th>\n",
       "      <th>feature_clean</th>\n",
       "      <th>rank_num</th>\n",
       "      <th>rank_cat</th>\n",
       "      <th>price_num</th>\n",
       "    </tr>\n",
       "  </thead>\n",
       "  <tbody>\n",
       "    <tr>\n",
       "      <th>0</th>\n",
       "      <td>[Sink your sweet tooth into MILK DUDS Candya d...</td>\n",
       "      <td>HERSHEY'S Milk Duds Candy, 5 Ounce(Halloween C...</td>\n",
       "      <td>[B019KE37WO, B007NQSWEU]</td>\n",
       "      <td>Milk Duds</td>\n",
       "      <td>[]</td>\n",
       "      <td>[]</td>\n",
       "      <td>[]</td>\n",
       "      <td>{'ASIN: ': 'B00005BPJO', 'Item model number:':...</td>\n",
       "      <td>&lt;img src=\"https://m.media-amazon.com/images/G/...</td>\n",
       "      <td>$5.00</td>\n",
       "      <td>B00005BPJO</td>\n",
       "      <td>[https://images-na.ssl-images-amazon.com/image...</td>\n",
       "      <td>[https://images-na.ssl-images-amazon.com/image...</td>\n",
       "      <td>[]</td>\n",
       "      <td>0</td>\n",
       "      <td></td>\n",
       "      <td>5.000000</td>\n",
       "    </tr>\n",
       "    <tr>\n",
       "      <th>2</th>\n",
       "      <td>[A perfect Lentil soup starts with Goya Lentil...</td>\n",
       "      <td>Goya Dry Lentils, 16 oz</td>\n",
       "      <td>[B003SI144W, B000VDRKEK]</td>\n",
       "      <td>Goya</td>\n",
       "      <td>[]</td>\n",
       "      <td>[]</td>\n",
       "      <td>[B074MFVZG7, B079PTH69L, B000VDRKEK, B074M9T81...</td>\n",
       "      <td>{'ASIN: ': 'B0000DIF38'}</td>\n",
       "      <td>&lt;img src=\"https://images-na.ssl-images-amazon....</td>\n",
       "      <td></td>\n",
       "      <td>B0000DIF38</td>\n",
       "      <td>[https://images-na.ssl-images-amazon.com/image...</td>\n",
       "      <td>[https://images-na.ssl-images-amazon.com/image...</td>\n",
       "      <td>[]</td>\n",
       "      <td>0</td>\n",
       "      <td></td>\n",
       "      <td>7.421893</td>\n",
       "    </tr>\n",
       "    <tr>\n",
       "      <th>3</th>\n",
       "      <td>[Saran Premium Wrap is an extra tough yet easy...</td>\n",
       "      <td>Saran Premium Plastic Wrap, 100 Sq Ft</td>\n",
       "      <td>[B01MY5FHT6, B000PYF8VM, B000SRMDFA, B07CX6LN8...</td>\n",
       "      <td>Saran</td>\n",
       "      <td>[]</td>\n",
       "      <td>[]</td>\n",
       "      <td>[B077QLSLRQ, B00JPKW1RQ, B000FE2IK6, B00XUJHJ9...</td>\n",
       "      <td>{'Domestic Shipping: ': 'This item can only be...</td>\n",
       "      <td>&lt;img src=\"https://images-na.ssl-images-amazon....</td>\n",
       "      <td></td>\n",
       "      <td>B0000DIWNI</td>\n",
       "      <td>[https://images-na.ssl-images-amazon.com/image...</td>\n",
       "      <td>[https://images-na.ssl-images-amazon.com/image...</td>\n",
       "      <td>[]</td>\n",
       "      <td>0</td>\n",
       "      <td></td>\n",
       "      <td>7.421893</td>\n",
       "    </tr>\n",
       "    <tr>\n",
       "      <th>4</th>\n",
       "      <td>[200 sq ft (285 ft x 11-3/4 in x 18.6 m2). Eas...</td>\n",
       "      <td>Saran Cling Plus Plastic Wrap, 200 Sq Ft</td>\n",
       "      <td>[]</td>\n",
       "      <td>Saran</td>\n",
       "      <td>[]</td>\n",
       "      <td>[]</td>\n",
       "      <td>[B0014CZ0TE]</td>\n",
       "      <td>{'Domestic Shipping: ': 'This item can only be...</td>\n",
       "      <td>&lt;img src=\"https://images-na.ssl-images-amazon....</td>\n",
       "      <td></td>\n",
       "      <td>B0000DIWNZ</td>\n",
       "      <td>[https://images-na.ssl-images-amazon.com/image...</td>\n",
       "      <td>[https://images-na.ssl-images-amazon.com/image...</td>\n",
       "      <td>[]</td>\n",
       "      <td>0</td>\n",
       "      <td></td>\n",
       "      <td>7.421893</td>\n",
       "    </tr>\n",
       "    <tr>\n",
       "      <th>5</th>\n",
       "      <td>[Ibarra Chocolate, 19 Oz, , ]</td>\n",
       "      <td>Ibarra Mexican Chocolate, 19 oz</td>\n",
       "      <td>[B008MHKWLK]</td>\n",
       "      <td>Ibarra</td>\n",
       "      <td>[]</td>\n",
       "      <td>259,768 in Grocery &amp;amp; Gourmet Food (</td>\n",
       "      <td>[]</td>\n",
       "      <td>{'ASIN: ': 'B0000GH6UG', 'Item model number:':...</td>\n",
       "      <td>&lt;img src=\"https://images-na.ssl-images-amazon....</td>\n",
       "      <td></td>\n",
       "      <td>B0000GH6UG</td>\n",
       "      <td>[https://images-na.ssl-images-amazon.com/image...</td>\n",
       "      <td>[https://images-na.ssl-images-amazon.com/image...</td>\n",
       "      <td>[]</td>\n",
       "      <td>259768</td>\n",
       "      <td>Grocery &amp; Gourmet Food</td>\n",
       "      <td>7.421893</td>\n",
       "    </tr>\n",
       "  </tbody>\n",
       "</table>\n",
       "</div>"
      ],
      "text/plain": [
       "                                         description  \\\n",
       "0  [Sink your sweet tooth into MILK DUDS Candya d...   \n",
       "2  [A perfect Lentil soup starts with Goya Lentil...   \n",
       "3  [Saran Premium Wrap is an extra tough yet easy...   \n",
       "4  [200 sq ft (285 ft x 11-3/4 in x 18.6 m2). Eas...   \n",
       "5                      [Ibarra Chocolate, 19 Oz, , ]   \n",
       "\n",
       "                                               title  \\\n",
       "0  HERSHEY'S Milk Duds Candy, 5 Ounce(Halloween C...   \n",
       "2                            Goya Dry Lentils, 16 oz   \n",
       "3              Saran Premium Plastic Wrap, 100 Sq Ft   \n",
       "4           Saran Cling Plus Plastic Wrap, 200 Sq Ft   \n",
       "5                    Ibarra Mexican Chocolate, 19 oz   \n",
       "\n",
       "                                            also_buy      brand feature  \\\n",
       "0                           [B019KE37WO, B007NQSWEU]  Milk Duds      []   \n",
       "2                           [B003SI144W, B000VDRKEK]       Goya      []   \n",
       "3  [B01MY5FHT6, B000PYF8VM, B000SRMDFA, B07CX6LN8...      Saran      []   \n",
       "4                                                 []      Saran      []   \n",
       "5                                       [B008MHKWLK]     Ibarra      []   \n",
       "\n",
       "                                      rank  \\\n",
       "0                                       []   \n",
       "2                                       []   \n",
       "3                                       []   \n",
       "4                                       []   \n",
       "5  259,768 in Grocery &amp; Gourmet Food (   \n",
       "\n",
       "                                           also_view  \\\n",
       "0                                                 []   \n",
       "2  [B074MFVZG7, B079PTH69L, B000VDRKEK, B074M9T81...   \n",
       "3  [B077QLSLRQ, B00JPKW1RQ, B000FE2IK6, B00XUJHJ9...   \n",
       "4                                       [B0014CZ0TE]   \n",
       "5                                                 []   \n",
       "\n",
       "                                             details  \\\n",
       "0  {'ASIN: ': 'B00005BPJO', 'Item model number:':...   \n",
       "2                           {'ASIN: ': 'B0000DIF38'}   \n",
       "3  {'Domestic Shipping: ': 'This item can only be...   \n",
       "4  {'Domestic Shipping: ': 'This item can only be...   \n",
       "5  {'ASIN: ': 'B0000GH6UG', 'Item model number:':...   \n",
       "\n",
       "                                            main_cat  price        asin  \\\n",
       "0  <img src=\"https://m.media-amazon.com/images/G/...  $5.00  B00005BPJO   \n",
       "2  <img src=\"https://images-na.ssl-images-amazon....         B0000DIF38   \n",
       "3  <img src=\"https://images-na.ssl-images-amazon....         B0000DIWNI   \n",
       "4  <img src=\"https://images-na.ssl-images-amazon....         B0000DIWNZ   \n",
       "5  <img src=\"https://images-na.ssl-images-amazon....         B0000GH6UG   \n",
       "\n",
       "                                            imageURL  \\\n",
       "0  [https://images-na.ssl-images-amazon.com/image...   \n",
       "2  [https://images-na.ssl-images-amazon.com/image...   \n",
       "3  [https://images-na.ssl-images-amazon.com/image...   \n",
       "4  [https://images-na.ssl-images-amazon.com/image...   \n",
       "5  [https://images-na.ssl-images-amazon.com/image...   \n",
       "\n",
       "                                     imageURLHighRes feature_clean  rank_num  \\\n",
       "0  [https://images-na.ssl-images-amazon.com/image...            []         0   \n",
       "2  [https://images-na.ssl-images-amazon.com/image...            []         0   \n",
       "3  [https://images-na.ssl-images-amazon.com/image...            []         0   \n",
       "4  [https://images-na.ssl-images-amazon.com/image...            []         0   \n",
       "5  [https://images-na.ssl-images-amazon.com/image...            []    259768   \n",
       "\n",
       "                 rank_cat  price_num  \n",
       "0                           5.000000  \n",
       "2                           7.421893  \n",
       "3                           7.421893  \n",
       "4                           7.421893  \n",
       "5  Grocery & Gourmet Food   7.421893  "
      ]
     },
     "execution_count": 87,
     "metadata": {},
     "output_type": "execute_result"
    }
   ],
   "source": [
    "print(df_noempty.shape)\n",
    "df_noempty.head()"
   ]
  },
  {
   "cell_type": "markdown",
   "metadata": {
    "id": "-Aw73H1ljN86"
   },
   "source": [
    "# Exploratory Data Analysis"
   ]
  },
  {
   "cell_type": "markdown",
   "metadata": {
    "id": "H-YLb5PfsB3c"
   },
   "source": [
    "## Explore by product and rating"
   ]
  },
  {
   "cell_type": "markdown",
   "metadata": {
    "id": "CGbUI2rQoldC"
   },
   "source": [
    "For this part, we first start by exploring the rating datatset. Since every entry in this dataset is one rating review, we can group the dataframe by `item` and compute the average rating and how many rating it has for each product."
   ]
  },
  {
   "cell_type": "code",
   "execution_count": 88,
   "metadata": {
    "colab": {
     "base_uri": "https://localhost:8080/",
     "height": 394
    },
    "id": "4A8uRRjfoOcm",
    "outputId": "642cc55d-e4e6-41a7-b3b4-65fc08545574"
   },
   "outputs": [
    {
     "data": {
      "text/html": [
       "<div>\n",
       "<style scoped>\n",
       "    .dataframe tbody tr th:only-of-type {\n",
       "        vertical-align: middle;\n",
       "    }\n",
       "\n",
       "    .dataframe tbody tr th {\n",
       "        vertical-align: top;\n",
       "    }\n",
       "\n",
       "    .dataframe thead th {\n",
       "        text-align: right;\n",
       "    }\n",
       "</style>\n",
       "<table border=\"1\" class=\"dataframe\">\n",
       "  <thead>\n",
       "    <tr style=\"text-align: right;\">\n",
       "      <th></th>\n",
       "      <th>rating</th>\n",
       "      <th>rating_cnt</th>\n",
       "    </tr>\n",
       "    <tr>\n",
       "      <th>item</th>\n",
       "      <th></th>\n",
       "      <th></th>\n",
       "    </tr>\n",
       "  </thead>\n",
       "  <tbody>\n",
       "    <tr>\n",
       "      <th>B000VK5VJO</th>\n",
       "      <td>5.0</td>\n",
       "      <td>44</td>\n",
       "    </tr>\n",
       "    <tr>\n",
       "      <th>B016M2TC0S</th>\n",
       "      <td>5.0</td>\n",
       "      <td>26</td>\n",
       "    </tr>\n",
       "    <tr>\n",
       "      <th>B010NBK8HA</th>\n",
       "      <td>5.0</td>\n",
       "      <td>23</td>\n",
       "    </tr>\n",
       "    <tr>\n",
       "      <th>B00X7ZXX8Q</th>\n",
       "      <td>5.0</td>\n",
       "      <td>20</td>\n",
       "    </tr>\n",
       "    <tr>\n",
       "      <th>B016XR4BHG</th>\n",
       "      <td>5.0</td>\n",
       "      <td>20</td>\n",
       "    </tr>\n",
       "    <tr>\n",
       "      <th>B00Q8SWMIQ</th>\n",
       "      <td>5.0</td>\n",
       "      <td>18</td>\n",
       "    </tr>\n",
       "    <tr>\n",
       "      <th>B00J51RPVC</th>\n",
       "      <td>5.0</td>\n",
       "      <td>16</td>\n",
       "    </tr>\n",
       "    <tr>\n",
       "      <th>B00QKIHSVU</th>\n",
       "      <td>5.0</td>\n",
       "      <td>16</td>\n",
       "    </tr>\n",
       "    <tr>\n",
       "      <th>B01COSMQZC</th>\n",
       "      <td>5.0</td>\n",
       "      <td>16</td>\n",
       "    </tr>\n",
       "    <tr>\n",
       "      <th>B010NBQEV4</th>\n",
       "      <td>5.0</td>\n",
       "      <td>15</td>\n",
       "    </tr>\n",
       "  </tbody>\n",
       "</table>\n",
       "</div>"
      ],
      "text/plain": [
       "            rating  rating_cnt\n",
       "item                          \n",
       "B000VK5VJO     5.0          44\n",
       "B016M2TC0S     5.0          26\n",
       "B010NBK8HA     5.0          23\n",
       "B00X7ZXX8Q     5.0          20\n",
       "B016XR4BHG     5.0          20\n",
       "B00Q8SWMIQ     5.0          18\n",
       "B00J51RPVC     5.0          16\n",
       "B00QKIHSVU     5.0          16\n",
       "B01COSMQZC     5.0          16\n",
       "B010NBQEV4     5.0          15"
      ]
     },
     "execution_count": 88,
     "metadata": {},
     "output_type": "execute_result"
    }
   ],
   "source": [
    "df_rating_avg = df_rating[['item','rating', 'timestamp']].groupby('item').agg({'rating':'mean', 'timestamp':'count'})\n",
    "df_rating_avg = df_rating_avg.rename(columns={\"timestamp\": \"rating_cnt\"}).sort_values(by=['rating','rating_cnt'], ascending=False)\n",
    "df_rating_avg.head(10)"
   ]
  },
  {
   "cell_type": "code",
   "execution_count": 89,
   "metadata": {},
   "outputs": [],
   "source": [
    "df_rating_avg = df_rating_avg[df_rating_avg['rating_cnt']>5] # leave only products that have more than 5 ratings"
   ]
  },
  {
   "cell_type": "markdown",
   "metadata": {
    "id": "KJMWXjE_reN4"
   },
   "source": [
    "Now, we can join this table with the metadata to provide rating information for each product. Both the `asin` column in the metadata dataframe and the `item` column in the rating dataframe refers to the product id, so we can merge the two dataframe based on this value. After the merge, we can verify again that every product in the metadata has a valid rating value and rating counts.\n"
   ]
  },
  {
   "cell_type": "code",
   "execution_count": 90,
   "metadata": {
    "colab": {
     "base_uri": "https://localhost:8080/",
     "height": 947
    },
    "id": "n7OLnbaaqXmn",
    "outputId": "97200661-cb92-49b8-c422-6e55e44eef44"
   },
   "outputs": [
    {
     "name": "stdout",
     "output_type": "stream",
     "text": [
      "description        0\n",
      "title              0\n",
      "also_buy           0\n",
      "brand              0\n",
      "feature            0\n",
      "rank               0\n",
      "also_view          0\n",
      "details            0\n",
      "main_cat           0\n",
      "price              0\n",
      "asin               0\n",
      "imageURL           0\n",
      "imageURLHighRes    0\n",
      "feature_clean      0\n",
      "rank_num           0\n",
      "rank_cat           0\n",
      "price_num          0\n",
      "rating             0\n",
      "rating_cnt         0\n",
      "dtype: int64\n"
     ]
    },
    {
     "data": {
      "text/html": [
       "<div>\n",
       "<style scoped>\n",
       "    .dataframe tbody tr th:only-of-type {\n",
       "        vertical-align: middle;\n",
       "    }\n",
       "\n",
       "    .dataframe tbody tr th {\n",
       "        vertical-align: top;\n",
       "    }\n",
       "\n",
       "    .dataframe thead th {\n",
       "        text-align: right;\n",
       "    }\n",
       "</style>\n",
       "<table border=\"1\" class=\"dataframe\">\n",
       "  <thead>\n",
       "    <tr style=\"text-align: right;\">\n",
       "      <th></th>\n",
       "      <th>description</th>\n",
       "      <th>title</th>\n",
       "      <th>also_buy</th>\n",
       "      <th>brand</th>\n",
       "      <th>feature</th>\n",
       "      <th>rank</th>\n",
       "      <th>also_view</th>\n",
       "      <th>details</th>\n",
       "      <th>main_cat</th>\n",
       "      <th>price</th>\n",
       "      <th>asin</th>\n",
       "      <th>imageURL</th>\n",
       "      <th>imageURLHighRes</th>\n",
       "      <th>feature_clean</th>\n",
       "      <th>rank_num</th>\n",
       "      <th>rank_cat</th>\n",
       "      <th>price_num</th>\n",
       "      <th>rating</th>\n",
       "      <th>rating_cnt</th>\n",
       "    </tr>\n",
       "  </thead>\n",
       "  <tbody>\n",
       "    <tr>\n",
       "      <th>0</th>\n",
       "      <td>[Sink your sweet tooth into MILK DUDS Candya d...</td>\n",
       "      <td>HERSHEY'S Milk Duds Candy, 5 Ounce(Halloween C...</td>\n",
       "      <td>[B019KE37WO, B007NQSWEU]</td>\n",
       "      <td>Milk Duds</td>\n",
       "      <td>[]</td>\n",
       "      <td>[]</td>\n",
       "      <td>[]</td>\n",
       "      <td>{'ASIN: ': 'B00005BPJO', 'Item model number:':...</td>\n",
       "      <td>&lt;img src=\"https://m.media-amazon.com/images/G/...</td>\n",
       "      <td>$5.00</td>\n",
       "      <td>B00005BPJO</td>\n",
       "      <td>[https://images-na.ssl-images-amazon.com/image...</td>\n",
       "      <td>[https://images-na.ssl-images-amazon.com/image...</td>\n",
       "      <td>[]</td>\n",
       "      <td>0</td>\n",
       "      <td></td>\n",
       "      <td>5.000000</td>\n",
       "      <td>3.300000</td>\n",
       "      <td>10</td>\n",
       "    </tr>\n",
       "    <tr>\n",
       "      <th>1</th>\n",
       "      <td>[Saran Premium Wrap is an extra tough yet easy...</td>\n",
       "      <td>Saran Premium Plastic Wrap, 100 Sq Ft</td>\n",
       "      <td>[B01MY5FHT6, B000PYF8VM, B000SRMDFA, B07CX6LN8...</td>\n",
       "      <td>Saran</td>\n",
       "      <td>[]</td>\n",
       "      <td>[]</td>\n",
       "      <td>[B077QLSLRQ, B00JPKW1RQ, B000FE2IK6, B00XUJHJ9...</td>\n",
       "      <td>{'Domestic Shipping: ': 'This item can only be...</td>\n",
       "      <td>&lt;img src=\"https://images-na.ssl-images-amazon....</td>\n",
       "      <td></td>\n",
       "      <td>B0000DIWNI</td>\n",
       "      <td>[https://images-na.ssl-images-amazon.com/image...</td>\n",
       "      <td>[https://images-na.ssl-images-amazon.com/image...</td>\n",
       "      <td>[]</td>\n",
       "      <td>0</td>\n",
       "      <td></td>\n",
       "      <td>7.421893</td>\n",
       "      <td>4.062500</td>\n",
       "      <td>64</td>\n",
       "    </tr>\n",
       "    <tr>\n",
       "      <th>2</th>\n",
       "      <td>[200 sq ft (285 ft x 11-3/4 in x 18.6 m2). Eas...</td>\n",
       "      <td>Saran Cling Plus Plastic Wrap, 200 Sq Ft</td>\n",
       "      <td>[]</td>\n",
       "      <td>Saran</td>\n",
       "      <td>[]</td>\n",
       "      <td>[]</td>\n",
       "      <td>[B0014CZ0TE]</td>\n",
       "      <td>{'Domestic Shipping: ': 'This item can only be...</td>\n",
       "      <td>&lt;img src=\"https://images-na.ssl-images-amazon....</td>\n",
       "      <td></td>\n",
       "      <td>B0000DIWNZ</td>\n",
       "      <td>[https://images-na.ssl-images-amazon.com/image...</td>\n",
       "      <td>[https://images-na.ssl-images-amazon.com/image...</td>\n",
       "      <td>[]</td>\n",
       "      <td>0</td>\n",
       "      <td></td>\n",
       "      <td>7.421893</td>\n",
       "      <td>4.000000</td>\n",
       "      <td>20</td>\n",
       "    </tr>\n",
       "    <tr>\n",
       "      <th>3</th>\n",
       "      <td>[Ibarra Chocolate, 19 Oz, , ]</td>\n",
       "      <td>Ibarra Mexican Chocolate, 19 oz</td>\n",
       "      <td>[B008MHKWLK]</td>\n",
       "      <td>Ibarra</td>\n",
       "      <td>[]</td>\n",
       "      <td>259,768 in Grocery &amp;amp; Gourmet Food (</td>\n",
       "      <td>[]</td>\n",
       "      <td>{'ASIN: ': 'B0000GH6UG', 'Item model number:':...</td>\n",
       "      <td>&lt;img src=\"https://images-na.ssl-images-amazon....</td>\n",
       "      <td></td>\n",
       "      <td>B0000GH6UG</td>\n",
       "      <td>[https://images-na.ssl-images-amazon.com/image...</td>\n",
       "      <td>[https://images-na.ssl-images-amazon.com/image...</td>\n",
       "      <td>[]</td>\n",
       "      <td>259768</td>\n",
       "      <td>Grocery &amp; Gourmet Food</td>\n",
       "      <td>7.421893</td>\n",
       "      <td>3.959184</td>\n",
       "      <td>49</td>\n",
       "    </tr>\n",
       "    <tr>\n",
       "      <th>4</th>\n",
       "      <td>[Knorr Granulated Chicken Flavor Bouillon is a...</td>\n",
       "      <td>Knorr Granulated Bouillon, Chicken 15.9 oz</td>\n",
       "      <td>[]</td>\n",
       "      <td>Knorr</td>\n",
       "      <td>[]</td>\n",
       "      <td>372,929 in Grocery &amp; Gourmet Food (</td>\n",
       "      <td>[]</td>\n",
       "      <td>{'ASIN: ': 'B0000KC2BK', 'Item model number:':...</td>\n",
       "      <td>&lt;img src=\"https://images-na.ssl-images-amazon....</td>\n",
       "      <td>$3.09</td>\n",
       "      <td>B0000KC2BK</td>\n",
       "      <td>[https://images-na.ssl-images-amazon.com/image...</td>\n",
       "      <td>[https://images-na.ssl-images-amazon.com/image...</td>\n",
       "      <td>[]</td>\n",
       "      <td>372929</td>\n",
       "      <td>Grocery &amp; Gourmet Food</td>\n",
       "      <td>3.090000</td>\n",
       "      <td>5.000000</td>\n",
       "      <td>7</td>\n",
       "    </tr>\n",
       "  </tbody>\n",
       "</table>\n",
       "</div>"
      ],
      "text/plain": [
       "                                         description  \\\n",
       "0  [Sink your sweet tooth into MILK DUDS Candya d...   \n",
       "1  [Saran Premium Wrap is an extra tough yet easy...   \n",
       "2  [200 sq ft (285 ft x 11-3/4 in x 18.6 m2). Eas...   \n",
       "3                      [Ibarra Chocolate, 19 Oz, , ]   \n",
       "4  [Knorr Granulated Chicken Flavor Bouillon is a...   \n",
       "\n",
       "                                               title  \\\n",
       "0  HERSHEY'S Milk Duds Candy, 5 Ounce(Halloween C...   \n",
       "1              Saran Premium Plastic Wrap, 100 Sq Ft   \n",
       "2           Saran Cling Plus Plastic Wrap, 200 Sq Ft   \n",
       "3                    Ibarra Mexican Chocolate, 19 oz   \n",
       "4         Knorr Granulated Bouillon, Chicken 15.9 oz   \n",
       "\n",
       "                                            also_buy      brand feature  \\\n",
       "0                           [B019KE37WO, B007NQSWEU]  Milk Duds      []   \n",
       "1  [B01MY5FHT6, B000PYF8VM, B000SRMDFA, B07CX6LN8...      Saran      []   \n",
       "2                                                 []      Saran      []   \n",
       "3                                       [B008MHKWLK]     Ibarra      []   \n",
       "4                                                 []      Knorr      []   \n",
       "\n",
       "                                      rank  \\\n",
       "0                                       []   \n",
       "1                                       []   \n",
       "2                                       []   \n",
       "3  259,768 in Grocery &amp; Gourmet Food (   \n",
       "4      372,929 in Grocery & Gourmet Food (   \n",
       "\n",
       "                                           also_view  \\\n",
       "0                                                 []   \n",
       "1  [B077QLSLRQ, B00JPKW1RQ, B000FE2IK6, B00XUJHJ9...   \n",
       "2                                       [B0014CZ0TE]   \n",
       "3                                                 []   \n",
       "4                                                 []   \n",
       "\n",
       "                                             details  \\\n",
       "0  {'ASIN: ': 'B00005BPJO', 'Item model number:':...   \n",
       "1  {'Domestic Shipping: ': 'This item can only be...   \n",
       "2  {'Domestic Shipping: ': 'This item can only be...   \n",
       "3  {'ASIN: ': 'B0000GH6UG', 'Item model number:':...   \n",
       "4  {'ASIN: ': 'B0000KC2BK', 'Item model number:':...   \n",
       "\n",
       "                                            main_cat  price        asin  \\\n",
       "0  <img src=\"https://m.media-amazon.com/images/G/...  $5.00  B00005BPJO   \n",
       "1  <img src=\"https://images-na.ssl-images-amazon....         B0000DIWNI   \n",
       "2  <img src=\"https://images-na.ssl-images-amazon....         B0000DIWNZ   \n",
       "3  <img src=\"https://images-na.ssl-images-amazon....         B0000GH6UG   \n",
       "4  <img src=\"https://images-na.ssl-images-amazon....  $3.09  B0000KC2BK   \n",
       "\n",
       "                                            imageURL  \\\n",
       "0  [https://images-na.ssl-images-amazon.com/image...   \n",
       "1  [https://images-na.ssl-images-amazon.com/image...   \n",
       "2  [https://images-na.ssl-images-amazon.com/image...   \n",
       "3  [https://images-na.ssl-images-amazon.com/image...   \n",
       "4  [https://images-na.ssl-images-amazon.com/image...   \n",
       "\n",
       "                                     imageURLHighRes feature_clean  rank_num  \\\n",
       "0  [https://images-na.ssl-images-amazon.com/image...            []         0   \n",
       "1  [https://images-na.ssl-images-amazon.com/image...            []         0   \n",
       "2  [https://images-na.ssl-images-amazon.com/image...            []         0   \n",
       "3  [https://images-na.ssl-images-amazon.com/image...            []    259768   \n",
       "4  [https://images-na.ssl-images-amazon.com/image...            []    372929   \n",
       "\n",
       "                 rank_cat  price_num    rating  rating_cnt  \n",
       "0                           5.000000  3.300000          10  \n",
       "1                           7.421893  4.062500          64  \n",
       "2                           7.421893  4.000000          20  \n",
       "3  Grocery & Gourmet Food   7.421893  3.959184          49  \n",
       "4  Grocery & Gourmet Food   3.090000  5.000000           7  "
      ]
     },
     "execution_count": 90,
     "metadata": {},
     "output_type": "execute_result"
    }
   ],
   "source": [
    "df_clean = df_noempty.copy()\n",
    "df_clean = df_clean.merge(df_rating_avg, how = 'inner', left_on='asin', right_on='item')\n",
    "print(df_clean.isnull().sum())\n",
    "df_clean.head()"
   ]
  },
  {
   "cell_type": "code",
   "execution_count": 91,
   "metadata": {},
   "outputs": [
    {
     "data": {
      "text/plain": [
       "7817"
      ]
     },
     "execution_count": 91,
     "metadata": {},
     "output_type": "execute_result"
    }
   ],
   "source": [
    "len(df_clean)"
   ]
  },
  {
   "cell_type": "markdown",
   "metadata": {
    "id": "A15E0i5btXZM"
   },
   "source": [
    "Using the joined dataframe, we can explore what are som products that have highest rating number and most rating counts by sort the dataframe by `rating` and `rating_cnt`. If we sort by `rating` first, we can see that the top 10 products with highest rating all have a rating of 5.0, but the number of ratings is not high(below 50). However, if we sort by `rating_cnt` first, we can see that the top 10 products that has most ratings have a rating value in th range of 3.9-4.6, which is consistant with the real world experience."
   ]
  },
  {
   "cell_type": "code",
   "execution_count": 92,
   "metadata": {
    "colab": {
     "base_uri": "https://localhost:8080/",
     "height": 363
    },
    "id": "u_IdOCVgsPcl",
    "outputId": "d7162be6-b800-4c95-e6a8-161bcc0de050"
   },
   "outputs": [
    {
     "data": {
      "text/html": [
       "<div>\n",
       "<style scoped>\n",
       "    .dataframe tbody tr th:only-of-type {\n",
       "        vertical-align: middle;\n",
       "    }\n",
       "\n",
       "    .dataframe tbody tr th {\n",
       "        vertical-align: top;\n",
       "    }\n",
       "\n",
       "    .dataframe thead th {\n",
       "        text-align: right;\n",
       "    }\n",
       "</style>\n",
       "<table border=\"1\" class=\"dataframe\">\n",
       "  <thead>\n",
       "    <tr style=\"text-align: right;\">\n",
       "      <th></th>\n",
       "      <th>title</th>\n",
       "      <th>rating</th>\n",
       "      <th>rating_cnt</th>\n",
       "    </tr>\n",
       "  </thead>\n",
       "  <tbody>\n",
       "    <tr>\n",
       "      <th>284</th>\n",
       "      <td>Bob's Red Mill Organic Unbleached White Flour,...</td>\n",
       "      <td>5.0</td>\n",
       "      <td>44</td>\n",
       "    </tr>\n",
       "    <tr>\n",
       "      <th>5894</th>\n",
       "      <td>M&amp;amp;M'S Christmas Peanut Chocolate Candy Par...</td>\n",
       "      <td>5.0</td>\n",
       "      <td>26</td>\n",
       "    </tr>\n",
       "    <tr>\n",
       "      <th>4109</th>\n",
       "      <td>HERSHEY'S KISSES Chocolate Candy, 40 Ounce Bul...</td>\n",
       "      <td>5.0</td>\n",
       "      <td>23</td>\n",
       "    </tr>\n",
       "    <tr>\n",
       "      <th>3440</th>\n",
       "      <td>Barilla Pasta, Thick Spaghetti, 16 Ounce</td>\n",
       "      <td>5.0</td>\n",
       "      <td>20</td>\n",
       "    </tr>\n",
       "    <tr>\n",
       "      <th>5945</th>\n",
       "      <td>Plum Organics Mashups, Organic Kids Applesauce...</td>\n",
       "      <td>5.0</td>\n",
       "      <td>20</td>\n",
       "    </tr>\n",
       "    <tr>\n",
       "      <th>1811</th>\n",
       "      <td>M&amp;amp;M'S Milk Chocolate MINIS Size Candy 1.08...</td>\n",
       "      <td>5.0</td>\n",
       "      <td>18</td>\n",
       "    </tr>\n",
       "    <tr>\n",
       "      <th>910</th>\n",
       "      <td>Welch's Fruit Snacks, Mixed, 66 Count</td>\n",
       "      <td>5.0</td>\n",
       "      <td>16</td>\n",
       "    </tr>\n",
       "    <tr>\n",
       "      <th>1863</th>\n",
       "      <td>OxiClean Laundry Stain Remover Refill, 64 Oz</td>\n",
       "      <td>5.0</td>\n",
       "      <td>16</td>\n",
       "    </tr>\n",
       "    <tr>\n",
       "      <th>7002</th>\n",
       "      <td>Celestial Seasonings Tea, Bengal Spice, 60 Count</td>\n",
       "      <td>5.0</td>\n",
       "      <td>16</td>\n",
       "    </tr>\n",
       "    <tr>\n",
       "      <th>4142</th>\n",
       "      <td>Lindt Chocolate Lindor Truffles, Caramel Milk ...</td>\n",
       "      <td>5.0</td>\n",
       "      <td>15</td>\n",
       "    </tr>\n",
       "  </tbody>\n",
       "</table>\n",
       "</div>"
      ],
      "text/plain": [
       "                                                  title  rating  rating_cnt\n",
       "284   Bob's Red Mill Organic Unbleached White Flour,...     5.0          44\n",
       "5894  M&amp;M'S Christmas Peanut Chocolate Candy Par...     5.0          26\n",
       "4109  HERSHEY'S KISSES Chocolate Candy, 40 Ounce Bul...     5.0          23\n",
       "3440           Barilla Pasta, Thick Spaghetti, 16 Ounce     5.0          20\n",
       "5945  Plum Organics Mashups, Organic Kids Applesauce...     5.0          20\n",
       "1811  M&amp;M'S Milk Chocolate MINIS Size Candy 1.08...     5.0          18\n",
       "910               Welch's Fruit Snacks, Mixed, 66 Count     5.0          16\n",
       "1863       OxiClean Laundry Stain Remover Refill, 64 Oz     5.0          16\n",
       "7002   Celestial Seasonings Tea, Bengal Spice, 60 Count     5.0          16\n",
       "4142  Lindt Chocolate Lindor Truffles, Caramel Milk ...     5.0          15"
      ]
     },
     "execution_count": 92,
     "metadata": {},
     "output_type": "execute_result"
    }
   ],
   "source": [
    "rating_table = df_clean[['title', 'rating', 'rating_cnt']].sort_values(by=['rating','rating_cnt'], ascending=False)\n",
    "rating_table.head(10)"
   ]
  },
  {
   "cell_type": "code",
   "execution_count": 93,
   "metadata": {
    "colab": {
     "base_uri": "https://localhost:8080/",
     "height": 363
    },
    "id": "U1VCEZbTt6XL",
    "outputId": "640e155d-fbf5-413d-9478-3a4ab44eeac7"
   },
   "outputs": [
    {
     "data": {
      "text/html": [
       "<div>\n",
       "<style scoped>\n",
       "    .dataframe tbody tr th:only-of-type {\n",
       "        vertical-align: middle;\n",
       "    }\n",
       "\n",
       "    .dataframe tbody tr th {\n",
       "        vertical-align: top;\n",
       "    }\n",
       "\n",
       "    .dataframe thead th {\n",
       "        text-align: right;\n",
       "    }\n",
       "</style>\n",
       "<table border=\"1\" class=\"dataframe\">\n",
       "  <thead>\n",
       "    <tr style=\"text-align: right;\">\n",
       "      <th></th>\n",
       "      <th>title</th>\n",
       "      <th>rating</th>\n",
       "      <th>rating_cnt</th>\n",
       "    </tr>\n",
       "  </thead>\n",
       "  <tbody>\n",
       "    <tr>\n",
       "      <th>581</th>\n",
       "      <td>Crest 3D White Luxe Whitestrips Professional E...</td>\n",
       "      <td>4.160165</td>\n",
       "      <td>6537</td>\n",
       "    </tr>\n",
       "    <tr>\n",
       "      <th>3488</th>\n",
       "      <td>Twinings of London Pure Peppermint Herbal Tea ...</td>\n",
       "      <td>4.459861</td>\n",
       "      <td>6191</td>\n",
       "    </tr>\n",
       "    <tr>\n",
       "      <th>3179</th>\n",
       "      <td>Brooklyn Bean Roastery Bold Variety Pack Singl...</td>\n",
       "      <td>4.038080</td>\n",
       "      <td>5541</td>\n",
       "    </tr>\n",
       "    <tr>\n",
       "      <th>425</th>\n",
       "      <td>Planters Nutrition Cashews, Almonds, Macadania...</td>\n",
       "      <td>4.162693</td>\n",
       "      <td>4278</td>\n",
       "    </tr>\n",
       "    <tr>\n",
       "      <th>398</th>\n",
       "      <td>Mauna Loa Dry Roasted Macadamias, 6 Oz</td>\n",
       "      <td>4.543640</td>\n",
       "      <td>2956</td>\n",
       "    </tr>\n",
       "    <tr>\n",
       "      <th>548</th>\n",
       "      <td>Tide Original Scent HE Turbo Clean Liquid Laun...</td>\n",
       "      <td>4.409929</td>\n",
       "      <td>2115</td>\n",
       "    </tr>\n",
       "    <tr>\n",
       "      <th>728</th>\n",
       "      <td>Pure Protein 23 Grams, Vanilla Creme (4 Count,...</td>\n",
       "      <td>3.918129</td>\n",
       "      <td>2052</td>\n",
       "    </tr>\n",
       "    <tr>\n",
       "      <th>661</th>\n",
       "      <td>Viva Choose-A-Size Big Roll Paper Towels, 3 Count</td>\n",
       "      <td>4.148892</td>\n",
       "      <td>1941</td>\n",
       "    </tr>\n",
       "    <tr>\n",
       "      <th>326</th>\n",
       "      <td>Arm &amp;amp; Hammer Baking Soda, 64 Oz</td>\n",
       "      <td>4.529897</td>\n",
       "      <td>1940</td>\n",
       "    </tr>\n",
       "    <tr>\n",
       "      <th>644</th>\n",
       "      <td>Tom's of Maine Fluoride-Free Antiplaque and wh...</td>\n",
       "      <td>4.324134</td>\n",
       "      <td>1703</td>\n",
       "    </tr>\n",
       "  </tbody>\n",
       "</table>\n",
       "</div>"
      ],
      "text/plain": [
       "                                                  title    rating  rating_cnt\n",
       "581   Crest 3D White Luxe Whitestrips Professional E...  4.160165        6537\n",
       "3488  Twinings of London Pure Peppermint Herbal Tea ...  4.459861        6191\n",
       "3179  Brooklyn Bean Roastery Bold Variety Pack Singl...  4.038080        5541\n",
       "425   Planters Nutrition Cashews, Almonds, Macadania...  4.162693        4278\n",
       "398              Mauna Loa Dry Roasted Macadamias, 6 Oz  4.543640        2956\n",
       "548   Tide Original Scent HE Turbo Clean Liquid Laun...  4.409929        2115\n",
       "728   Pure Protein 23 Grams, Vanilla Creme (4 Count,...  3.918129        2052\n",
       "661   Viva Choose-A-Size Big Roll Paper Towels, 3 Count  4.148892        1941\n",
       "326                 Arm &amp; Hammer Baking Soda, 64 Oz  4.529897        1940\n",
       "644   Tom's of Maine Fluoride-Free Antiplaque and wh...  4.324134        1703"
      ]
     },
     "execution_count": 93,
     "metadata": {},
     "output_type": "execute_result"
    }
   ],
   "source": [
    "rating_cnt_table = df_clean[['title', 'rating', 'rating_cnt']].sort_values(by=['rating_cnt', 'rating'], ascending=False)\n",
    "rating_cnt_table.head(10)"
   ]
  },
  {
   "cell_type": "markdown",
   "metadata": {
    "id": "y7JteyhJjkPE"
   },
   "source": [
    "## Explore by brand & category\n",
    "Here we explore the distribution of data by brand and category. "
   ]
  },
  {
   "cell_type": "markdown",
   "metadata": {
    "id": "d8Aam6LWlYYQ"
   },
   "source": [
    "Below is the top 20 brands that have most products listed on Amazon Prime pantry. From the resluts, we can tell that some major brands are those producing food like Quaker and those producing common products like L'Oreal Paris."
   ]
  },
  {
   "cell_type": "code",
   "execution_count": 94,
   "metadata": {
    "colab": {
     "base_uri": "https://localhost:8080/",
     "height": 708
    },
    "id": "RKu8h0gUhXYU",
    "outputId": "093cae9b-beef-49fb-8a1f-505431110557"
   },
   "outputs": [
    {
     "data": {
      "text/html": [
       "<div>\n",
       "<style scoped>\n",
       "    .dataframe tbody tr th:only-of-type {\n",
       "        vertical-align: middle;\n",
       "    }\n",
       "\n",
       "    .dataframe tbody tr th {\n",
       "        vertical-align: top;\n",
       "    }\n",
       "\n",
       "    .dataframe thead th {\n",
       "        text-align: right;\n",
       "    }\n",
       "</style>\n",
       "<table border=\"1\" class=\"dataframe\">\n",
       "  <thead>\n",
       "    <tr style=\"text-align: right;\">\n",
       "      <th></th>\n",
       "      <th>count</th>\n",
       "    </tr>\n",
       "    <tr>\n",
       "      <th>brand</th>\n",
       "      <th></th>\n",
       "    </tr>\n",
       "  </thead>\n",
       "  <tbody>\n",
       "    <tr>\n",
       "      <th>L'Oreal Paris</th>\n",
       "      <td>127</td>\n",
       "    </tr>\n",
       "    <tr>\n",
       "      <th>Quaker</th>\n",
       "      <td>120</td>\n",
       "    </tr>\n",
       "    <tr>\n",
       "      <th>Garnier</th>\n",
       "      <td>89</td>\n",
       "    </tr>\n",
       "    <tr>\n",
       "      <th>Neutrogena</th>\n",
       "      <td>80</td>\n",
       "    </tr>\n",
       "    <tr>\n",
       "      <th>Nature Made</th>\n",
       "      <td>70</td>\n",
       "    </tr>\n",
       "    <tr>\n",
       "      <th>Barilla</th>\n",
       "      <td>70</td>\n",
       "    </tr>\n",
       "    <tr>\n",
       "      <th>Wellness Natural Pet Food</th>\n",
       "      <td>70</td>\n",
       "    </tr>\n",
       "    <tr>\n",
       "      <th>McCormick</th>\n",
       "      <td>64</td>\n",
       "    </tr>\n",
       "    <tr>\n",
       "      <th>Method</th>\n",
       "      <td>53</td>\n",
       "    </tr>\n",
       "    <tr>\n",
       "      <th>Campbell's</th>\n",
       "      <td>49</td>\n",
       "    </tr>\n",
       "    <tr>\n",
       "      <th>Planters</th>\n",
       "      <td>47</td>\n",
       "    </tr>\n",
       "    <tr>\n",
       "      <th>Aveeno</th>\n",
       "      <td>46</td>\n",
       "    </tr>\n",
       "    <tr>\n",
       "      <th>NOW Foods</th>\n",
       "      <td>46</td>\n",
       "    </tr>\n",
       "    <tr>\n",
       "      <th>Maybelline New York</th>\n",
       "      <td>41</td>\n",
       "    </tr>\n",
       "    <tr>\n",
       "      <th>COVERGIRL</th>\n",
       "      <td>41</td>\n",
       "    </tr>\n",
       "    <tr>\n",
       "      <th>Olay</th>\n",
       "      <td>41</td>\n",
       "    </tr>\n",
       "    <tr>\n",
       "      <th>Band-Aid</th>\n",
       "      <td>40</td>\n",
       "    </tr>\n",
       "    <tr>\n",
       "      <th>KIND</th>\n",
       "      <td>39</td>\n",
       "    </tr>\n",
       "    <tr>\n",
       "      <th>Blue Diamond Almonds</th>\n",
       "      <td>38</td>\n",
       "    </tr>\n",
       "    <tr>\n",
       "      <th>Twinings</th>\n",
       "      <td>38</td>\n",
       "    </tr>\n",
       "  </tbody>\n",
       "</table>\n",
       "</div>"
      ],
      "text/plain": [
       "                           count\n",
       "brand                           \n",
       "L'Oreal Paris                127\n",
       "Quaker                       120\n",
       "Garnier                       89\n",
       "Neutrogena                    80\n",
       "Nature Made                   70\n",
       "Barilla                       70\n",
       "Wellness Natural Pet Food     70\n",
       "McCormick                     64\n",
       "Method                        53\n",
       "Campbell's                    49\n",
       "Planters                      47\n",
       "Aveeno                        46\n",
       "NOW Foods                     46\n",
       "Maybelline New York           41\n",
       "COVERGIRL                     41\n",
       "Olay                          41\n",
       "Band-Aid                      40\n",
       "KIND                          39\n",
       "Blue Diamond Almonds          38\n",
       "Twinings                      38"
      ]
     },
     "execution_count": 94,
     "metadata": {},
     "output_type": "execute_result"
    }
   ],
   "source": [
    "df_brand = df_clean[['brand','title']].groupby('brand').count()\n",
    "df_brand = df_brand.rename(columns={\"title\": \"count\"})\n",
    "df_brand = df_brand.sort_values(by='count', ascending=False)\n",
    "df_brand.head(20)"
   ]
  },
  {
   "cell_type": "markdown",
   "metadata": {
    "id": "QYX4Z-sfm3Lf"
   },
   "source": [
    "Since we do have a category feature that is previously extracted from the rank column, we can seperate the products based on which ranking category it is in. It's obvious that among the products that has a ranking category, the majority of the products are grocery & gourmet food, and a small subset of them are from the Amazon Launchpad category."
   ]
  },
  {
   "cell_type": "code",
   "execution_count": 95,
   "metadata": {
    "colab": {
     "base_uri": "https://localhost:8080/",
     "height": 175
    },
    "id": "JM1JaIDGmKww",
    "outputId": "b1e6ee3f-1206-47af-a817-b7ea86bff786"
   },
   "outputs": [
    {
     "data": {
      "text/html": [
       "<div>\n",
       "<style scoped>\n",
       "    .dataframe tbody tr th:only-of-type {\n",
       "        vertical-align: middle;\n",
       "    }\n",
       "\n",
       "    .dataframe tbody tr th {\n",
       "        vertical-align: top;\n",
       "    }\n",
       "\n",
       "    .dataframe thead th {\n",
       "        text-align: right;\n",
       "    }\n",
       "</style>\n",
       "<table border=\"1\" class=\"dataframe\">\n",
       "  <thead>\n",
       "    <tr style=\"text-align: right;\">\n",
       "      <th></th>\n",
       "      <th>brand</th>\n",
       "    </tr>\n",
       "    <tr>\n",
       "      <th>rank_cat</th>\n",
       "      <th></th>\n",
       "    </tr>\n",
       "  </thead>\n",
       "  <tbody>\n",
       "    <tr>\n",
       "      <th></th>\n",
       "      <td>4062</td>\n",
       "    </tr>\n",
       "    <tr>\n",
       "      <th>Amazon Launchpad</th>\n",
       "      <td>43</td>\n",
       "    </tr>\n",
       "    <tr>\n",
       "      <th>Grocery &amp; Gourmet Food</th>\n",
       "      <td>3712</td>\n",
       "    </tr>\n",
       "  </tbody>\n",
       "</table>\n",
       "</div>"
      ],
      "text/plain": [
       "                        brand\n",
       "rank_cat                     \n",
       "                         4062\n",
       "Amazon Launchpad           43\n",
       "Grocery & Gourmet Food   3712"
      ]
     },
     "execution_count": 95,
     "metadata": {},
     "output_type": "execute_result"
    }
   ],
   "source": [
    "df_clean[['brand', 'rank_cat']].groupby('rank_cat').count()"
   ]
  },
  {
   "cell_type": "markdown",
   "metadata": {
    "id": "81qQyEelpAVC"
   },
   "source": [
    "Thus, to find out the top brands who has the most products listed in the **Grocery & Gourmet Food** category, we can wrangle the data by filtering out any products that doesn't have a rank category listed as \"Grocery & Gourmet Food\", and then group by th brand again to see the top 10 brands.\n",
    "\n",
    "One interesting finding is that, comparing the two count table, we can see the count number can be different for the same brand. And that's because there are some products that produced by the same brand but they do not have the ranking information in the original dataset."
   ]
  },
  {
   "cell_type": "code",
   "execution_count": 96,
   "metadata": {
    "colab": {
     "base_uri": "https://localhost:8080/",
     "height": 394
    },
    "id": "1-nnDUj-n72I",
    "outputId": "0c5e3b39-81fc-4248-a4c2-bc4059e126d6"
   },
   "outputs": [
    {
     "data": {
      "text/html": [
       "<div>\n",
       "<style scoped>\n",
       "    .dataframe tbody tr th:only-of-type {\n",
       "        vertical-align: middle;\n",
       "    }\n",
       "\n",
       "    .dataframe tbody tr th {\n",
       "        vertical-align: top;\n",
       "    }\n",
       "\n",
       "    .dataframe thead th {\n",
       "        text-align: right;\n",
       "    }\n",
       "</style>\n",
       "<table border=\"1\" class=\"dataframe\">\n",
       "  <thead>\n",
       "    <tr style=\"text-align: right;\">\n",
       "      <th></th>\n",
       "      <th>count</th>\n",
       "    </tr>\n",
       "    <tr>\n",
       "      <th>brand</th>\n",
       "      <th></th>\n",
       "    </tr>\n",
       "  </thead>\n",
       "  <tbody>\n",
       "    <tr>\n",
       "      <th>Quaker</th>\n",
       "      <td>108</td>\n",
       "    </tr>\n",
       "    <tr>\n",
       "      <th>Barilla</th>\n",
       "      <td>69</td>\n",
       "    </tr>\n",
       "    <tr>\n",
       "      <th>McCormick</th>\n",
       "      <td>63</td>\n",
       "    </tr>\n",
       "    <tr>\n",
       "      <th>Campbell's</th>\n",
       "      <td>49</td>\n",
       "    </tr>\n",
       "    <tr>\n",
       "      <th>Planters</th>\n",
       "      <td>46</td>\n",
       "    </tr>\n",
       "    <tr>\n",
       "      <th>Twinings</th>\n",
       "      <td>38</td>\n",
       "    </tr>\n",
       "    <tr>\n",
       "      <th>Betty Crocker</th>\n",
       "      <td>34</td>\n",
       "    </tr>\n",
       "    <tr>\n",
       "      <th>Traditional Medicinals</th>\n",
       "      <td>34</td>\n",
       "    </tr>\n",
       "    <tr>\n",
       "      <th>Jell-O</th>\n",
       "      <td>33</td>\n",
       "    </tr>\n",
       "    <tr>\n",
       "      <th>KIND</th>\n",
       "      <td>32</td>\n",
       "    </tr>\n",
       "  </tbody>\n",
       "</table>\n",
       "</div>"
      ],
      "text/plain": [
       "                        count\n",
       "brand                        \n",
       "Quaker                    108\n",
       "Barilla                    69\n",
       "McCormick                  63\n",
       "Campbell's                 49\n",
       "Planters                   46\n",
       "Twinings                   38\n",
       "Betty Crocker              34\n",
       "Traditional Medicinals     34\n",
       "Jell-O                     33\n",
       "KIND                       32"
      ]
     },
     "execution_count": 96,
     "metadata": {},
     "output_type": "execute_result"
    }
   ],
   "source": [
    "df_brand_food = df_clean.loc[df_clean['rank_cat']=='Grocery & Gourmet Food', ['brand', 'title']].groupby('brand').count()\n",
    "df_brand_food = df_brand_food.rename(columns={\"title\": \"count\"}).sort_values(by='count', ascending=False).head(10)\n",
    "df_brand_food.head(20)"
   ]
  },
  {
   "cell_type": "markdown",
   "metadata": {
    "id": "VBL58x1itBj4"
   },
   "source": [
    "Using similar method, we can explore the top brands in the Amazon Launchpad category or not have a category listed. "
   ]
  },
  {
   "cell_type": "code",
   "execution_count": 97,
   "metadata": {
    "colab": {
     "base_uri": "https://localhost:8080/",
     "height": 394
    },
    "id": "sWxHKzfrtCe6",
    "outputId": "be9a1c3d-133f-456f-8b1c-5f0e2b5f9caf"
   },
   "outputs": [
    {
     "data": {
      "text/html": [
       "<div>\n",
       "<style scoped>\n",
       "    .dataframe tbody tr th:only-of-type {\n",
       "        vertical-align: middle;\n",
       "    }\n",
       "\n",
       "    .dataframe tbody tr th {\n",
       "        vertical-align: top;\n",
       "    }\n",
       "\n",
       "    .dataframe thead th {\n",
       "        text-align: right;\n",
       "    }\n",
       "</style>\n",
       "<table border=\"1\" class=\"dataframe\">\n",
       "  <thead>\n",
       "    <tr style=\"text-align: right;\">\n",
       "      <th></th>\n",
       "      <th>count</th>\n",
       "    </tr>\n",
       "    <tr>\n",
       "      <th>brand</th>\n",
       "      <th></th>\n",
       "    </tr>\n",
       "  </thead>\n",
       "  <tbody>\n",
       "    <tr>\n",
       "      <th>L'Oreal Paris</th>\n",
       "      <td>127</td>\n",
       "    </tr>\n",
       "    <tr>\n",
       "      <th>Garnier</th>\n",
       "      <td>89</td>\n",
       "    </tr>\n",
       "    <tr>\n",
       "      <th>Neutrogena</th>\n",
       "      <td>80</td>\n",
       "    </tr>\n",
       "    <tr>\n",
       "      <th>Nature Made</th>\n",
       "      <td>70</td>\n",
       "    </tr>\n",
       "    <tr>\n",
       "      <th>Wellness Natural Pet Food</th>\n",
       "      <td>70</td>\n",
       "    </tr>\n",
       "    <tr>\n",
       "      <th>Method</th>\n",
       "      <td>53</td>\n",
       "    </tr>\n",
       "    <tr>\n",
       "      <th>Aveeno</th>\n",
       "      <td>46</td>\n",
       "    </tr>\n",
       "    <tr>\n",
       "      <th>COVERGIRL</th>\n",
       "      <td>41</td>\n",
       "    </tr>\n",
       "    <tr>\n",
       "      <th>Olay</th>\n",
       "      <td>41</td>\n",
       "    </tr>\n",
       "    <tr>\n",
       "      <th>Maybelline New York</th>\n",
       "      <td>41</td>\n",
       "    </tr>\n",
       "  </tbody>\n",
       "</table>\n",
       "</div>"
      ],
      "text/plain": [
       "                           count\n",
       "brand                           \n",
       "L'Oreal Paris                127\n",
       "Garnier                       89\n",
       "Neutrogena                    80\n",
       "Nature Made                   70\n",
       "Wellness Natural Pet Food     70\n",
       "Method                        53\n",
       "Aveeno                        46\n",
       "COVERGIRL                     41\n",
       "Olay                          41\n",
       "Maybelline New York           41"
      ]
     },
     "execution_count": 97,
     "metadata": {},
     "output_type": "execute_result"
    }
   ],
   "source": [
    "df_brand_nocat = df_clean.loc[df_clean['rank_cat']=='', ['brand', 'title']].groupby('brand').count()\n",
    "df_brand_nocat = df_brand_nocat.rename(columns={\"title\": \"count\"}).sort_values(by='count', ascending=False).head(10)\n",
    "df_brand_nocat.head(20)"
   ]
  },
  {
   "cell_type": "markdown",
   "metadata": {
    "id": "qeZRtW3Xtb4e"
   },
   "source": [
    "From the table above, we ca see that most of the top brands that don't have a ranking category are those produce common products like shampoo, cosmetics, supplements, etc."
   ]
  },
  {
   "cell_type": "code",
   "execution_count": 98,
   "metadata": {
    "colab": {
     "base_uri": "https://localhost:8080/",
     "height": 394
    },
    "id": "KYppCiaMssu6",
    "outputId": "76dca986-f24b-4e6a-bb94-022c66b7514a"
   },
   "outputs": [
    {
     "data": {
      "text/html": [
       "<div>\n",
       "<style scoped>\n",
       "    .dataframe tbody tr th:only-of-type {\n",
       "        vertical-align: middle;\n",
       "    }\n",
       "\n",
       "    .dataframe tbody tr th {\n",
       "        vertical-align: top;\n",
       "    }\n",
       "\n",
       "    .dataframe thead th {\n",
       "        text-align: right;\n",
       "    }\n",
       "</style>\n",
       "<table border=\"1\" class=\"dataframe\">\n",
       "  <thead>\n",
       "    <tr style=\"text-align: right;\">\n",
       "      <th></th>\n",
       "      <th>count</th>\n",
       "    </tr>\n",
       "    <tr>\n",
       "      <th>brand</th>\n",
       "      <th></th>\n",
       "    </tr>\n",
       "  </thead>\n",
       "  <tbody>\n",
       "    <tr>\n",
       "      <th>Vega</th>\n",
       "      <td>11</td>\n",
       "    </tr>\n",
       "    <tr>\n",
       "      <th>purely elizabeth</th>\n",
       "      <td>7</td>\n",
       "    </tr>\n",
       "    <tr>\n",
       "      <th>Health Warrior</th>\n",
       "      <td>6</td>\n",
       "    </tr>\n",
       "    <tr>\n",
       "      <th>Quest Nutrition</th>\n",
       "      <td>5</td>\n",
       "    </tr>\n",
       "    <tr>\n",
       "      <th>RoC</th>\n",
       "      <td>4</td>\n",
       "    </tr>\n",
       "    <tr>\n",
       "      <th>SmartyPants Gummy Vitamins</th>\n",
       "      <td>3</td>\n",
       "    </tr>\n",
       "    <tr>\n",
       "      <th>Back to the Roots</th>\n",
       "      <td>2</td>\n",
       "    </tr>\n",
       "    <tr>\n",
       "      <th>Vermont Smoke and Cure</th>\n",
       "      <td>2</td>\n",
       "    </tr>\n",
       "    <tr>\n",
       "      <th>Babyganics</th>\n",
       "      <td>1</td>\n",
       "    </tr>\n",
       "    <tr>\n",
       "      <th>Grab Green</th>\n",
       "      <td>1</td>\n",
       "    </tr>\n",
       "  </tbody>\n",
       "</table>\n",
       "</div>"
      ],
      "text/plain": [
       "                            count\n",
       "brand                            \n",
       "Vega                           11\n",
       "purely elizabeth                7\n",
       "Health Warrior                  6\n",
       "Quest Nutrition                 5\n",
       "RoC                             4\n",
       "SmartyPants Gummy Vitamins      3\n",
       "Back to the Roots               2\n",
       "Vermont Smoke and Cure          2\n",
       "Babyganics                      1\n",
       "Grab Green                      1"
      ]
     },
     "execution_count": 98,
     "metadata": {},
     "output_type": "execute_result"
    }
   ],
   "source": [
    "df_brand_launch = df_clean.loc[df_clean['rank_cat']=='Amazon Launchpad', ['brand', 'title']].groupby('brand').count()\n",
    "df_brand_launch = df_brand_launch.rename(columns={\"title\": \"count\"}).sort_values(by='count', ascending=False).head(10)\n",
    "df_brand_launch.head(20)"
   ]
  },
  {
   "cell_type": "markdown",
   "metadata": {
    "id": "thlrW0U9scJY"
   },
   "source": [
    "Upon further research, we found out that Amazon Launchpad is a supplemental program designed to jumpstart and accelerate small business. Their program is designed with startups in mind and to help drive brand awareness. Thus, it makes sense that even the top brands in thi category don't have a lot of products for sale."
   ]
  },
  {
   "cell_type": "markdown",
   "metadata": {
    "id": "tW0q8ZeBuzW6"
   },
   "source": [
    "## Explore by brand & price\n",
    "Another interesting correlation we can explore is the relationship between brand and price."
   ]
  },
  {
   "cell_type": "markdown",
   "metadata": {
    "id": "pxDca_02wNOo"
   },
   "source": [
    "First, we will filter out those products that don't have the price value, and then group them by brand to get average product price. \n",
    "\n",
    "From the first table below, we can see the top 10 brands that has the highest product price, which mostly sell coffee and supplement, consistant with real life experience. The second table contains the 10 brands that has the lowest product price, mostly brands of condiments and spices which also makes sense."
   ]
  },
  {
   "cell_type": "code",
   "execution_count": 99,
   "metadata": {
    "colab": {
     "base_uri": "https://localhost:8080/",
     "height": 394
    },
    "id": "mj-NO3gxvGwD",
    "outputId": "d17ca2a0-dc6e-40dd-b500-38d521812ffc"
   },
   "outputs": [
    {
     "data": {
      "text/html": [
       "<div>\n",
       "<style scoped>\n",
       "    .dataframe tbody tr th:only-of-type {\n",
       "        vertical-align: middle;\n",
       "    }\n",
       "\n",
       "    .dataframe tbody tr th {\n",
       "        vertical-align: top;\n",
       "    }\n",
       "\n",
       "    .dataframe thead th {\n",
       "        text-align: right;\n",
       "    }\n",
       "</style>\n",
       "<table border=\"1\" class=\"dataframe\">\n",
       "  <thead>\n",
       "    <tr style=\"text-align: right;\">\n",
       "      <th></th>\n",
       "      <th>average price</th>\n",
       "    </tr>\n",
       "    <tr>\n",
       "      <th>brand</th>\n",
       "      <th></th>\n",
       "    </tr>\n",
       "  </thead>\n",
       "  <tbody>\n",
       "    <tr>\n",
       "      <th>alli</th>\n",
       "      <td>62.990000</td>\n",
       "    </tr>\n",
       "    <tr>\n",
       "      <th>Panasonic</th>\n",
       "      <td>53.436667</td>\n",
       "    </tr>\n",
       "    <tr>\n",
       "      <th>Isopure</th>\n",
       "      <td>39.890000</td>\n",
       "    </tr>\n",
       "    <tr>\n",
       "      <th>BSN INC.</th>\n",
       "      <td>38.920000</td>\n",
       "    </tr>\n",
       "    <tr>\n",
       "      <th>Enfamil Enspire</th>\n",
       "      <td>38.760000</td>\n",
       "    </tr>\n",
       "    <tr>\n",
       "      <th>Caza Trail</th>\n",
       "      <td>37.660000</td>\n",
       "    </tr>\n",
       "    <tr>\n",
       "      <th>Blue Emu</th>\n",
       "      <td>33.500000</td>\n",
       "    </tr>\n",
       "    <tr>\n",
       "      <th>Enfamil Newborn</th>\n",
       "      <td>33.485000</td>\n",
       "    </tr>\n",
       "    <tr>\n",
       "      <th>Good Seasons</th>\n",
       "      <td>33.360000</td>\n",
       "    </tr>\n",
       "    <tr>\n",
       "      <th>Waterpik</th>\n",
       "      <td>32.745000</td>\n",
       "    </tr>\n",
       "  </tbody>\n",
       "</table>\n",
       "</div>"
      ],
      "text/plain": [
       "                 average price\n",
       "brand                         \n",
       "alli                 62.990000\n",
       "Panasonic            53.436667\n",
       "Isopure              39.890000\n",
       "BSN INC.             38.920000\n",
       "Enfamil Enspire      38.760000\n",
       "Caza Trail           37.660000\n",
       "Blue Emu             33.500000\n",
       "Enfamil Newborn      33.485000\n",
       "Good Seasons         33.360000\n",
       "Waterpik             32.745000"
      ]
     },
     "execution_count": 99,
     "metadata": {},
     "output_type": "execute_result"
    }
   ],
   "source": [
    "df_price = df_clean.loc[df_clean['price_num']>0,['brand','price_num']].groupby('brand').agg('mean')\n",
    "df_price = df_price.rename(columns={\"price_num\": \"average price\"})\n",
    "df_price = df_price.sort_values(by='average price', ascending=False)\n",
    "df_price.head(10)"
   ]
  },
  {
   "cell_type": "code",
   "execution_count": 100,
   "metadata": {
    "colab": {
     "base_uri": "https://localhost:8080/",
     "height": 394
    },
    "id": "BXaKC19nv_tn",
    "outputId": "33438f03-c6cf-4119-f348-0fe03002cd97"
   },
   "outputs": [
    {
     "data": {
      "text/html": [
       "<div>\n",
       "<style scoped>\n",
       "    .dataframe tbody tr th:only-of-type {\n",
       "        vertical-align: middle;\n",
       "    }\n",
       "\n",
       "    .dataframe tbody tr th {\n",
       "        vertical-align: top;\n",
       "    }\n",
       "\n",
       "    .dataframe thead th {\n",
       "        text-align: right;\n",
       "    }\n",
       "</style>\n",
       "<table border=\"1\" class=\"dataframe\">\n",
       "  <thead>\n",
       "    <tr style=\"text-align: right;\">\n",
       "      <th></th>\n",
       "      <th>average price</th>\n",
       "    </tr>\n",
       "    <tr>\n",
       "      <th>brand</th>\n",
       "      <th></th>\n",
       "    </tr>\n",
       "  </thead>\n",
       "  <tbody>\n",
       "    <tr>\n",
       "      <th>Kraft Sauce</th>\n",
       "      <td>1.285000</td>\n",
       "    </tr>\n",
       "    <tr>\n",
       "      <th>Swan</th>\n",
       "      <td>1.220000</td>\n",
       "    </tr>\n",
       "    <tr>\n",
       "      <th>ReaLemon</th>\n",
       "      <td>1.210000</td>\n",
       "    </tr>\n",
       "    <tr>\n",
       "      <th>Glico</th>\n",
       "      <td>1.170000</td>\n",
       "    </tr>\n",
       "    <tr>\n",
       "      <th>S&amp;W</th>\n",
       "      <td>1.100000</td>\n",
       "    </tr>\n",
       "    <tr>\n",
       "      <th>Idahoan</th>\n",
       "      <td>1.036667</td>\n",
       "    </tr>\n",
       "    <tr>\n",
       "      <th>Elmer's</th>\n",
       "      <td>0.990000</td>\n",
       "    </tr>\n",
       "    <tr>\n",
       "      <th>Pasta Roni</th>\n",
       "      <td>0.980000</td>\n",
       "    </tr>\n",
       "    <tr>\n",
       "      <th>Bazic</th>\n",
       "      <td>0.960000</td>\n",
       "    </tr>\n",
       "    <tr>\n",
       "      <th>FantaSea</th>\n",
       "      <td>0.870000</td>\n",
       "    </tr>\n",
       "  </tbody>\n",
       "</table>\n",
       "</div>"
      ],
      "text/plain": [
       "             average price\n",
       "brand                     \n",
       "Kraft Sauce       1.285000\n",
       "Swan              1.220000\n",
       "ReaLemon          1.210000\n",
       "Glico             1.170000\n",
       "S&W               1.100000\n",
       "Idahoan           1.036667\n",
       "Elmer's           0.990000\n",
       "Pasta Roni        0.980000\n",
       "Bazic             0.960000\n",
       "FantaSea          0.870000"
      ]
     },
     "execution_count": 100,
     "metadata": {},
     "output_type": "execute_result"
    }
   ],
   "source": [
    "df_price.tail(10)"
   ]
  },
  {
   "cell_type": "code",
   "execution_count": 101,
   "metadata": {
    "colab": {
     "base_uri": "https://localhost:8080/",
     "height": 455
    },
    "id": "0XBo3M46xssl",
    "outputId": "559dab16-d802-4198-c82b-971085072f2c"
   },
   "outputs": [
    {
     "data": {
      "text/html": [
       "<div>\n",
       "<style scoped>\n",
       "    .dataframe tbody tr th:only-of-type {\n",
       "        vertical-align: middle;\n",
       "    }\n",
       "\n",
       "    .dataframe tbody tr th {\n",
       "        vertical-align: top;\n",
       "    }\n",
       "\n",
       "    .dataframe thead th {\n",
       "        text-align: right;\n",
       "    }\n",
       "</style>\n",
       "<table border=\"1\" class=\"dataframe\">\n",
       "  <thead>\n",
       "    <tr style=\"text-align: right;\">\n",
       "      <th></th>\n",
       "      <th>average price</th>\n",
       "    </tr>\n",
       "    <tr>\n",
       "      <th>brand</th>\n",
       "      <th></th>\n",
       "    </tr>\n",
       "  </thead>\n",
       "  <tbody>\n",
       "    <tr>\n",
       "      <th>Garden of Life</th>\n",
       "      <td>112.99</td>\n",
       "    </tr>\n",
       "    <tr>\n",
       "      <th>Panasonic</th>\n",
       "      <td>106.35</td>\n",
       "    </tr>\n",
       "    <tr>\n",
       "      <th>Optimum Nutrition</th>\n",
       "      <td>97.42</td>\n",
       "    </tr>\n",
       "    <tr>\n",
       "      <th>alli</th>\n",
       "      <td>62.99</td>\n",
       "    </tr>\n",
       "    <tr>\n",
       "      <th>Waterpik</th>\n",
       "      <td>59.99</td>\n",
       "    </tr>\n",
       "    <tr>\n",
       "      <th>...</th>\n",
       "      <td>...</td>\n",
       "    </tr>\n",
       "    <tr>\n",
       "      <th>S&amp;W</th>\n",
       "      <td>1.10</td>\n",
       "    </tr>\n",
       "    <tr>\n",
       "      <th>Elmer's</th>\n",
       "      <td>0.99</td>\n",
       "    </tr>\n",
       "    <tr>\n",
       "      <th>Pasta Roni</th>\n",
       "      <td>0.98</td>\n",
       "    </tr>\n",
       "    <tr>\n",
       "      <th>Bazic</th>\n",
       "      <td>0.96</td>\n",
       "    </tr>\n",
       "    <tr>\n",
       "      <th>FantaSea</th>\n",
       "      <td>0.87</td>\n",
       "    </tr>\n",
       "  </tbody>\n",
       "</table>\n",
       "<p>1529 rows × 1 columns</p>\n",
       "</div>"
      ],
      "text/plain": [
       "                   average price\n",
       "brand                           \n",
       "Garden of Life            112.99\n",
       "Panasonic                 106.35\n",
       "Optimum Nutrition          97.42\n",
       "alli                       62.99\n",
       "Waterpik                   59.99\n",
       "...                          ...\n",
       "S&W                         1.10\n",
       "Elmer's                     0.99\n",
       "Pasta Roni                  0.98\n",
       "Bazic                       0.96\n",
       "FantaSea                    0.87\n",
       "\n",
       "[1529 rows x 1 columns]"
      ]
     },
     "execution_count": 101,
     "metadata": {},
     "output_type": "execute_result"
    }
   ],
   "source": [
    "df_clean.loc[df_clean['price_num']>0,['brand','price_num']].groupby('brand').agg('max').rename(columns={\"price_num\": \"average price\"}).sort_values(by='average price', ascending=False)"
   ]
  },
  {
   "cell_type": "markdown",
   "metadata": {
    "id": "ZflN2DzH0FA6"
   },
   "source": [
    "Then, we can also explore more on the price column itself. We can try to creat a box plot to get a good indication of how the prices are spread out."
   ]
  },
  {
   "cell_type": "code",
   "execution_count": 102,
   "metadata": {
    "colab": {
     "base_uri": "https://localhost:8080/",
     "height": 295
    },
    "id": "anQuKrK2y_Fo",
    "outputId": "93d5910c-f514-45db-f42e-d8abee343266"
   },
   "outputs": [
    {
     "data": {
      "image/png": "[encoded data removed]",
      "text/plain": [
       "<Figure size 432x288 with 1 Axes>"
      ]
     },
     "metadata": {
      "needs_background": "light"
     },
     "output_type": "display_data"
    }
   ],
   "source": [
    "prices = df_clean.loc[df_clean['price_num']>0,'price_num']\n",
    "ax = sns.boxplot(prices)\n",
    "ax.set(xlabel='Prices($)', title='Boxplot of the product prices in the Amazon Prime pantry dataset')\n",
    "plt.show()"
   ]
  },
  {
   "cell_type": "markdown",
   "metadata": {
    "id": "UqdTdsz-167B"
   },
   "source": [
    "We can see from the boxplot that there are some outliers in the price range of (20,250). To get a better visualization of how the prices are distributed, we can temporarily cast out those outliers and plot it again."
   ]
  },
  {
   "cell_type": "code",
   "execution_count": 103,
   "metadata": {
    "colab": {
     "base_uri": "https://localhost:8080/",
     "height": 295
    },
    "id": "8IOfeY052Xds",
    "outputId": "f71a8612-2522-4f72-8f9a-074864a94084"
   },
   "outputs": [
    {
     "data": {
      "image/png": "[encoded data removed]",
      "text/plain": [
       "<Figure size 432x288 with 1 Axes>"
      ]
     },
     "metadata": {
      "needs_background": "light"
     },
     "output_type": "display_data"
    }
   ],
   "source": [
    "prices_center = df_clean.loc[(df_clean['price_num']>0) & (df_clean['price_num']<20),'price_num']\n",
    "ax =sns.boxplot(prices_center)\n",
    "ax.set(xlabel='Prices($)', title='Boxplot of the product prices in the Amazon Prime pantry dataset')\n",
    "plt.show()"
   ]
  },
  {
   "cell_type": "markdown",
   "metadata": {
    "id": "uf06GypC3YGJ"
   },
   "source": [
    "This time, we can tell better by the new boxplot that the median of prices for products in the Amazon Prime Pantry dataset is around \\$5, and the majority of products have a price tag between \\$2.5 - \\$8. We can also plot the histgram of the price values, from which we can tell the data is **unimodal** and **skewed right**."
   ]
  },
  {
   "cell_type": "code",
   "execution_count": 104,
   "metadata": {
    "colab": {
     "base_uri": "https://localhost:8080/",
     "height": 295
    },
    "id": "wyUO19VD4aRI",
    "outputId": "685fee60-dc1c-4c5f-a76d-9d37269cfdf3"
   },
   "outputs": [
    {
     "data": {
      "image/png": "[encoded data removed]",
      "text/plain": [
       "<Figure size 432x288 with 1 Axes>"
      ]
     },
     "metadata": {
      "needs_background": "light"
     },
     "output_type": "display_data"
    }
   ],
   "source": [
    "ax = sns.distplot(prices_center)\n",
    "ax.set(xlabel='Prices($)', title='Histgram of the product prices in the Amazon Prime pantry dataset')\n",
    "plt.show()"
   ]
  },
  {
   "cell_type": "markdown",
   "metadata": {
    "id": "nFZZA3g1u_La"
   },
   "source": [
    "## Explore by brand and rating"
   ]
  },
  {
   "cell_type": "markdown",
   "metadata": {
    "id": "9WC6H3pzvz91"
   },
   "source": [
    "We can also explore the relationship between brand and rating. We can group the dataframe by brand, and then compute the average rating and the sum of rating counts for each brand. Then we will sort the result by `rating_cnt` and `rating`.\n",
    "\n",
    "From the result, we can see the top 10 brands that received most rating and their average rating on all products. Amoing them are mostly familiar big companies like Quaker, Crest, Tide, Method, and Neutrogena. It seems that these brands are very popular on the Amazon Prime pantry market and they all receive a relatively good rating over 4 (except Tom's of Maine but it's pretty close). It fits the market rule of people tending to buy goods that has a good review because it indicates good quality."
   ]
  },
  {
   "cell_type": "code",
   "execution_count": 105,
   "metadata": {
    "colab": {
     "base_uri": "https://localhost:8080/",
     "height": 394
    },
    "id": "x6skC10zvB-L",
    "outputId": "6716d24f-829b-4f3b-9c88-f76f594c0a6f"
   },
   "outputs": [
    {
     "data": {
      "text/html": [
       "<div>\n",
       "<style scoped>\n",
       "    .dataframe tbody tr th:only-of-type {\n",
       "        vertical-align: middle;\n",
       "    }\n",
       "\n",
       "    .dataframe tbody tr th {\n",
       "        vertical-align: top;\n",
       "    }\n",
       "\n",
       "    .dataframe thead th {\n",
       "        text-align: right;\n",
       "    }\n",
       "</style>\n",
       "<table border=\"1\" class=\"dataframe\">\n",
       "  <thead>\n",
       "    <tr style=\"text-align: right;\">\n",
       "      <th></th>\n",
       "      <th>rating</th>\n",
       "      <th>rating_cnt</th>\n",
       "    </tr>\n",
       "    <tr>\n",
       "      <th>brand</th>\n",
       "      <th></th>\n",
       "      <th></th>\n",
       "    </tr>\n",
       "  </thead>\n",
       "  <tbody>\n",
       "    <tr>\n",
       "      <th>Planters</th>\n",
       "      <td>4.456244</td>\n",
       "      <td>9319</td>\n",
       "    </tr>\n",
       "    <tr>\n",
       "      <th>Quaker</th>\n",
       "      <td>4.347637</td>\n",
       "      <td>7942</td>\n",
       "    </tr>\n",
       "    <tr>\n",
       "      <th>Twinings</th>\n",
       "      <td>4.398009</td>\n",
       "      <td>7607</td>\n",
       "    </tr>\n",
       "    <tr>\n",
       "      <th>Crest</th>\n",
       "      <td>4.216607</td>\n",
       "      <td>7329</td>\n",
       "    </tr>\n",
       "    <tr>\n",
       "      <th>Brooklyn Beans</th>\n",
       "      <td>4.013691</td>\n",
       "      <td>5867</td>\n",
       "    </tr>\n",
       "    <tr>\n",
       "      <th>Method</th>\n",
       "      <td>4.358377</td>\n",
       "      <td>5647</td>\n",
       "    </tr>\n",
       "    <tr>\n",
       "      <th>Arm &amp; Hammer</th>\n",
       "      <td>4.326857</td>\n",
       "      <td>4480</td>\n",
       "    </tr>\n",
       "    <tr>\n",
       "      <th>Tide</th>\n",
       "      <td>4.522328</td>\n",
       "      <td>4111</td>\n",
       "    </tr>\n",
       "    <tr>\n",
       "      <th>Tom's of Maine</th>\n",
       "      <td>4.011557</td>\n",
       "      <td>3906</td>\n",
       "    </tr>\n",
       "    <tr>\n",
       "      <th>Neutrogena</th>\n",
       "      <td>4.366059</td>\n",
       "      <td>3901</td>\n",
       "    </tr>\n",
       "  </tbody>\n",
       "</table>\n",
       "</div>"
      ],
      "text/plain": [
       "                  rating  rating_cnt\n",
       "brand                               \n",
       "Planters        4.456244        9319\n",
       "Quaker          4.347637        7942\n",
       "Twinings        4.398009        7607\n",
       "Crest           4.216607        7329\n",
       "Brooklyn Beans  4.013691        5867\n",
       "Method          4.358377        5647\n",
       "Arm & Hammer    4.326857        4480\n",
       "Tide            4.522328        4111\n",
       "Tom's of Maine  4.011557        3906\n",
       "Neutrogena      4.366059        3901"
      ]
     },
     "execution_count": 105,
     "metadata": {},
     "output_type": "execute_result"
    }
   ],
   "source": [
    "df_price_rating = df_clean[['brand','rating', 'rating_cnt']].groupby('brand').agg({'rating':'mean', 'rating_cnt':'sum'})\n",
    "df_price_rating = df_price_rating.sort_values(by=['rating_cnt', 'rating'], ascending=False)\n",
    "df_price_rating.head(10)"
   ]
  },
  {
   "cell_type": "markdown",
   "metadata": {
    "id": "Uu1eJ1LIjQ-c"
   },
   "source": [
    "# Data Modeling and Inferences"
   ]
  },
  {
   "cell_type": "code",
   "execution_count": 106,
   "metadata": {
    "colab": {
     "base_uri": "https://localhost:8080/",
     "height": 600
    },
    "id": "nAQ9Cmuex0qI",
    "outputId": "715d7b09-5aa9-4433-a13a-f50e0cb7705a"
   },
   "outputs": [
    {
     "data": {
      "text/html": [
       "<div>\n",
       "<style scoped>\n",
       "    .dataframe tbody tr th:only-of-type {\n",
       "        vertical-align: middle;\n",
       "    }\n",
       "\n",
       "    .dataframe tbody tr th {\n",
       "        vertical-align: top;\n",
       "    }\n",
       "\n",
       "    .dataframe thead th {\n",
       "        text-align: right;\n",
       "    }\n",
       "</style>\n",
       "<table border=\"1\" class=\"dataframe\">\n",
       "  <thead>\n",
       "    <tr style=\"text-align: right;\">\n",
       "      <th></th>\n",
       "      <th>description</th>\n",
       "      <th>title</th>\n",
       "      <th>also_buy</th>\n",
       "      <th>brand</th>\n",
       "      <th>feature</th>\n",
       "      <th>rank</th>\n",
       "      <th>also_view</th>\n",
       "      <th>details</th>\n",
       "      <th>main_cat</th>\n",
       "      <th>price</th>\n",
       "      <th>asin</th>\n",
       "      <th>imageURL</th>\n",
       "      <th>imageURLHighRes</th>\n",
       "      <th>feature_clean</th>\n",
       "      <th>rank_num</th>\n",
       "      <th>rank_cat</th>\n",
       "      <th>price_num</th>\n",
       "      <th>rating</th>\n",
       "      <th>rating_cnt</th>\n",
       "    </tr>\n",
       "  </thead>\n",
       "  <tbody>\n",
       "    <tr>\n",
       "      <th>0</th>\n",
       "      <td>[Sink your sweet tooth into MILK DUDS Candya d...</td>\n",
       "      <td>HERSHEY'S Milk Duds Candy, 5 Ounce(Halloween C...</td>\n",
       "      <td>[B019KE37WO, B007NQSWEU]</td>\n",
       "      <td>Milk Duds</td>\n",
       "      <td>[]</td>\n",
       "      <td>[]</td>\n",
       "      <td>[]</td>\n",
       "      <td>{'ASIN: ': 'B00005BPJO', 'Item model number:':...</td>\n",
       "      <td>&lt;img src=\"https://m.media-amazon.com/images/G/...</td>\n",
       "      <td>$5.00</td>\n",
       "      <td>B00005BPJO</td>\n",
       "      <td>[https://images-na.ssl-images-amazon.com/image...</td>\n",
       "      <td>[https://images-na.ssl-images-amazon.com/image...</td>\n",
       "      <td>[]</td>\n",
       "      <td>0</td>\n",
       "      <td></td>\n",
       "      <td>5.000000</td>\n",
       "      <td>3.300000</td>\n",
       "      <td>10</td>\n",
       "    </tr>\n",
       "    <tr>\n",
       "      <th>1</th>\n",
       "      <td>[Saran Premium Wrap is an extra tough yet easy...</td>\n",
       "      <td>Saran Premium Plastic Wrap, 100 Sq Ft</td>\n",
       "      <td>[B01MY5FHT6, B000PYF8VM, B000SRMDFA, B07CX6LN8...</td>\n",
       "      <td>Saran</td>\n",
       "      <td>[]</td>\n",
       "      <td>[]</td>\n",
       "      <td>[B077QLSLRQ, B00JPKW1RQ, B000FE2IK6, B00XUJHJ9...</td>\n",
       "      <td>{'Domestic Shipping: ': 'This item can only be...</td>\n",
       "      <td>&lt;img src=\"https://images-na.ssl-images-amazon....</td>\n",
       "      <td></td>\n",
       "      <td>B0000DIWNI</td>\n",
       "      <td>[https://images-na.ssl-images-amazon.com/image...</td>\n",
       "      <td>[https://images-na.ssl-images-amazon.com/image...</td>\n",
       "      <td>[]</td>\n",
       "      <td>0</td>\n",
       "      <td></td>\n",
       "      <td>7.421893</td>\n",
       "      <td>4.062500</td>\n",
       "      <td>64</td>\n",
       "    </tr>\n",
       "    <tr>\n",
       "      <th>2</th>\n",
       "      <td>[200 sq ft (285 ft x 11-3/4 in x 18.6 m2). Eas...</td>\n",
       "      <td>Saran Cling Plus Plastic Wrap, 200 Sq Ft</td>\n",
       "      <td>[]</td>\n",
       "      <td>Saran</td>\n",
       "      <td>[]</td>\n",
       "      <td>[]</td>\n",
       "      <td>[B0014CZ0TE]</td>\n",
       "      <td>{'Domestic Shipping: ': 'This item can only be...</td>\n",
       "      <td>&lt;img src=\"https://images-na.ssl-images-amazon....</td>\n",
       "      <td></td>\n",
       "      <td>B0000DIWNZ</td>\n",
       "      <td>[https://images-na.ssl-images-amazon.com/image...</td>\n",
       "      <td>[https://images-na.ssl-images-amazon.com/image...</td>\n",
       "      <td>[]</td>\n",
       "      <td>0</td>\n",
       "      <td></td>\n",
       "      <td>7.421893</td>\n",
       "      <td>4.000000</td>\n",
       "      <td>20</td>\n",
       "    </tr>\n",
       "    <tr>\n",
       "      <th>3</th>\n",
       "      <td>[Ibarra Chocolate, 19 Oz, , ]</td>\n",
       "      <td>Ibarra Mexican Chocolate, 19 oz</td>\n",
       "      <td>[B008MHKWLK]</td>\n",
       "      <td>Ibarra</td>\n",
       "      <td>[]</td>\n",
       "      <td>259,768 in Grocery &amp;amp; Gourmet Food (</td>\n",
       "      <td>[]</td>\n",
       "      <td>{'ASIN: ': 'B0000GH6UG', 'Item model number:':...</td>\n",
       "      <td>&lt;img src=\"https://images-na.ssl-images-amazon....</td>\n",
       "      <td></td>\n",
       "      <td>B0000GH6UG</td>\n",
       "      <td>[https://images-na.ssl-images-amazon.com/image...</td>\n",
       "      <td>[https://images-na.ssl-images-amazon.com/image...</td>\n",
       "      <td>[]</td>\n",
       "      <td>259768</td>\n",
       "      <td>Grocery &amp; Gourmet Food</td>\n",
       "      <td>7.421893</td>\n",
       "      <td>3.959184</td>\n",
       "      <td>49</td>\n",
       "    </tr>\n",
       "    <tr>\n",
       "      <th>4</th>\n",
       "      <td>[Knorr Granulated Chicken Flavor Bouillon is a...</td>\n",
       "      <td>Knorr Granulated Bouillon, Chicken 15.9 oz</td>\n",
       "      <td>[]</td>\n",
       "      <td>Knorr</td>\n",
       "      <td>[]</td>\n",
       "      <td>372,929 in Grocery &amp; Gourmet Food (</td>\n",
       "      <td>[]</td>\n",
       "      <td>{'ASIN: ': 'B0000KC2BK', 'Item model number:':...</td>\n",
       "      <td>&lt;img src=\"https://images-na.ssl-images-amazon....</td>\n",
       "      <td>$3.09</td>\n",
       "      <td>B0000KC2BK</td>\n",
       "      <td>[https://images-na.ssl-images-amazon.com/image...</td>\n",
       "      <td>[https://images-na.ssl-images-amazon.com/image...</td>\n",
       "      <td>[]</td>\n",
       "      <td>372929</td>\n",
       "      <td>Grocery &amp; Gourmet Food</td>\n",
       "      <td>3.090000</td>\n",
       "      <td>5.000000</td>\n",
       "      <td>7</td>\n",
       "    </tr>\n",
       "  </tbody>\n",
       "</table>\n",
       "</div>"
      ],
      "text/plain": [
       "                                         description  \\\n",
       "0  [Sink your sweet tooth into MILK DUDS Candya d...   \n",
       "1  [Saran Premium Wrap is an extra tough yet easy...   \n",
       "2  [200 sq ft (285 ft x 11-3/4 in x 18.6 m2). Eas...   \n",
       "3                      [Ibarra Chocolate, 19 Oz, , ]   \n",
       "4  [Knorr Granulated Chicken Flavor Bouillon is a...   \n",
       "\n",
       "                                               title  \\\n",
       "0  HERSHEY'S Milk Duds Candy, 5 Ounce(Halloween C...   \n",
       "1              Saran Premium Plastic Wrap, 100 Sq Ft   \n",
       "2           Saran Cling Plus Plastic Wrap, 200 Sq Ft   \n",
       "3                    Ibarra Mexican Chocolate, 19 oz   \n",
       "4         Knorr Granulated Bouillon, Chicken 15.9 oz   \n",
       "\n",
       "                                            also_buy      brand feature  \\\n",
       "0                           [B019KE37WO, B007NQSWEU]  Milk Duds      []   \n",
       "1  [B01MY5FHT6, B000PYF8VM, B000SRMDFA, B07CX6LN8...      Saran      []   \n",
       "2                                                 []      Saran      []   \n",
       "3                                       [B008MHKWLK]     Ibarra      []   \n",
       "4                                                 []      Knorr      []   \n",
       "\n",
       "                                      rank  \\\n",
       "0                                       []   \n",
       "1                                       []   \n",
       "2                                       []   \n",
       "3  259,768 in Grocery &amp; Gourmet Food (   \n",
       "4      372,929 in Grocery & Gourmet Food (   \n",
       "\n",
       "                                           also_view  \\\n",
       "0                                                 []   \n",
       "1  [B077QLSLRQ, B00JPKW1RQ, B000FE2IK6, B00XUJHJ9...   \n",
       "2                                       [B0014CZ0TE]   \n",
       "3                                                 []   \n",
       "4                                                 []   \n",
       "\n",
       "                                             details  \\\n",
       "0  {'ASIN: ': 'B00005BPJO', 'Item model number:':...   \n",
       "1  {'Domestic Shipping: ': 'This item can only be...   \n",
       "2  {'Domestic Shipping: ': 'This item can only be...   \n",
       "3  {'ASIN: ': 'B0000GH6UG', 'Item model number:':...   \n",
       "4  {'ASIN: ': 'B0000KC2BK', 'Item model number:':...   \n",
       "\n",
       "                                            main_cat  price        asin  \\\n",
       "0  <img src=\"https://m.media-amazon.com/images/G/...  $5.00  B00005BPJO   \n",
       "1  <img src=\"https://images-na.ssl-images-amazon....         B0000DIWNI   \n",
       "2  <img src=\"https://images-na.ssl-images-amazon....         B0000DIWNZ   \n",
       "3  <img src=\"https://images-na.ssl-images-amazon....         B0000GH6UG   \n",
       "4  <img src=\"https://images-na.ssl-images-amazon....  $3.09  B0000KC2BK   \n",
       "\n",
       "                                            imageURL  \\\n",
       "0  [https://images-na.ssl-images-amazon.com/image...   \n",
       "1  [https://images-na.ssl-images-amazon.com/image...   \n",
       "2  [https://images-na.ssl-images-amazon.com/image...   \n",
       "3  [https://images-na.ssl-images-amazon.com/image...   \n",
       "4  [https://images-na.ssl-images-amazon.com/image...   \n",
       "\n",
       "                                     imageURLHighRes feature_clean  rank_num  \\\n",
       "0  [https://images-na.ssl-images-amazon.com/image...            []         0   \n",
       "1  [https://images-na.ssl-images-amazon.com/image...            []         0   \n",
       "2  [https://images-na.ssl-images-amazon.com/image...            []         0   \n",
       "3  [https://images-na.ssl-images-amazon.com/image...            []    259768   \n",
       "4  [https://images-na.ssl-images-amazon.com/image...            []    372929   \n",
       "\n",
       "                 rank_cat  price_num    rating  rating_cnt  \n",
       "0                           5.000000  3.300000          10  \n",
       "1                           7.421893  4.062500          64  \n",
       "2                           7.421893  4.000000          20  \n",
       "3  Grocery & Gourmet Food   7.421893  3.959184          49  \n",
       "4  Grocery & Gourmet Food   3.090000  5.000000           7  "
      ]
     },
     "execution_count": 106,
     "metadata": {},
     "output_type": "execute_result"
    }
   ],
   "source": [
    "df_clean.head()"
   ]
  },
  {
   "cell_type": "code",
   "execution_count": 107,
   "metadata": {},
   "outputs": [
    {
     "data": {
      "text/plain": [
       "0.4803633107330178"
      ]
     },
     "execution_count": 107,
     "metadata": {},
     "output_type": "execute_result"
    }
   ],
   "source": [
    "sum([len(x) > 0 for x in df_clean['rank']])/len(df_clean)"
   ]
  },
  {
   "cell_type": "code",
   "execution_count": 108,
   "metadata": {
    "scrolled": true
   },
   "outputs": [
    {
     "data": {
      "text/plain": [
       "0.12306511449405143"
      ]
     },
     "execution_count": 108,
     "metadata": {},
     "output_type": "execute_result"
    }
   ],
   "source": [
    "sum([len(x) > 0 for x in df_clean['feature_clean']])/len(df_clean)"
   ]
  },
  {
   "cell_type": "code",
   "execution_count": 112,
   "metadata": {},
   "outputs": [
    {
     "data": {
      "text/plain": [
       "0.5196366892669823"
      ]
     },
     "execution_count": 112,
     "metadata": {},
     "output_type": "execute_result"
    }
   ],
   "source": [
    "sum(df_clean['rank_num'] == 0)/len(df_clean)"
   ]
  },
  {
   "cell_type": "code",
   "execution_count": 110,
   "metadata": {
    "colab": {
     "base_uri": "https://localhost:8080/",
     "height": 206
    },
    "id": "Fb2oWNsrx7pB",
    "outputId": "b67347be-59a2-4deb-a5d6-91da0b215cb9"
   },
   "outputs": [
    {
     "data": {
      "text/html": [
       "<div>\n",
       "<style scoped>\n",
       "    .dataframe tbody tr th:only-of-type {\n",
       "        vertical-align: middle;\n",
       "    }\n",
       "\n",
       "    .dataframe tbody tr th {\n",
       "        vertical-align: top;\n",
       "    }\n",
       "\n",
       "    .dataframe thead th {\n",
       "        text-align: right;\n",
       "    }\n",
       "</style>\n",
       "<table border=\"1\" class=\"dataframe\">\n",
       "  <thead>\n",
       "    <tr style=\"text-align: right;\">\n",
       "      <th></th>\n",
       "      <th>des_len</th>\n",
       "      <th>title_len</th>\n",
       "      <th>buy</th>\n",
       "      <th>view</th>\n",
       "      <th>feature_len</th>\n",
       "      <th>has_image</th>\n",
       "      <th>rank_num</th>\n",
       "      <th>price_num</th>\n",
       "      <th>rating</th>\n",
       "    </tr>\n",
       "  </thead>\n",
       "  <tbody>\n",
       "    <tr>\n",
       "      <th>3</th>\n",
       "      <td>3</td>\n",
       "      <td>31</td>\n",
       "      <td>1</td>\n",
       "      <td>0</td>\n",
       "      <td>0</td>\n",
       "      <td>1</td>\n",
       "      <td>259768</td>\n",
       "      <td>7.421893</td>\n",
       "      <td>3.959184</td>\n",
       "    </tr>\n",
       "    <tr>\n",
       "      <th>4</th>\n",
       "      <td>1</td>\n",
       "      <td>42</td>\n",
       "      <td>0</td>\n",
       "      <td>0</td>\n",
       "      <td>0</td>\n",
       "      <td>1</td>\n",
       "      <td>372929</td>\n",
       "      <td>3.090000</td>\n",
       "      <td>5.000000</td>\n",
       "    </tr>\n",
       "    <tr>\n",
       "      <th>5</th>\n",
       "      <td>1</td>\n",
       "      <td>37</td>\n",
       "      <td>0</td>\n",
       "      <td>0</td>\n",
       "      <td>0</td>\n",
       "      <td>1</td>\n",
       "      <td>382593</td>\n",
       "      <td>7.421893</td>\n",
       "      <td>4.684211</td>\n",
       "    </tr>\n",
       "    <tr>\n",
       "      <th>7</th>\n",
       "      <td>1</td>\n",
       "      <td>37</td>\n",
       "      <td>0</td>\n",
       "      <td>0</td>\n",
       "      <td>0</td>\n",
       "      <td>1</td>\n",
       "      <td>220130</td>\n",
       "      <td>7.421893</td>\n",
       "      <td>4.821429</td>\n",
       "    </tr>\n",
       "    <tr>\n",
       "      <th>9</th>\n",
       "      <td>31</td>\n",
       "      <td>31</td>\n",
       "      <td>0</td>\n",
       "      <td>52</td>\n",
       "      <td>6</td>\n",
       "      <td>1</td>\n",
       "      <td>1243</td>\n",
       "      <td>2.440000</td>\n",
       "      <td>4.439189</td>\n",
       "    </tr>\n",
       "  </tbody>\n",
       "</table>\n",
       "</div>"
      ],
      "text/plain": [
       "   des_len  title_len  buy  view  feature_len  has_image  rank_num  price_num  \\\n",
       "3        3         31    1     0            0          1    259768   7.421893   \n",
       "4        1         42    0     0            0          1    372929   3.090000   \n",
       "5        1         37    0     0            0          1    382593   7.421893   \n",
       "7        1         37    0     0            0          1    220130   7.421893   \n",
       "9       31         31    0    52            6          1      1243   2.440000   \n",
       "\n",
       "     rating  \n",
       "3  3.959184  \n",
       "4  5.000000  \n",
       "5  4.684211  \n",
       "7  4.821429  \n",
       "9  4.439189  "
      ]
     },
     "execution_count": 110,
     "metadata": {},
     "output_type": "execute_result"
    }
   ],
   "source": [
    "df_model = df_clean.copy()\n",
    "df_model['des_len'] = df_model['description'].str.len()\n",
    "df_model['title_len'] = df_model['title'].str.len()\n",
    "df_model['buy'] = df_model['also_buy'].str.len()\n",
    "df_model['view'] = df_model['also_view'].str.len()\n",
    "df_model['feature_len'] = df_model['feature_clean'].str.len()\n",
    "df_model['has_image'] = df_model['imageURL'].apply(lambda x: 1 if (len(x) > 0) else 0 )\n",
    "df_model = df_model.loc[(df_model['price_num']>0)&(df_model['rank_num']>0),['des_len', 'title_len', 'buy', 'view', 'feature_len', 'has_image', 'rank_num', 'price_num', 'rating']]\n",
    "df_model.head()\n"
   ]
  },
  {
   "cell_type": "code",
   "execution_count": null,
   "metadata": {
    "id": "Q4N1XGy20-u5"
   },
   "outputs": [],
   "source": [
    "df_model = df_model.reset_index(drop=True)\n",
    "X = df_model[['des_len', 'title_len', 'buy', 'view', 'feature_len', 'has_image', 'rank_num', 'price_num']]\n",
    "Y = df_model['rating']"
   ]
  },
  {
   "cell_type": "code",
   "execution_count": null,
   "metadata": {
    "id": "4PM5vfHE2CLH"
   },
   "outputs": [],
   "source": [
    "from sklearn.model_selection import train_test_split\n",
    "X_train, X_holdout, Y_train, Y_holdout = train_test_split(X, Y, test_size=0.1, random_state=45)"
   ]
  },
  {
   "cell_type": "code",
   "execution_count": null,
   "metadata": {
    "colab": {
     "base_uri": "https://localhost:8080/",
     "height": 299
    },
    "id": "C4wXJ-rQ2dJO",
    "outputId": "a7b2ca67-919e-4fef-8109-a75f310fe9c1"
   },
   "outputs": [
    {
     "data": {
      "image/png": "[encoded data removed]",
      "text/plain": [
       "<Figure size 432x288 with 1 Axes>"
      ]
     },
     "metadata": {
      "needs_background": "light"
     },
     "output_type": "display_data"
    }
   ],
   "source": [
    "import sklearn.linear_model as lm\n",
    "\n",
    "linear_model = lm.LinearRegression()\n",
    "\n",
    "# Fit your linear model\n",
    "linear_model.fit(X_train, Y_train)\n",
    "\n",
    "# Predict housing prices on the test set\n",
    "Y_pred = linear_model.predict(X_holdout)\n",
    "\n",
    "# Plot predicted vs true prices\n",
    "plt.scatter(Y_holdout, Y_pred, alpha=0.5)\n",
    "plt.xlabel(\"Ratings $(y)$\")\n",
    "plt.ylabel(\"Predicted Rating $(\\hat{y})$\")\n",
    "plt.title(\"Ratings vs Predicted Ratings\");"
   ]
  },
  {
   "cell_type": "code",
   "execution_count": null,
   "metadata": {
    "colab": {
     "base_uri": "https://localhost:8080/",
     "height": 302
    },
    "id": "uUhGazWA2ydV",
    "outputId": "50f8bb9c-c32d-4ae9-fb5d-264a9fdfc1c5"
   },
   "outputs": [
    {
     "data": {
      "image/png": "[encoded data removed]",
      "text/plain": [
       "<Figure size 432x288 with 1 Axes>"
      ]
     },
     "metadata": {
      "needs_background": "light"
     },
     "output_type": "display_data"
    }
   ],
   "source": [
    "plt.scatter(Y_pred, Y_holdout - Y_pred, alpha=0.5)\n",
    "plt.ylabel(\"Residual $(y - \\hat{y})$\")\n",
    "plt.xlabel(\"Predicted Ratings $(\\hat{y})$\")\n",
    "plt.title(\"Residuals vs Predicted Ratings\")\n",
    "plt.title(\"Residual of prediction for Product's Rating\")\n",
    "plt.axhline(y = 0, color='r');"
   ]
  },
  {
   "cell_type": "code",
   "execution_count": null,
   "metadata": {
    "colab": {
     "base_uri": "https://localhost:8080/"
    },
    "id": "-8ui7gNx3JDo",
    "outputId": "b001661a-fb78-4ddd-ed3b-e87498a91f62"
   },
   "outputs": [
    {
     "name": "stdout",
     "output_type": "stream",
     "text": [
      "Training RMSE: 0.48511321181965544\n",
      "Holdout RMSE: 0.48771643964890915\n"
     ]
    }
   ],
   "source": [
    "def rmse(actual_y, predicted_y):\n",
    "    \"\"\"\n",
    "    Args:\n",
    "        predicted_y: an array of the prediction from the model\n",
    "        actual_y: an array of the groudtruth label\n",
    "        \n",
    "    Returns:\n",
    "        The root mean square error between the prediction and the groudtruth\n",
    "    \"\"\"\n",
    "    return np.sqrt(np.mean((predicted_y-actual_y)**2))\n",
    "\n",
    "train_error = rmse(Y_train, linear_model.predict(X_train))\n",
    "holdout_error = rmse(Y_holdout, Y_pred)\n",
    "\n",
    "print(\"Training RMSE:\", train_error)\n",
    "print(\"Holdout RMSE:\", holdout_error)"
   ]
  },
  {
   "cell_type": "code",
   "execution_count": null,
   "metadata": {
    "colab": {
     "base_uri": "https://localhost:8080/"
    },
    "id": "_Zmz6omxfFIS",
    "outputId": "7a051138-047d-4791-9e14-202f73c957ca"
   },
   "outputs": [
    {
     "data": {
      "text/plain": [
       "(0.02690043687171284, 0.06859459700963177)"
      ]
     },
     "execution_count": 50,
     "metadata": {},
     "output_type": "execute_result"
    }
   ],
   "source": [
    "from sklearn.metrics import r2_score\n",
    "\n",
    "r2_train_1 = r2_score(Y_train, linear_model.predict(X_train))\n",
    "r2_holdout_1 = r2_score(Y_holdout, linear_model.predict(X_holdout))\n",
    "r2_train_1, r2_holdout_1"
   ]
  },
  {
   "cell_type": "code",
   "execution_count": null,
   "metadata": {
    "colab": {
     "base_uri": "https://localhost:8080/"
    },
    "id": "FNAdzy5q5DNY",
    "outputId": "ff1c029a-626e-4740-ebd6-6b0c9358ed67"
   },
   "outputs": [
    {
     "data": {
      "text/plain": [
       "array([ 4.35380535e-03, -1.80945463e-03,  6.12570463e-04,  3.26177845e-04,\n",
       "        3.46074462e-03,  4.43423638e-02, -3.52933251e-07, -1.48915371e-03])"
      ]
     },
     "execution_count": 40,
     "metadata": {},
     "output_type": "execute_result"
    }
   ],
   "source": [
    "from sklearn.linear_model import Ridge\n",
    "\n",
    "regularized_model = Ridge(alpha = 10**2)\n",
    "regularized_model.fit(X_train, Y_train)\n",
    "regularized_model.coef_"
   ]
  },
  {
   "cell_type": "code",
   "execution_count": null,
   "metadata": {
    "colab": {
     "base_uri": "https://localhost:8080/"
    },
    "id": "CkYqq4uf5Y6B",
    "outputId": "4e37a41f-7a63-4ef7-91d8-b2295ca5bfbc"
   },
   "outputs": [
    {
     "data": {
      "text/plain": [
       "array([ 4.27091749e-03, -1.82069077e-03,  6.13839697e-04,  3.19825295e-04,\n",
       "        3.33781637e-03,  6.20348556e-02, -3.44422924e-07, -1.49980146e-03])"
      ]
     },
     "execution_count": 41,
     "metadata": {},
     "output_type": "execute_result"
    }
   ],
   "source": [
    "linear_model.coef_"
   ]
  },
  {
   "cell_type": "code",
   "execution_count": null,
   "metadata": {
    "colab": {
     "base_uri": "https://localhost:8080/",
     "height": 206
    },
    "id": "ANXKUAkA5yQ7",
    "outputId": "c5e27fd7-ac5c-43ce-dc32-584eba6550f3"
   },
   "outputs": [
    {
     "data": {
      "text/html": [
       "\n",
       "  <div id=\"df-7709a16a-6375-46de-99ca-c0080411c847\">\n",
       "    <div class=\"colab-df-container\">\n",
       "      <div>\n",
       "<style scoped>\n",
       "    .dataframe tbody tr th:only-of-type {\n",
       "        vertical-align: middle;\n",
       "    }\n",
       "\n",
       "    .dataframe tbody tr th {\n",
       "        vertical-align: top;\n",
       "    }\n",
       "\n",
       "    .dataframe thead th {\n",
       "        text-align: right;\n",
       "    }\n",
       "</style>\n",
       "<table border=\"1\" class=\"dataframe\">\n",
       "  <thead>\n",
       "    <tr style=\"text-align: right;\">\n",
       "      <th></th>\n",
       "      <th>des_len</th>\n",
       "      <th>title_len</th>\n",
       "      <th>buy</th>\n",
       "      <th>view</th>\n",
       "      <th>feature_len</th>\n",
       "      <th>has_image</th>\n",
       "      <th>rank_num</th>\n",
       "      <th>price_num</th>\n",
       "    </tr>\n",
       "  </thead>\n",
       "  <tbody>\n",
       "    <tr>\n",
       "      <th>0</th>\n",
       "      <td>-0.553564</td>\n",
       "      <td>-0.928085</td>\n",
       "      <td>-0.557417</td>\n",
       "      <td>-1.245790</td>\n",
       "      <td>-0.296764</td>\n",
       "      <td>0.343277</td>\n",
       "      <td>2.232484</td>\n",
       "      <td>-0.507282</td>\n",
       "    </tr>\n",
       "    <tr>\n",
       "      <th>1</th>\n",
       "      <td>-0.553564</td>\n",
       "      <td>-0.773723</td>\n",
       "      <td>0.553842</td>\n",
       "      <td>-0.617349</td>\n",
       "      <td>-0.296764</td>\n",
       "      <td>0.343277</td>\n",
       "      <td>0.778962</td>\n",
       "      <td>-0.395926</td>\n",
       "    </tr>\n",
       "    <tr>\n",
       "      <th>2</th>\n",
       "      <td>-0.553564</td>\n",
       "      <td>0.113856</td>\n",
       "      <td>-0.557417</td>\n",
       "      <td>-1.245790</td>\n",
       "      <td>-0.296764</td>\n",
       "      <td>-2.913100</td>\n",
       "      <td>7.500328</td>\n",
       "      <td>-0.729994</td>\n",
       "    </tr>\n",
       "    <tr>\n",
       "      <th>3</th>\n",
       "      <td>5.214049</td>\n",
       "      <td>-1.352580</td>\n",
       "      <td>-0.557417</td>\n",
       "      <td>1.477455</td>\n",
       "      <td>2.407444</td>\n",
       "      <td>0.343277</td>\n",
       "      <td>-0.803264</td>\n",
       "      <td>-0.610684</td>\n",
       "    </tr>\n",
       "    <tr>\n",
       "      <th>4</th>\n",
       "      <td>-0.553564</td>\n",
       "      <td>-1.198218</td>\n",
       "      <td>-0.557417</td>\n",
       "      <td>0.220573</td>\n",
       "      <td>-0.296764</td>\n",
       "      <td>0.343277</td>\n",
       "      <td>-0.803076</td>\n",
       "      <td>-0.809534</td>\n",
       "    </tr>\n",
       "  </tbody>\n",
       "</table>\n",
       "</div>\n",
       "      <button class=\"colab-df-convert\" onclick=\"convertToInteractive('df-7709a16a-6375-46de-99ca-c0080411c847')\"\n",
       "              title=\"Convert this dataframe to an interactive table.\"\n",
       "              style=\"display:none;\">\n",
       "        \n",
       "  <svg xmlns=\"http://www.w3.org/2000/svg\" height=\"24px\"viewBox=\"0 0 24 24\"\n",
       "       width=\"24px\">\n",
       "    <path d=\"M0 0h24v24H0V0z\" fill=\"none\"/>\n",
       "    <path d=\"M18.56 5.44l.94 2.06.94-2.06 2.06-.94-2.06-.94-.94-2.06-.94 2.06-2.06.94zm-11 1L8.5 8.5l.94-2.06 2.06-.94-2.06-.94L8.5 2.5l-.94 2.06-2.06.94zm10 10l.94 2.06.94-2.06 2.06-.94-2.06-.94-.94-2.06-.94 2.06-2.06.94z\"/><path d=\"M17.41 7.96l-1.37-1.37c-.4-.4-.92-.59-1.43-.59-.52 0-1.04.2-1.43.59L10.3 9.45l-7.72 7.72c-.78.78-.78 2.05 0 2.83L4 21.41c.39.39.9.59 1.41.59.51 0 1.02-.2 1.41-.59l7.78-7.78 2.81-2.81c.8-.78.8-2.07 0-2.86zM5.41 20L4 18.59l7.72-7.72 1.47 1.35L5.41 20z\"/>\n",
       "  </svg>\n",
       "      </button>\n",
       "      \n",
       "  <style>\n",
       "    .colab-df-container {\n",
       "      display:flex;\n",
       "      flex-wrap:wrap;\n",
       "      gap: 12px;\n",
       "    }\n",
       "\n",
       "    .colab-df-convert {\n",
       "      background-color: #E8F0FE;\n",
       "      border: none;\n",
       "      border-radius: 50%;\n",
       "      cursor: pointer;\n",
       "      display: none;\n",
       "      fill: #1967D2;\n",
       "      height: 32px;\n",
       "      padding: 0 0 0 0;\n",
       "      width: 32px;\n",
       "    }\n",
       "\n",
       "    .colab-df-convert:hover {\n",
       "      background-color: #E2EBFA;\n",
       "      box-shadow: 0px 1px 2px rgba(60, 64, 67, 0.3), 0px 1px 3px 1px rgba(60, 64, 67, 0.15);\n",
       "      fill: #174EA6;\n",
       "    }\n",
       "\n",
       "    [theme=dark] .colab-df-convert {\n",
       "      background-color: #3B4455;\n",
       "      fill: #D2E3FC;\n",
       "    }\n",
       "\n",
       "    [theme=dark] .colab-df-convert:hover {\n",
       "      background-color: #434B5C;\n",
       "      box-shadow: 0px 1px 3px 1px rgba(0, 0, 0, 0.15);\n",
       "      filter: drop-shadow(0px 1px 2px rgba(0, 0, 0, 0.3));\n",
       "      fill: #FFFFFF;\n",
       "    }\n",
       "  </style>\n",
       "\n",
       "      <script>\n",
       "        const buttonEl =\n",
       "          document.querySelector('#df-7709a16a-6375-46de-99ca-c0080411c847 button.colab-df-convert');\n",
       "        buttonEl.style.display =\n",
       "          google.colab.kernel.accessAllowed ? 'block' : 'none';\n",
       "\n",
       "        async function convertToInteractive(key) {\n",
       "          const element = document.querySelector('#df-7709a16a-6375-46de-99ca-c0080411c847');\n",
       "          const dataTable =\n",
       "            await google.colab.kernel.invokeFunction('convertToInteractive',\n",
       "                                                     [key], {});\n",
       "          if (!dataTable) return;\n",
       "\n",
       "          const docLinkHtml = 'Like what you see? Visit the ' +\n",
       "            '<a target=\"_blank\" href=https://colab.research.google.com/notebooks/data_table.ipynb>data table notebook</a>'\n",
       "            + ' to learn more about interactive tables.';\n",
       "          element.innerHTML = '';\n",
       "          dataTable['output_type'] = 'display_data';\n",
       "          await google.colab.output.renderOutput(dataTable, element);\n",
       "          const docLink = document.createElement('div');\n",
       "          docLink.innerHTML = docLinkHtml;\n",
       "          element.appendChild(docLink);\n",
       "        }\n",
       "      </script>\n",
       "    </div>\n",
       "  </div>\n",
       "  "
      ],
      "text/plain": [
       "    des_len  title_len       buy      view  feature_len  has_image  rank_num  \\\n",
       "0 -0.553564  -0.928085 -0.557417 -1.245790    -0.296764   0.343277  2.232484   \n",
       "1 -0.553564  -0.773723  0.553842 -0.617349    -0.296764   0.343277  0.778962   \n",
       "2 -0.553564   0.113856 -0.557417 -1.245790    -0.296764  -2.913100  7.500328   \n",
       "3  5.214049  -1.352580 -0.557417  1.477455     2.407444   0.343277 -0.803264   \n",
       "4 -0.553564  -1.198218 -0.557417  0.220573    -0.296764   0.343277 -0.803076   \n",
       "\n",
       "   price_num  \n",
       "0  -0.507282  \n",
       "1  -0.395926  \n",
       "2  -0.729994  \n",
       "3  -0.610684  \n",
       "4  -0.809534  "
      ]
     },
     "execution_count": 42,
     "metadata": {},
     "output_type": "execute_result"
    }
   ],
   "source": [
    "from sklearn.preprocessing import StandardScaler\n",
    "ss = StandardScaler()\n",
    "ss.fit(X)\n",
    "X_scaled = pd.DataFrame(ss.transform(X), columns = X.columns)\n",
    "X_scaled.head()"
   ]
  },
  {
   "cell_type": "code",
   "execution_count": null,
   "metadata": {
    "id": "jtyhFFFc6H9F"
   },
   "outputs": [],
   "source": [
    "np.random.seed(25)\n",
    "X_train2, X_holdout2, Y_train2, Y_holdout2 = train_test_split(X_scaled, Y, test_size = 0.10)"
   ]
  },
  {
   "cell_type": "code",
   "execution_count": null,
   "metadata": {
    "colab": {
     "base_uri": "https://localhost:8080/"
    },
    "id": "bEw9vVUj6sjL",
    "outputId": "eedc099d-6979-41df-eaeb-54bbe8de4a2b"
   },
   "outputs": [
    {
     "data": {
      "text/plain": [
       "array([ 0.02428529, -0.04529468,  0.01803751, -0.0026532 ,  0.0105002 ,\n",
       "        0.02616455, -0.0596182 , -0.01135203])"
      ]
     },
     "execution_count": 44,
     "metadata": {},
     "output_type": "execute_result"
    }
   ],
   "source": [
    "regularized_model = Ridge(alpha = 10**2)\n",
    "regularized_model.fit(X_train2, Y_train2)\n",
    "regularized_model.coef_"
   ]
  },
  {
   "cell_type": "code",
   "execution_count": null,
   "metadata": {
    "colab": {
     "base_uri": "https://localhost:8080/",
     "height": 1000
    },
    "id": "cw1SZufA8SUM",
    "outputId": "5a774df6-ef84-4a88-b05f-544cf1bfceea"
   },
   "outputs": [
    {
     "data": {
      "text/html": [
       "\n",
       "  <div id=\"df-917f95e5-862f-4b91-8d33-2bf8acde6286\">\n",
       "    <div class=\"colab-df-container\">\n",
       "      <div>\n",
       "<style scoped>\n",
       "    .dataframe tbody tr th:only-of-type {\n",
       "        vertical-align: middle;\n",
       "    }\n",
       "\n",
       "    .dataframe tbody tr th {\n",
       "        vertical-align: top;\n",
       "    }\n",
       "\n",
       "    .dataframe thead th {\n",
       "        text-align: right;\n",
       "    }\n",
       "</style>\n",
       "<table border=\"1\" class=\"dataframe\">\n",
       "  <thead>\n",
       "    <tr style=\"text-align: right;\">\n",
       "      <th></th>\n",
       "      <th>alpha</th>\n",
       "      <th>Training Error</th>\n",
       "      <th>Holdout Error</th>\n",
       "    </tr>\n",
       "  </thead>\n",
       "  <tbody>\n",
       "    <tr>\n",
       "      <th>0</th>\n",
       "      <td>1.000000e+01</td>\n",
       "      <td>0.484516</td>\n",
       "      <td>0.494481</td>\n",
       "    </tr>\n",
       "    <tr>\n",
       "      <th>1</th>\n",
       "      <td>1.511775e+01</td>\n",
       "      <td>0.484516</td>\n",
       "      <td>0.494443</td>\n",
       "    </tr>\n",
       "    <tr>\n",
       "      <th>2</th>\n",
       "      <td>2.285464e+01</td>\n",
       "      <td>0.484517</td>\n",
       "      <td>0.494387</td>\n",
       "    </tr>\n",
       "    <tr>\n",
       "      <th>3</th>\n",
       "      <td>3.455107e+01</td>\n",
       "      <td>0.484518</td>\n",
       "      <td>0.494303</td>\n",
       "    </tr>\n",
       "    <tr>\n",
       "      <th>4</th>\n",
       "      <td>5.223345e+01</td>\n",
       "      <td>0.484520</td>\n",
       "      <td>0.494181</td>\n",
       "    </tr>\n",
       "    <tr>\n",
       "      <th>5</th>\n",
       "      <td>7.896523e+01</td>\n",
       "      <td>0.484524</td>\n",
       "      <td>0.494004</td>\n",
       "    </tr>\n",
       "    <tr>\n",
       "      <th>6</th>\n",
       "      <td>1.193777e+02</td>\n",
       "      <td>0.484534</td>\n",
       "      <td>0.493753</td>\n",
       "    </tr>\n",
       "    <tr>\n",
       "      <th>7</th>\n",
       "      <td>1.804722e+02</td>\n",
       "      <td>0.484554</td>\n",
       "      <td>0.493407</td>\n",
       "    </tr>\n",
       "    <tr>\n",
       "      <th>8</th>\n",
       "      <td>2.728333e+02</td>\n",
       "      <td>0.484595</td>\n",
       "      <td>0.492948</td>\n",
       "    </tr>\n",
       "    <tr>\n",
       "      <th>9</th>\n",
       "      <td>4.124626e+02</td>\n",
       "      <td>0.484672</td>\n",
       "      <td>0.492368</td>\n",
       "    </tr>\n",
       "    <tr>\n",
       "      <th>10</th>\n",
       "      <td>6.235507e+02</td>\n",
       "      <td>0.484812</td>\n",
       "      <td>0.491674</td>\n",
       "    </tr>\n",
       "    <tr>\n",
       "      <th>11</th>\n",
       "      <td>9.426685e+02</td>\n",
       "      <td>0.485050</td>\n",
       "      <td>0.490900</td>\n",
       "    </tr>\n",
       "    <tr>\n",
       "      <th>12</th>\n",
       "      <td>1.425103e+03</td>\n",
       "      <td>0.485428</td>\n",
       "      <td>0.490097</td>\n",
       "    </tr>\n",
       "    <tr>\n",
       "      <th>13</th>\n",
       "      <td>2.154435e+03</td>\n",
       "      <td>0.485986</td>\n",
       "      <td>0.489333</td>\n",
       "    </tr>\n",
       "    <tr>\n",
       "      <th>14</th>\n",
       "      <td>3.257021e+03</td>\n",
       "      <td>0.486741</td>\n",
       "      <td>0.488671</td>\n",
       "    </tr>\n",
       "    <tr>\n",
       "      <th>15</th>\n",
       "      <td>4.923883e+03</td>\n",
       "      <td>0.487671</td>\n",
       "      <td>0.488160</td>\n",
       "    </tr>\n",
       "    <tr>\n",
       "      <th>16</th>\n",
       "      <td>7.443803e+03</td>\n",
       "      <td>0.488709</td>\n",
       "      <td>0.487819</td>\n",
       "    </tr>\n",
       "    <tr>\n",
       "      <th>17</th>\n",
       "      <td>1.125336e+04</td>\n",
       "      <td>0.489755</td>\n",
       "      <td>0.487632</td>\n",
       "    </tr>\n",
       "    <tr>\n",
       "      <th>18</th>\n",
       "      <td>1.701254e+04</td>\n",
       "      <td>0.490717</td>\n",
       "      <td>0.487559</td>\n",
       "    </tr>\n",
       "    <tr>\n",
       "      <th>19</th>\n",
       "      <td>2.571914e+04</td>\n",
       "      <td>0.491530</td>\n",
       "      <td>0.487556</td>\n",
       "    </tr>\n",
       "    <tr>\n",
       "      <th>20</th>\n",
       "      <td>3.888155e+04</td>\n",
       "      <td>0.492174</td>\n",
       "      <td>0.487585</td>\n",
       "    </tr>\n",
       "    <tr>\n",
       "      <th>21</th>\n",
       "      <td>5.878016e+04</td>\n",
       "      <td>0.492657</td>\n",
       "      <td>0.487623</td>\n",
       "    </tr>\n",
       "    <tr>\n",
       "      <th>22</th>\n",
       "      <td>8.886238e+04</td>\n",
       "      <td>0.493006</td>\n",
       "      <td>0.487658</td>\n",
       "    </tr>\n",
       "    <tr>\n",
       "      <th>23</th>\n",
       "      <td>1.343399e+05</td>\n",
       "      <td>0.493252</td>\n",
       "      <td>0.487687</td>\n",
       "    </tr>\n",
       "    <tr>\n",
       "      <th>24</th>\n",
       "      <td>2.030918e+05</td>\n",
       "      <td>0.493421</td>\n",
       "      <td>0.487708</td>\n",
       "    </tr>\n",
       "    <tr>\n",
       "      <th>25</th>\n",
       "      <td>3.070291e+05</td>\n",
       "      <td>0.493536</td>\n",
       "      <td>0.487723</td>\n",
       "    </tr>\n",
       "    <tr>\n",
       "      <th>26</th>\n",
       "      <td>4.641589e+05</td>\n",
       "      <td>0.493613</td>\n",
       "      <td>0.487734</td>\n",
       "    </tr>\n",
       "    <tr>\n",
       "      <th>27</th>\n",
       "      <td>7.017038e+05</td>\n",
       "      <td>0.493665</td>\n",
       "      <td>0.487741</td>\n",
       "    </tr>\n",
       "    <tr>\n",
       "      <th>28</th>\n",
       "      <td>1.060818e+06</td>\n",
       "      <td>0.493699</td>\n",
       "      <td>0.487746</td>\n",
       "    </tr>\n",
       "    <tr>\n",
       "      <th>29</th>\n",
       "      <td>1.603719e+06</td>\n",
       "      <td>0.493722</td>\n",
       "      <td>0.487749</td>\n",
       "    </tr>\n",
       "    <tr>\n",
       "      <th>30</th>\n",
       "      <td>2.424462e+06</td>\n",
       "      <td>0.493738</td>\n",
       "      <td>0.487752</td>\n",
       "    </tr>\n",
       "    <tr>\n",
       "      <th>31</th>\n",
       "      <td>3.665241e+06</td>\n",
       "      <td>0.493748</td>\n",
       "      <td>0.487753</td>\n",
       "    </tr>\n",
       "    <tr>\n",
       "      <th>32</th>\n",
       "      <td>5.541020e+06</td>\n",
       "      <td>0.493754</td>\n",
       "      <td>0.487754</td>\n",
       "    </tr>\n",
       "    <tr>\n",
       "      <th>33</th>\n",
       "      <td>8.376776e+06</td>\n",
       "      <td>0.493759</td>\n",
       "      <td>0.487755</td>\n",
       "    </tr>\n",
       "    <tr>\n",
       "      <th>34</th>\n",
       "      <td>1.266380e+07</td>\n",
       "      <td>0.493762</td>\n",
       "      <td>0.487755</td>\n",
       "    </tr>\n",
       "    <tr>\n",
       "      <th>35</th>\n",
       "      <td>1.914482e+07</td>\n",
       "      <td>0.493764</td>\n",
       "      <td>0.487755</td>\n",
       "    </tr>\n",
       "    <tr>\n",
       "      <th>36</th>\n",
       "      <td>2.894266e+07</td>\n",
       "      <td>0.493765</td>\n",
       "      <td>0.487756</td>\n",
       "    </tr>\n",
       "    <tr>\n",
       "      <th>37</th>\n",
       "      <td>4.375479e+07</td>\n",
       "      <td>0.493766</td>\n",
       "      <td>0.487756</td>\n",
       "    </tr>\n",
       "    <tr>\n",
       "      <th>38</th>\n",
       "      <td>6.614741e+07</td>\n",
       "      <td>0.493766</td>\n",
       "      <td>0.487756</td>\n",
       "    </tr>\n",
       "    <tr>\n",
       "      <th>39</th>\n",
       "      <td>1.000000e+08</td>\n",
       "      <td>0.493767</td>\n",
       "      <td>0.487756</td>\n",
       "    </tr>\n",
       "  </tbody>\n",
       "</table>\n",
       "</div>\n",
       "      <button class=\"colab-df-convert\" onclick=\"convertToInteractive('df-917f95e5-862f-4b91-8d33-2bf8acde6286')\"\n",
       "              title=\"Convert this dataframe to an interactive table.\"\n",
       "              style=\"display:none;\">\n",
       "        \n",
       "  <svg xmlns=\"http://www.w3.org/2000/svg\" height=\"24px\"viewBox=\"0 0 24 24\"\n",
       "       width=\"24px\">\n",
       "    <path d=\"M0 0h24v24H0V0z\" fill=\"none\"/>\n",
       "    <path d=\"M18.56 5.44l.94 2.06.94-2.06 2.06-.94-2.06-.94-.94-2.06-.94 2.06-2.06.94zm-11 1L8.5 8.5l.94-2.06 2.06-.94-2.06-.94L8.5 2.5l-.94 2.06-2.06.94zm10 10l.94 2.06.94-2.06 2.06-.94-2.06-.94-.94-2.06-.94 2.06-2.06.94z\"/><path d=\"M17.41 7.96l-1.37-1.37c-.4-.4-.92-.59-1.43-.59-.52 0-1.04.2-1.43.59L10.3 9.45l-7.72 7.72c-.78.78-.78 2.05 0 2.83L4 21.41c.39.39.9.59 1.41.59.51 0 1.02-.2 1.41-.59l7.78-7.78 2.81-2.81c.8-.78.8-2.07 0-2.86zM5.41 20L4 18.59l7.72-7.72 1.47 1.35L5.41 20z\"/>\n",
       "  </svg>\n",
       "      </button>\n",
       "      \n",
       "  <style>\n",
       "    .colab-df-container {\n",
       "      display:flex;\n",
       "      flex-wrap:wrap;\n",
       "      gap: 12px;\n",
       "    }\n",
       "\n",
       "    .colab-df-convert {\n",
       "      background-color: #E8F0FE;\n",
       "      border: none;\n",
       "      border-radius: 50%;\n",
       "      cursor: pointer;\n",
       "      display: none;\n",
       "      fill: #1967D2;\n",
       "      height: 32px;\n",
       "      padding: 0 0 0 0;\n",
       "      width: 32px;\n",
       "    }\n",
       "\n",
       "    .colab-df-convert:hover {\n",
       "      background-color: #E2EBFA;\n",
       "      box-shadow: 0px 1px 2px rgba(60, 64, 67, 0.3), 0px 1px 3px 1px rgba(60, 64, 67, 0.15);\n",
       "      fill: #174EA6;\n",
       "    }\n",
       "\n",
       "    [theme=dark] .colab-df-convert {\n",
       "      background-color: #3B4455;\n",
       "      fill: #D2E3FC;\n",
       "    }\n",
       "\n",
       "    [theme=dark] .colab-df-convert:hover {\n",
       "      background-color: #434B5C;\n",
       "      box-shadow: 0px 1px 3px 1px rgba(0, 0, 0, 0.15);\n",
       "      filter: drop-shadow(0px 1px 2px rgba(0, 0, 0, 0.3));\n",
       "      fill: #FFFFFF;\n",
       "    }\n",
       "  </style>\n",
       "\n",
       "      <script>\n",
       "        const buttonEl =\n",
       "          document.querySelector('#df-917f95e5-862f-4b91-8d33-2bf8acde6286 button.colab-df-convert');\n",
       "        buttonEl.style.display =\n",
       "          google.colab.kernel.accessAllowed ? 'block' : 'none';\n",
       "\n",
       "        async function convertToInteractive(key) {\n",
       "          const element = document.querySelector('#df-917f95e5-862f-4b91-8d33-2bf8acde6286');\n",
       "          const dataTable =\n",
       "            await google.colab.kernel.invokeFunction('convertToInteractive',\n",
       "                                                     [key], {});\n",
       "          if (!dataTable) return;\n",
       "\n",
       "          const docLinkHtml = 'Like what you see? Visit the ' +\n",
       "            '<a target=\"_blank\" href=https://colab.research.google.com/notebooks/data_table.ipynb>data table notebook</a>'\n",
       "            + ' to learn more about interactive tables.';\n",
       "          element.innerHTML = '';\n",
       "          dataTable['output_type'] = 'display_data';\n",
       "          await google.colab.output.renderOutput(dataTable, element);\n",
       "          const docLink = document.createElement('div');\n",
       "          docLink.innerHTML = docLinkHtml;\n",
       "          element.appendChild(docLink);\n",
       "        }\n",
       "      </script>\n",
       "    </div>\n",
       "  </div>\n",
       "  "
      ],
      "text/plain": [
       "           alpha  Training Error  Holdout Error\n",
       "0   1.000000e+01        0.484516       0.494481\n",
       "1   1.511775e+01        0.484516       0.494443\n",
       "2   2.285464e+01        0.484517       0.494387\n",
       "3   3.455107e+01        0.484518       0.494303\n",
       "4   5.223345e+01        0.484520       0.494181\n",
       "5   7.896523e+01        0.484524       0.494004\n",
       "6   1.193777e+02        0.484534       0.493753\n",
       "7   1.804722e+02        0.484554       0.493407\n",
       "8   2.728333e+02        0.484595       0.492948\n",
       "9   4.124626e+02        0.484672       0.492368\n",
       "10  6.235507e+02        0.484812       0.491674\n",
       "11  9.426685e+02        0.485050       0.490900\n",
       "12  1.425103e+03        0.485428       0.490097\n",
       "13  2.154435e+03        0.485986       0.489333\n",
       "14  3.257021e+03        0.486741       0.488671\n",
       "15  4.923883e+03        0.487671       0.488160\n",
       "16  7.443803e+03        0.488709       0.487819\n",
       "17  1.125336e+04        0.489755       0.487632\n",
       "18  1.701254e+04        0.490717       0.487559\n",
       "19  2.571914e+04        0.491530       0.487556\n",
       "20  3.888155e+04        0.492174       0.487585\n",
       "21  5.878016e+04        0.492657       0.487623\n",
       "22  8.886238e+04        0.493006       0.487658\n",
       "23  1.343399e+05        0.493252       0.487687\n",
       "24  2.030918e+05        0.493421       0.487708\n",
       "25  3.070291e+05        0.493536       0.487723\n",
       "26  4.641589e+05        0.493613       0.487734\n",
       "27  7.017038e+05        0.493665       0.487741\n",
       "28  1.060818e+06        0.493699       0.487746\n",
       "29  1.603719e+06        0.493722       0.487749\n",
       "30  2.424462e+06        0.493738       0.487752\n",
       "31  3.665241e+06        0.493748       0.487753\n",
       "32  5.541020e+06        0.493754       0.487754\n",
       "33  8.376776e+06        0.493759       0.487755\n",
       "34  1.266380e+07        0.493762       0.487755\n",
       "35  1.914482e+07        0.493764       0.487755\n",
       "36  2.894266e+07        0.493765       0.487756\n",
       "37  4.375479e+07        0.493766       0.487756\n",
       "38  6.614741e+07        0.493766       0.487756\n",
       "39  1.000000e+08        0.493767       0.487756"
      ]
     },
     "execution_count": 45,
     "metadata": {},
     "output_type": "execute_result"
    }
   ],
   "source": [
    "error_vs_alpha = pd.DataFrame(columns = [\"alpha\", \"Training Error\", \"Holdout Error\"])\n",
    "range_of_alphas = 10**np.linspace(1, 8, 40)\n",
    "\n",
    "for alpha in range_of_alphas:\n",
    "    \n",
    "    current_model = Ridge(alpha = alpha)\n",
    "    current_model.fit(X_train2, Y_train2)\n",
    "    train_error_c = rmse(Y_train2, current_model.predict(X_train2))\n",
    "    holdout_error_c = rmse(Y_holdout2, current_model.predict(X_holdout2))\n",
    "    error_vs_alpha.loc[len(error_vs_alpha)] = [alpha, train_error_c, holdout_error_c]\n",
    "\n",
    "error_vs_alpha"
   ]
  },
  {
   "cell_type": "code",
   "execution_count": null,
   "metadata": {
    "colab": {
     "base_uri": "https://localhost:8080/",
     "height": 542
    },
    "id": "xIKbtj788ugF",
    "outputId": "8af3168b-07d9-474a-e1ac-1a58c91f4650"
   },
   "outputs": [
    {
     "data": {
      "text/html": [
       "<html>\n",
       "<head><meta charset=\"utf-8\" /></head>\n",
       "<body>\n",
       "    <div>            <script src=\"https://cdnjs.cloudflare.com/ajax/libs/mathjax/2.7.5/MathJax.js?config=TeX-AMS-MML_SVG\"></script><script type=\"text/javascript\">if (window.MathJax) {MathJax.Hub.Config({SVG: {font: \"STIX-Web\"}});}</script>                <script type=\"text/javascript\">window.PlotlyConfig = {MathJaxConfig: 'local'};</script>\n",
       "        <script src=\"https://cdn.plot.ly/plotly-2.8.3.min.js\"></script>                <div id=\"2f0aa568-88d7-431c-827b-9f53f302e132\" class=\"plotly-graph-div\" style=\"height:525px; width:100%;\"></div>            <script type=\"text/javascript\">                                    window.PLOTLYENV=window.PLOTLYENV || {};                                    if (document.getElementById(\"2f0aa568-88d7-431c-827b-9f53f302e132\")) {                    Plotly.newPlot(                        \"2f0aa568-88d7-431c-827b-9f53f302e132\",                        [{\"hovertemplate\":\"variable=Training Error<br>alpha=%{x}<br>value=%{y}<extra></extra>\",\"legendgroup\":\"Training Error\",\"line\":{\"color\":\"#636efa\",\"dash\":\"solid\"},\"marker\":{\"symbol\":\"circle\"},\"mode\":\"lines\",\"name\":\"Training Error\",\"orientation\":\"v\",\"showlegend\":true,\"x\":[10.0,15.117750706156622,22.854638641349908,34.55107294592218,52.23345074266843,78.96522868499724,119.37766417144357,180.47217668271702,272.83333764867695,412.4626382901352,623.5507341273913,942.6684551178854,1425.1026703029977,2154.4346900318847,3257.020655659783,4923.882631706741,7443.803013251689,11253.355826007646,17012.54279852589,25719.13809059347,38881.55180308085,58780.16072274912,88862.38162743408,134339.93325989015,203091.76209047346,307029.062975785,464158.8833612782,701703.8286703823,1060818.3551394483,1603718.743751331,2424462.017082331,3665241.237079626,5541020.330009492,8376776.400682924,12663801.734674022,19144819.761699576,28942661.247167516,43754793.75074189,66147406.41230146,100000000.0],\"xaxis\":\"x\",\"y\":[0.4845160804435736,0.4845162680771011,0.48451669080489096,0.48451763649355944,0.48451973038242563,0.4845242981418392,0.484534056162432,0.4845543150917343,0.48459483295239403,0.48467219530023886,0.4848120739866656,0.4850499807845158,0.4854281890304467,0.4859857757991149,0.48674081201348246,0.48767123668900386,0.48870864612754944,0.48975520396864564,0.49071656717715934,0.4915301580812624,0.4921738753963842,0.49265725317827047,0.4930064163864404,0.4932517091330224,0.4934207096001938,0.4935355998887704,0.4936129992655014,0.4936648242855877,0.49369938374993466,0.49372236701793637,0.4937376240564693,0.49374774001013316,0.49375444190247203,0.4937588796120201,0.49376181704895084,0.4937637609662499,0.4937650472019195,0.49376589818188293,0.4937664611567696,0.4937668335823131],\"yaxis\":\"y\",\"type\":\"scatter\"},{\"hovertemplate\":\"variable=Holdout Error<br>alpha=%{x}<br>value=%{y}<extra></extra>\",\"legendgroup\":\"Holdout Error\",\"line\":{\"color\":\"#EF553B\",\"dash\":\"solid\"},\"marker\":{\"symbol\":\"circle\"},\"mode\":\"lines\",\"name\":\"Holdout Error\",\"orientation\":\"v\",\"showlegend\":true,\"x\":[10.0,15.117750706156622,22.854638641349908,34.55107294592218,52.23345074266843,78.96522868499724,119.37766417144357,180.47217668271702,272.83333764867695,412.4626382901352,623.5507341273913,942.6684551178854,1425.1026703029977,2154.4346900318847,3257.020655659783,4923.882631706741,7443.803013251689,11253.355826007646,17012.54279852589,25719.13809059347,38881.55180308085,58780.16072274912,88862.38162743408,134339.93325989015,203091.76209047346,307029.062975785,464158.8833612782,701703.8286703823,1060818.3551394483,1603718.743751331,2424462.017082331,3665241.237079626,5541020.330009492,8376776.400682924,12663801.734674022,19144819.761699576,28942661.247167516,43754793.75074189,66147406.41230146,100000000.0],\"xaxis\":\"x\",\"y\":[0.4944806448665256,0.4944429124512178,0.4943866326222137,0.4943032461422323,0.49418090255973507,0.4940039366217218,0.4937530913767838,0.49340736032918403,0.49294838946004693,0.4923675839095329,0.49167407621032827,0.4908996865389434,0.49009738474214093,0.48933282588933075,0.48867094754301527,0.48816020350704514,0.48781900985208654,0.48763186079624543,0.4875593251271435,0.4875559807418218,0.48758488871668504,0.4876227594963817,0.4876580200582646,0.4876865269741392,0.4877078903089066,0.4877231946194328,0.48773385481361736,0.48774114824274767,0.4877460806581735,0.4877493912043767,0.4877516021786093,0.4877530739812976,0.4877540516256338,0.4877547001039294,0.4877551298408688,0.4877554144447247,0.48775560285342745,0.4877557275468393,0.4877558100571589,0.4877558646482265],\"yaxis\":\"y\",\"type\":\"scatter\"}],                        {\"template\":{\"data\":{\"bar\":[{\"error_x\":{\"color\":\"#2a3f5f\"},\"error_y\":{\"color\":\"#2a3f5f\"},\"marker\":{\"line\":{\"color\":\"#E5ECF6\",\"width\":0.5},\"pattern\":{\"fillmode\":\"overlay\",\"size\":10,\"solidity\":0.2}},\"type\":\"bar\"}],\"barpolar\":[{\"marker\":{\"line\":{\"color\":\"#E5ECF6\",\"width\":0.5},\"pattern\":{\"fillmode\":\"overlay\",\"size\":10,\"solidity\":0.2}},\"type\":\"barpolar\"}],\"carpet\":[{\"aaxis\":{\"endlinecolor\":\"#2a3f5f\",\"gridcolor\":\"white\",\"linecolor\":\"white\",\"minorgridcolor\":\"white\",\"startlinecolor\":\"#2a3f5f\"},\"baxis\":{\"endlinecolor\":\"#2a3f5f\",\"gridcolor\":\"white\",\"linecolor\":\"white\",\"minorgridcolor\":\"white\",\"startlinecolor\":\"#2a3f5f\"},\"type\":\"carpet\"}],\"choropleth\":[{\"colorbar\":{\"outlinewidth\":0,\"ticks\":\"\"},\"type\":\"choropleth\"}],\"contour\":[{\"colorbar\":{\"outlinewidth\":0,\"ticks\":\"\"},\"colorscale\":[[0.0,\"#0d0887\"],[0.1111111111111111,\"#46039f\"],[0.2222222222222222,\"#7201a8\"],[0.3333333333333333,\"#9c179e\"],[0.4444444444444444,\"#bd3786\"],[0.5555555555555556,\"#d8576b\"],[0.6666666666666666,\"#ed7953\"],[0.7777777777777778,\"#fb9f3a\"],[0.8888888888888888,\"#fdca26\"],[1.0,\"#f0f921\"]],\"type\":\"contour\"}],\"contourcarpet\":[{\"colorbar\":{\"outlinewidth\":0,\"ticks\":\"\"},\"type\":\"contourcarpet\"}],\"heatmap\":[{\"colorbar\":{\"outlinewidth\":0,\"ticks\":\"\"},\"colorscale\":[[0.0,\"#0d0887\"],[0.1111111111111111,\"#46039f\"],[0.2222222222222222,\"#7201a8\"],[0.3333333333333333,\"#9c179e\"],[0.4444444444444444,\"#bd3786\"],[0.5555555555555556,\"#d8576b\"],[0.6666666666666666,\"#ed7953\"],[0.7777777777777778,\"#fb9f3a\"],[0.8888888888888888,\"#fdca26\"],[1.0,\"#f0f921\"]],\"type\":\"heatmap\"}],\"heatmapgl\":[{\"colorbar\":{\"outlinewidth\":0,\"ticks\":\"\"},\"colorscale\":[[0.0,\"#0d0887\"],[0.1111111111111111,\"#46039f\"],[0.2222222222222222,\"#7201a8\"],[0.3333333333333333,\"#9c179e\"],[0.4444444444444444,\"#bd3786\"],[0.5555555555555556,\"#d8576b\"],[0.6666666666666666,\"#ed7953\"],[0.7777777777777778,\"#fb9f3a\"],[0.8888888888888888,\"#fdca26\"],[1.0,\"#f0f921\"]],\"type\":\"heatmapgl\"}],\"histogram\":[{\"marker\":{\"pattern\":{\"fillmode\":\"overlay\",\"size\":10,\"solidity\":0.2}},\"type\":\"histogram\"}],\"histogram2d\":[{\"colorbar\":{\"outlinewidth\":0,\"ticks\":\"\"},\"colorscale\":[[0.0,\"#0d0887\"],[0.1111111111111111,\"#46039f\"],[0.2222222222222222,\"#7201a8\"],[0.3333333333333333,\"#9c179e\"],[0.4444444444444444,\"#bd3786\"],[0.5555555555555556,\"#d8576b\"],[0.6666666666666666,\"#ed7953\"],[0.7777777777777778,\"#fb9f3a\"],[0.8888888888888888,\"#fdca26\"],[1.0,\"#f0f921\"]],\"type\":\"histogram2d\"}],\"histogram2dcontour\":[{\"colorbar\":{\"outlinewidth\":0,\"ticks\":\"\"},\"colorscale\":[[0.0,\"#0d0887\"],[0.1111111111111111,\"#46039f\"],[0.2222222222222222,\"#7201a8\"],[0.3333333333333333,\"#9c179e\"],[0.4444444444444444,\"#bd3786\"],[0.5555555555555556,\"#d8576b\"],[0.6666666666666666,\"#ed7953\"],[0.7777777777777778,\"#fb9f3a\"],[0.8888888888888888,\"#fdca26\"],[1.0,\"#f0f921\"]],\"type\":\"histogram2dcontour\"}],\"mesh3d\":[{\"colorbar\":{\"outlinewidth\":0,\"ticks\":\"\"},\"type\":\"mesh3d\"}],\"parcoords\":[{\"line\":{\"colorbar\":{\"outlinewidth\":0,\"ticks\":\"\"}},\"type\":\"parcoords\"}],\"pie\":[{\"automargin\":true,\"type\":\"pie\"}],\"scatter\":[{\"marker\":{\"colorbar\":{\"outlinewidth\":0,\"ticks\":\"\"}},\"type\":\"scatter\"}],\"scatter3d\":[{\"line\":{\"colorbar\":{\"outlinewidth\":0,\"ticks\":\"\"}},\"marker\":{\"colorbar\":{\"outlinewidth\":0,\"ticks\":\"\"}},\"type\":\"scatter3d\"}],\"scattercarpet\":[{\"marker\":{\"colorbar\":{\"outlinewidth\":0,\"ticks\":\"\"}},\"type\":\"scattercarpet\"}],\"scattergeo\":[{\"marker\":{\"colorbar\":{\"outlinewidth\":0,\"ticks\":\"\"}},\"type\":\"scattergeo\"}],\"scattergl\":[{\"marker\":{\"colorbar\":{\"outlinewidth\":0,\"ticks\":\"\"}},\"type\":\"scattergl\"}],\"scattermapbox\":[{\"marker\":{\"colorbar\":{\"outlinewidth\":0,\"ticks\":\"\"}},\"type\":\"scattermapbox\"}],\"scatterpolar\":[{\"marker\":{\"colorbar\":{\"outlinewidth\":0,\"ticks\":\"\"}},\"type\":\"scatterpolar\"}],\"scatterpolargl\":[{\"marker\":{\"colorbar\":{\"outlinewidth\":0,\"ticks\":\"\"}},\"type\":\"scatterpolargl\"}],\"scatterternary\":[{\"marker\":{\"colorbar\":{\"outlinewidth\":0,\"ticks\":\"\"}},\"type\":\"scatterternary\"}],\"surface\":[{\"colorbar\":{\"outlinewidth\":0,\"ticks\":\"\"},\"colorscale\":[[0.0,\"#0d0887\"],[0.1111111111111111,\"#46039f\"],[0.2222222222222222,\"#7201a8\"],[0.3333333333333333,\"#9c179e\"],[0.4444444444444444,\"#bd3786\"],[0.5555555555555556,\"#d8576b\"],[0.6666666666666666,\"#ed7953\"],[0.7777777777777778,\"#fb9f3a\"],[0.8888888888888888,\"#fdca26\"],[1.0,\"#f0f921\"]],\"type\":\"surface\"}],\"table\":[{\"cells\":{\"fill\":{\"color\":\"#EBF0F8\"},\"line\":{\"color\":\"white\"}},\"header\":{\"fill\":{\"color\":\"#C8D4E3\"},\"line\":{\"color\":\"white\"}},\"type\":\"table\"}]},\"layout\":{\"annotationdefaults\":{\"arrowcolor\":\"#2a3f5f\",\"arrowhead\":0,\"arrowwidth\":1},\"autotypenumbers\":\"strict\",\"coloraxis\":{\"colorbar\":{\"outlinewidth\":0,\"ticks\":\"\"}},\"colorscale\":{\"diverging\":[[0,\"#8e0152\"],[0.1,\"#c51b7d\"],[0.2,\"#de77ae\"],[0.3,\"#f1b6da\"],[0.4,\"#fde0ef\"],[0.5,\"#f7f7f7\"],[0.6,\"#e6f5d0\"],[0.7,\"#b8e186\"],[0.8,\"#7fbc41\"],[0.9,\"#4d9221\"],[1,\"#276419\"]],\"sequential\":[[0.0,\"#0d0887\"],[0.1111111111111111,\"#46039f\"],[0.2222222222222222,\"#7201a8\"],[0.3333333333333333,\"#9c179e\"],[0.4444444444444444,\"#bd3786\"],[0.5555555555555556,\"#d8576b\"],[0.6666666666666666,\"#ed7953\"],[0.7777777777777778,\"#fb9f3a\"],[0.8888888888888888,\"#fdca26\"],[1.0,\"#f0f921\"]],\"sequentialminus\":[[0.0,\"#0d0887\"],[0.1111111111111111,\"#46039f\"],[0.2222222222222222,\"#7201a8\"],[0.3333333333333333,\"#9c179e\"],[0.4444444444444444,\"#bd3786\"],[0.5555555555555556,\"#d8576b\"],[0.6666666666666666,\"#ed7953\"],[0.7777777777777778,\"#fb9f3a\"],[0.8888888888888888,\"#fdca26\"],[1.0,\"#f0f921\"]]},\"colorway\":[\"#636efa\",\"#EF553B\",\"#00cc96\",\"#ab63fa\",\"#FFA15A\",\"#19d3f3\",\"#FF6692\",\"#B6E880\",\"#FF97FF\",\"#FECB52\"],\"font\":{\"color\":\"#2a3f5f\"},\"geo\":{\"bgcolor\":\"white\",\"lakecolor\":\"white\",\"landcolor\":\"#E5ECF6\",\"showlakes\":true,\"showland\":true,\"subunitcolor\":\"white\"},\"hoverlabel\":{\"align\":\"left\"},\"hovermode\":\"closest\",\"mapbox\":{\"style\":\"light\"},\"paper_bgcolor\":\"white\",\"plot_bgcolor\":\"#E5ECF6\",\"polar\":{\"angularaxis\":{\"gridcolor\":\"white\",\"linecolor\":\"white\",\"ticks\":\"\"},\"bgcolor\":\"#E5ECF6\",\"radialaxis\":{\"gridcolor\":\"white\",\"linecolor\":\"white\",\"ticks\":\"\"}},\"scene\":{\"xaxis\":{\"backgroundcolor\":\"#E5ECF6\",\"gridcolor\":\"white\",\"gridwidth\":2,\"linecolor\":\"white\",\"showbackground\":true,\"ticks\":\"\",\"zerolinecolor\":\"white\"},\"yaxis\":{\"backgroundcolor\":\"#E5ECF6\",\"gridcolor\":\"white\",\"gridwidth\":2,\"linecolor\":\"white\",\"showbackground\":true,\"ticks\":\"\",\"zerolinecolor\":\"white\"},\"zaxis\":{\"backgroundcolor\":\"#E5ECF6\",\"gridcolor\":\"white\",\"gridwidth\":2,\"linecolor\":\"white\",\"showbackground\":true,\"ticks\":\"\",\"zerolinecolor\":\"white\"}},\"shapedefaults\":{\"line\":{\"color\":\"#2a3f5f\"}},\"ternary\":{\"aaxis\":{\"gridcolor\":\"white\",\"linecolor\":\"white\",\"ticks\":\"\"},\"baxis\":{\"gridcolor\":\"white\",\"linecolor\":\"white\",\"ticks\":\"\"},\"bgcolor\":\"#E5ECF6\",\"caxis\":{\"gridcolor\":\"white\",\"linecolor\":\"white\",\"ticks\":\"\"}},\"title\":{\"x\":0.05},\"xaxis\":{\"automargin\":true,\"gridcolor\":\"white\",\"linecolor\":\"white\",\"ticks\":\"\",\"title\":{\"standoff\":15},\"zerolinecolor\":\"white\",\"zerolinewidth\":2},\"yaxis\":{\"automargin\":true,\"gridcolor\":\"white\",\"linecolor\":\"white\",\"ticks\":\"\",\"title\":{\"standoff\":15},\"zerolinecolor\":\"white\",\"zerolinewidth\":2}}},\"xaxis\":{\"anchor\":\"y\",\"domain\":[0.0,1.0],\"title\":{\"text\":\"alpha\"},\"type\":\"log\"},\"yaxis\":{\"anchor\":\"x\",\"domain\":[0.0,1.0],\"title\":{\"text\":\"value\"}},\"legend\":{\"title\":{\"text\":\"variable\"},\"tracegroupgap\":0},\"margin\":{\"t\":60}},                        {\"responsive\": true}                    ).then(function(){\n",
       "                            \n",
       "var gd = document.getElementById('2f0aa568-88d7-431c-827b-9f53f302e132');\n",
       "var x = new MutationObserver(function (mutations, observer) {{\n",
       "        var display = window.getComputedStyle(gd).display;\n",
       "        if (!display || display === 'none') {{\n",
       "            console.log([gd, 'removed!']);\n",
       "            Plotly.purge(gd);\n",
       "            observer.disconnect();\n",
       "        }}\n",
       "}});\n",
       "\n",
       "// Listen for the removal of the full notebook cells\n",
       "var notebookContainer = gd.closest('#notebook-container');\n",
       "if (notebookContainer) {{\n",
       "    x.observe(notebookContainer, {childList: true});\n",
       "}}\n",
       "\n",
       "// Listen for the clearing of the current output cell\n",
       "var outputEl = gd.closest('.output');\n",
       "if (outputEl) {{\n",
       "    x.observe(outputEl, {childList: true});\n",
       "}}\n",
       "\n",
       "                        })                };                            </script>        </div>\n",
       "</body>\n",
       "</html>"
      ]
     },
     "metadata": {},
     "output_type": "display_data"
    }
   ],
   "source": [
    "import plotly.express as px\n",
    "\n",
    "px.line(error_vs_alpha, x = \"alpha\", y = [\"Training Error\", \"Holdout Error\"], log_x=True)"
   ]
  },
  {
   "cell_type": "markdown",
   "metadata": {
    "id": "hjrh5TdB9uck"
   },
   "source": [
    "The best alpha is 17k."
   ]
  },
  {
   "cell_type": "code",
   "execution_count": null,
   "metadata": {
    "colab": {
     "base_uri": "https://localhost:8080/"
    },
    "id": "eV22vQYX98t6",
    "outputId": "5660109a-d9c5-40a0-8bcc-cc643684df62"
   },
   "outputs": [
    {
     "data": {
      "text/plain": [
       "array([ 0.00477914, -0.00624307,  0.00250044,  0.004786  ,  0.00275578,\n",
       "        0.00528881, -0.00880528, -0.00362108])"
      ]
     },
     "execution_count": 47,
     "metadata": {},
     "output_type": "execute_result"
    }
   ],
   "source": [
    "best_regularized_model = Ridge(alpha = 17000)\n",
    "best_regularized_model.fit(X_train2, Y_train2)\n",
    "best_regularized_model.coef_"
   ]
  },
  {
   "cell_type": "code",
   "execution_count": null,
   "metadata": {
    "colab": {
     "base_uri": "https://localhost:8080/"
    },
    "id": "26J-U67e-SrP",
    "outputId": "09c6dc93-6bbe-4ab4-b9a7-f3f0968b4afb"
   },
   "outputs": [
    {
     "data": {
      "text/plain": [
       "(0.4907149706983281, 0.4875593800982829)"
      ]
     },
     "execution_count": 48,
     "metadata": {},
     "output_type": "execute_result"
    }
   ],
   "source": [
    "best_train_error = rmse(Y_train2, best_regularized_model.predict(X_train2))\n",
    "best_holdout_error = rmse(Y_holdout2, best_regularized_model.predict(X_holdout2))\n",
    "best_train_error, best_holdout_error"
   ]
  },
  {
   "cell_type": "code",
   "execution_count": null,
   "metadata": {
    "colab": {
     "base_uri": "https://localhost:8080/"
    },
    "id": "lkc-07wXdYHK",
    "outputId": "cbcd4122-66c3-42f1-ecc8-282796442167"
   },
   "outputs": [
    {
     "data": {
      "text/plain": [
       "(0.012326264348082705, -0.004983365155391883)"
      ]
     },
     "execution_count": 49,
     "metadata": {},
     "output_type": "execute_result"
    }
   ],
   "source": [
    "from sklearn.metrics import r2_score\n",
    "\n",
    "r2_train = r2_score(Y_train2, best_regularized_model.predict(X_train2))\n",
    "r2_holdout = r2_score(Y_holdout2, best_regularized_model.predict(X_holdout2))\n",
    "r2_train, r2_holdout"
   ]
  }
 ],
 "metadata": {
  "colab": {
   "collapsed_sections": [],
   "name": "Final Project.ipynb",
   "provenance": []
  },
  "kernelspec": {
   "display_name": "Python 3 (ipykernel)",
   "language": "python",
   "name": "python3"
  },
  "language_info": {
   "codemirror_mode": {
    "name": "ipython",
    "version": 3
   },
   "file_extension": ".py",
   "mimetype": "text/x-python",
   "name": "python",
   "nbconvert_exporter": "python",
   "pygments_lexer": "ipython3",
   "version": "3.9.10"
  }
 },
 "nbformat": 4,
 "nbformat_minor": 1
}
