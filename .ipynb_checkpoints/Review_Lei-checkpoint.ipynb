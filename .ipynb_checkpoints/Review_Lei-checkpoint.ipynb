{
 "cells": [
  {
   "cell_type": "markdown",
   "id": "c9d58b72",
   "metadata": {},
   "source": [
    "# Amazon Reivew"
   ]
  },
  {
   "cell_type": "markdown",
   "id": "68a87c4f",
   "metadata": {},
   "source": [
    "Dataset description\n",
    "- reviewerID - ID of the reviewer, e.g. A2SUAM1J3GNN3B\n",
    "- asin - ID of the product, e.g. 0000013714\n",
    "- reviewerName - name of the reviewer\n",
    "- vote - helpful votes of the review\n",
    "- style - a disctionary of the product metadata, e.g., \"Format\" is \"Hardcover\"\n",
    "- reviewText - text of the review\n",
    "- overall - rating of the product\n",
    "- summary - summary of the review\n",
    "- unixReviewTime - time of the review (unix time)\n",
    "- reviewTime - time of the review (raw)\n",
    "- image - images that users post after they have received the product"
   ]
  },
  {
   "cell_type": "code",
   "execution_count": 313,
   "id": "303d81e6",
   "metadata": {},
   "outputs": [],
   "source": [
    "import pandas as pd\n",
    "import gzip\n",
    "import json\n",
    "import numpy as np\n",
    "\n",
    "import matplotlib.pyplot as plt\n",
    "import seaborn as sns\n",
    "\n",
    "import nltk\n",
    "from sklearn.feature_extraction.text import TfidfVectorizer\n",
    "\n",
    "from sklearn.preprocessing import OneHotEncoder\n",
    "\n",
    "\n",
    "from sklearn.model_selection import GridSearchCV\n",
    "from sklearn.model_selection import train_test_split\n",
    "from statsmodels.formula.api import ols\n",
    "from sklearn.linear_model import LinearRegression\n",
    "from sklearn.linear_model import LogisticRegression\n",
    "from sklearn.ensemble import RandomForestRegressor\n",
    "from sklearn.ensemble import RandomForestClassifier\n",
    "\n",
    "from sklearn.metrics import r2_score\n",
    "from sklearn.metrics import mean_squared_error"
   ]
  },
  {
   "cell_type": "code",
   "execution_count": 152,
   "id": "6aac21ff",
   "metadata": {},
   "outputs": [],
   "source": [
    "data = []\n",
    "\n",
    "for line in open('Prime_Pantry_5.json','r'):\n",
    "    data.append(json.loads(line))"
   ]
  },
  {
   "cell_type": "code",
   "execution_count": 261,
   "id": "d1bbcea5",
   "metadata": {},
   "outputs": [
    {
     "data": {
      "text/html": [
       "<div>\n",
       "<style scoped>\n",
       "    .dataframe tbody tr th:only-of-type {\n",
       "        vertical-align: middle;\n",
       "    }\n",
       "\n",
       "    .dataframe tbody tr th {\n",
       "        vertical-align: top;\n",
       "    }\n",
       "\n",
       "    .dataframe thead th {\n",
       "        text-align: right;\n",
       "    }\n",
       "</style>\n",
       "<table border=\"1\" class=\"dataframe\">\n",
       "  <thead>\n",
       "    <tr style=\"text-align: right;\">\n",
       "      <th></th>\n",
       "      <th>overall</th>\n",
       "      <th>verified</th>\n",
       "      <th>reviewTime</th>\n",
       "      <th>reviewerID</th>\n",
       "      <th>asin</th>\n",
       "      <th>reviewerName</th>\n",
       "      <th>reviewText</th>\n",
       "      <th>summary</th>\n",
       "      <th>unixReviewTime</th>\n",
       "      <th>vote</th>\n",
       "      <th>image</th>\n",
       "      <th>style</th>\n",
       "    </tr>\n",
       "  </thead>\n",
       "  <tbody>\n",
       "    <tr>\n",
       "      <th>0</th>\n",
       "      <td>4.0</td>\n",
       "      <td>True</td>\n",
       "      <td>09 24, 2015</td>\n",
       "      <td>A31Y9ELLA1JUB0</td>\n",
       "      <td>B0000DIWNI</td>\n",
       "      <td>Her Royal Peepness Princess HoneyBunny Blayze</td>\n",
       "      <td>I purchased this Saran premium plastic wrap af...</td>\n",
       "      <td>Pretty Good For plastic Wrap</td>\n",
       "      <td>1443052800</td>\n",
       "      <td>NaN</td>\n",
       "      <td>NaN</td>\n",
       "      <td>NaN</td>\n",
       "    </tr>\n",
       "    <tr>\n",
       "      <th>1</th>\n",
       "      <td>5.0</td>\n",
       "      <td>True</td>\n",
       "      <td>06 23, 2015</td>\n",
       "      <td>A2FYW9VZ0AMXKY</td>\n",
       "      <td>B0000DIWNI</td>\n",
       "      <td>Mary</td>\n",
       "      <td>I am an avid cook and baker.  Saran Premium Pl...</td>\n",
       "      <td>The Best Plastic Wrap for your Cooking, Baking...</td>\n",
       "      <td>1435017600</td>\n",
       "      <td>NaN</td>\n",
       "      <td>NaN</td>\n",
       "      <td>NaN</td>\n",
       "    </tr>\n",
       "    <tr>\n",
       "      <th>2</th>\n",
       "      <td>5.0</td>\n",
       "      <td>True</td>\n",
       "      <td>06 13, 2015</td>\n",
       "      <td>A1NE43T0OM6NNX</td>\n",
       "      <td>B0000DIWNI</td>\n",
       "      <td>Tulay C</td>\n",
       "      <td>Good wrap, keeping it in the fridge makes it e...</td>\n",
       "      <td>Good and strong.</td>\n",
       "      <td>1434153600</td>\n",
       "      <td>NaN</td>\n",
       "      <td>NaN</td>\n",
       "      <td>NaN</td>\n",
       "    </tr>\n",
       "    <tr>\n",
       "      <th>3</th>\n",
       "      <td>4.0</td>\n",
       "      <td>True</td>\n",
       "      <td>06 3, 2015</td>\n",
       "      <td>AHTCPGK2CNPKU</td>\n",
       "      <td>B0000DIWNI</td>\n",
       "      <td>OmaShops</td>\n",
       "      <td>I prefer Saran wrap over other brands. It does...</td>\n",
       "      <td>Doesn't cling as well to dishes as other brand...</td>\n",
       "      <td>1433289600</td>\n",
       "      <td>NaN</td>\n",
       "      <td>NaN</td>\n",
       "      <td>NaN</td>\n",
       "    </tr>\n",
       "    <tr>\n",
       "      <th>4</th>\n",
       "      <td>5.0</td>\n",
       "      <td>True</td>\n",
       "      <td>04 20, 2015</td>\n",
       "      <td>A25SIBTMVXLB59</td>\n",
       "      <td>B0000DIWNI</td>\n",
       "      <td>Nitemanslim</td>\n",
       "      <td>Thanks</td>\n",
       "      <td>Five Stars</td>\n",
       "      <td>1429488000</td>\n",
       "      <td>NaN</td>\n",
       "      <td>NaN</td>\n",
       "      <td>NaN</td>\n",
       "    </tr>\n",
       "  </tbody>\n",
       "</table>\n",
       "</div>"
      ],
      "text/plain": [
       "   overall  verified   reviewTime      reviewerID        asin  \\\n",
       "0      4.0      True  09 24, 2015  A31Y9ELLA1JUB0  B0000DIWNI   \n",
       "1      5.0      True  06 23, 2015  A2FYW9VZ0AMXKY  B0000DIWNI   \n",
       "2      5.0      True  06 13, 2015  A1NE43T0OM6NNX  B0000DIWNI   \n",
       "3      4.0      True   06 3, 2015   AHTCPGK2CNPKU  B0000DIWNI   \n",
       "4      5.0      True  04 20, 2015  A25SIBTMVXLB59  B0000DIWNI   \n",
       "\n",
       "                                    reviewerName  \\\n",
       "0  Her Royal Peepness Princess HoneyBunny Blayze   \n",
       "1                                           Mary   \n",
       "2                                        Tulay C   \n",
       "3                                       OmaShops   \n",
       "4                                    Nitemanslim   \n",
       "\n",
       "                                          reviewText  \\\n",
       "0  I purchased this Saran premium plastic wrap af...   \n",
       "1  I am an avid cook and baker.  Saran Premium Pl...   \n",
       "2  Good wrap, keeping it in the fridge makes it e...   \n",
       "3  I prefer Saran wrap over other brands. It does...   \n",
       "4                                             Thanks   \n",
       "\n",
       "                                             summary  unixReviewTime vote  \\\n",
       "0                       Pretty Good For plastic Wrap      1443052800  NaN   \n",
       "1  The Best Plastic Wrap for your Cooking, Baking...      1435017600  NaN   \n",
       "2                                   Good and strong.      1434153600  NaN   \n",
       "3  Doesn't cling as well to dishes as other brand...      1433289600  NaN   \n",
       "4                                         Five Stars      1429488000  NaN   \n",
       "\n",
       "  image style  \n",
       "0   NaN   NaN  \n",
       "1   NaN   NaN  \n",
       "2   NaN   NaN  \n",
       "3   NaN   NaN  \n",
       "4   NaN   NaN  "
      ]
     },
     "execution_count": 261,
     "metadata": {},
     "output_type": "execute_result"
    }
   ],
   "source": [
    "df = pd.DataFrame(v for v in data)\n",
    "df.head()"
   ]
  },
  {
   "cell_type": "code",
   "execution_count": 154,
   "id": "fff132ea",
   "metadata": {},
   "outputs": [
    {
     "data": {
      "text/plain": [
       "(137788, 12)"
      ]
     },
     "execution_count": 154,
     "metadata": {},
     "output_type": "execute_result"
    }
   ],
   "source": [
    "df.shape"
   ]
  },
  {
   "cell_type": "markdown",
   "id": "07f169f1",
   "metadata": {},
   "source": [
    "## Part 1: Data Preprocessing and EDA for Non-textual Features\n",
    "\n",
    "### 1.1 Data Preprocessing\n",
    "\n",
    "We conduct data preprocessing for non-textual features in following steps:\n",
    "\n",
    "1. Handling missing values: \n",
    "\n",
    "    Based on the feature description on the [documentation](https://nijianmo.github.io/amazon/index.html#subsets) website, we make interpration and take following steps to handle NA values:\n",
    "    \n",
    "    1. There are 93% NA values for `vote`, which are reviews received no votes. So we can impute NA using 0.\n",
    "    2. There are 99.5% NA values for `image`, which are reviews with no image attached. Since image itself provide little use in this specific project, we decide to replace the image feature with a new feature: `has_image` which contain value 1 if a review has attached images or 0 if otherwise.\n",
    "    3. There are 99% NA values for `style`, which are product metadata. Since we are handling product metadata in the other part of this project. We decide to remove this feature.\n",
    "    4. There are <0.2% NA values for `reviewName`, `reviewText`, `summary`. Since they comprise only small portion of the dataset. We decide to remove the NA rows.\n",
    "    \n",
    "2. Besides creating a new feature: `has_image`, we also convert datatype for `vote` column to integers and convert True/False values in `verified` to 1/0 values respectively.\n",
    "\n",
    "3. Besides `style`, We also remove unuseful columns: `reviewTime`, `reviewerID`, `unixReviewTime`, `reviewerName`."
   ]
  },
  {
   "cell_type": "code",
   "execution_count": 190,
   "id": "52d28d0a",
   "metadata": {},
   "outputs": [
    {
     "data": {
      "text/plain": [
       "overall            0.0\n",
       "verified           0.0\n",
       "asin               0.0\n",
       "reviewText         0.0\n",
       "summary            0.0\n",
       "vote               0.0\n",
       "has_image          0.0\n",
       "rating_jittered    0.0\n",
       "dtype: float64"
      ]
     },
     "execution_count": 190,
     "metadata": {},
     "output_type": "execute_result"
    }
   ],
   "source": [
    "# check NA percentage for each column\n",
    "df.isna().sum()/len(df)"
   ]
  },
  {
   "cell_type": "code",
   "execution_count": 316,
   "id": "0be0210f",
   "metadata": {},
   "outputs": [
    {
     "data": {
      "text/plain": [
       "0.9314368384320112"
      ]
     },
     "execution_count": 316,
     "metadata": {},
     "output_type": "execute_result"
    }
   ],
   "source": [
    "sum(df['vote'] == 0)/len(df)"
   ]
  },
  {
   "cell_type": "code",
   "execution_count": 262,
   "id": "c52bc2b4",
   "metadata": {},
   "outputs": [],
   "source": [
    "# impute NA for 'vote'\n",
    "df['vote'] = df['vote'].fillna(0)\n",
    "\n",
    "# add 'has_image' feature based on 'image' feature\n",
    "df['has_image'] = 1- df['image'].isna().astype(int)\n",
    "\n",
    "# remove 'image', 'style' columns\n",
    "df.drop(['image','style'], axis =1, inplace = True)\n",
    "\n",
    "# remove NA rows\n",
    "df.dropna(axis = 0, inplace = True)\n",
    "\n",
    "# remove unuseful columns: reviewTime, reviewerID, unixReviewTime, reviewerName\n",
    "df.drop(['reviewTime', 'reviewerID', 'unixReviewTime','reviewerName'], axis = 1, inplace = True)\n",
    "\n",
    "# convert verified columns into 0/1\n",
    "df['verified'] = df['verified'].astype(int)\n",
    "\n",
    "# convert column type for 'vote' as int\n",
    "df['vote'] = df['vote'].astype(int)"
   ]
  },
  {
   "cell_type": "code",
   "execution_count": 160,
   "id": "7603b63b",
   "metadata": {},
   "outputs": [
    {
     "data": {
      "text/html": [
       "<div>\n",
       "<style scoped>\n",
       "    .dataframe tbody tr th:only-of-type {\n",
       "        vertical-align: middle;\n",
       "    }\n",
       "\n",
       "    .dataframe tbody tr th {\n",
       "        vertical-align: top;\n",
       "    }\n",
       "\n",
       "    .dataframe thead th {\n",
       "        text-align: right;\n",
       "    }\n",
       "</style>\n",
       "<table border=\"1\" class=\"dataframe\">\n",
       "  <thead>\n",
       "    <tr style=\"text-align: right;\">\n",
       "      <th></th>\n",
       "      <th>overall</th>\n",
       "      <th>verified</th>\n",
       "      <th>asin</th>\n",
       "      <th>reviewText</th>\n",
       "      <th>summary</th>\n",
       "      <th>vote</th>\n",
       "      <th>has_image</th>\n",
       "    </tr>\n",
       "  </thead>\n",
       "  <tbody>\n",
       "    <tr>\n",
       "      <th>0</th>\n",
       "      <td>4.0</td>\n",
       "      <td>1</td>\n",
       "      <td>B0000DIWNI</td>\n",
       "      <td>I purchased this Saran premium plastic wrap af...</td>\n",
       "      <td>Pretty Good For plastic Wrap</td>\n",
       "      <td>0</td>\n",
       "      <td>0</td>\n",
       "    </tr>\n",
       "    <tr>\n",
       "      <th>1</th>\n",
       "      <td>5.0</td>\n",
       "      <td>1</td>\n",
       "      <td>B0000DIWNI</td>\n",
       "      <td>I am an avid cook and baker.  Saran Premium Pl...</td>\n",
       "      <td>The Best Plastic Wrap for your Cooking, Baking...</td>\n",
       "      <td>0</td>\n",
       "      <td>0</td>\n",
       "    </tr>\n",
       "    <tr>\n",
       "      <th>2</th>\n",
       "      <td>5.0</td>\n",
       "      <td>1</td>\n",
       "      <td>B0000DIWNI</td>\n",
       "      <td>Good wrap, keeping it in the fridge makes it e...</td>\n",
       "      <td>Good and strong.</td>\n",
       "      <td>0</td>\n",
       "      <td>0</td>\n",
       "    </tr>\n",
       "    <tr>\n",
       "      <th>3</th>\n",
       "      <td>4.0</td>\n",
       "      <td>1</td>\n",
       "      <td>B0000DIWNI</td>\n",
       "      <td>I prefer Saran wrap over other brands. It does...</td>\n",
       "      <td>Doesn't cling as well to dishes as other brand...</td>\n",
       "      <td>0</td>\n",
       "      <td>0</td>\n",
       "    </tr>\n",
       "    <tr>\n",
       "      <th>4</th>\n",
       "      <td>5.0</td>\n",
       "      <td>1</td>\n",
       "      <td>B0000DIWNI</td>\n",
       "      <td>Thanks</td>\n",
       "      <td>Five Stars</td>\n",
       "      <td>0</td>\n",
       "      <td>0</td>\n",
       "    </tr>\n",
       "  </tbody>\n",
       "</table>\n",
       "</div>"
      ],
      "text/plain": [
       "   overall  verified        asin  \\\n",
       "0      4.0         1  B0000DIWNI   \n",
       "1      5.0         1  B0000DIWNI   \n",
       "2      5.0         1  B0000DIWNI   \n",
       "3      4.0         1  B0000DIWNI   \n",
       "4      5.0         1  B0000DIWNI   \n",
       "\n",
       "                                          reviewText  \\\n",
       "0  I purchased this Saran premium plastic wrap af...   \n",
       "1  I am an avid cook and baker.  Saran Premium Pl...   \n",
       "2  Good wrap, keeping it in the fridge makes it e...   \n",
       "3  I prefer Saran wrap over other brands. It does...   \n",
       "4                                             Thanks   \n",
       "\n",
       "                                             summary  vote  has_image  \n",
       "0                       Pretty Good For plastic Wrap     0          0  \n",
       "1  The Best Plastic Wrap for your Cooking, Baking...     0          0  \n",
       "2                                   Good and strong.     0          0  \n",
       "3  Doesn't cling as well to dishes as other brand...     0          0  \n",
       "4                                         Five Stars     0          0  "
      ]
     },
     "execution_count": 160,
     "metadata": {},
     "output_type": "execute_result"
    }
   ],
   "source": [
    "df.head()"
   ]
  },
  {
   "cell_type": "code",
   "execution_count": 191,
   "id": "116ea209",
   "metadata": {},
   "outputs": [],
   "source": [
    "# identify categorical and numerical features \n",
    "cat = ['verified','has_image']\n",
    "num = ['vote']"
   ]
  },
  {
   "cell_type": "markdown",
   "id": "e3cefbe7",
   "metadata": {},
   "source": [
    "### 1.2 EDA on grouped non-textual dataframe"
   ]
  },
  {
   "cell_type": "code",
   "execution_count": 203,
   "id": "5cc92ba4",
   "metadata": {},
   "outputs": [
    {
     "data": {
      "text/html": [
       "<div>\n",
       "<style scoped>\n",
       "    .dataframe tbody tr th:only-of-type {\n",
       "        vertical-align: middle;\n",
       "    }\n",
       "\n",
       "    .dataframe tbody tr th {\n",
       "        vertical-align: top;\n",
       "    }\n",
       "\n",
       "    .dataframe thead th {\n",
       "        text-align: right;\n",
       "    }\n",
       "</style>\n",
       "<table border=\"1\" class=\"dataframe\">\n",
       "  <thead>\n",
       "    <tr style=\"text-align: right;\">\n",
       "      <th></th>\n",
       "      <th>verified</th>\n",
       "      <th>has_image</th>\n",
       "      <th>vote</th>\n",
       "    </tr>\n",
       "    <tr>\n",
       "      <th>overall</th>\n",
       "      <th></th>\n",
       "      <th></th>\n",
       "      <th></th>\n",
       "    </tr>\n",
       "  </thead>\n",
       "  <tbody>\n",
       "    <tr>\n",
       "      <th>1.0</th>\n",
       "      <td>0.820055</td>\n",
       "      <td>0.013534</td>\n",
       "      <td>0.902184</td>\n",
       "    </tr>\n",
       "    <tr>\n",
       "      <th>2.0</th>\n",
       "      <td>0.812739</td>\n",
       "      <td>0.006561</td>\n",
       "      <td>0.479497</td>\n",
       "    </tr>\n",
       "    <tr>\n",
       "      <th>3.0</th>\n",
       "      <td>0.816604</td>\n",
       "      <td>0.006369</td>\n",
       "      <td>0.378761</td>\n",
       "    </tr>\n",
       "    <tr>\n",
       "      <th>4.0</th>\n",
       "      <td>0.821129</td>\n",
       "      <td>0.006209</td>\n",
       "      <td>0.300926</td>\n",
       "    </tr>\n",
       "    <tr>\n",
       "      <th>5.0</th>\n",
       "      <td>0.842132</td>\n",
       "      <td>0.004060</td>\n",
       "      <td>0.284217</td>\n",
       "    </tr>\n",
       "  </tbody>\n",
       "</table>\n",
       "</div>"
      ],
      "text/plain": [
       "         verified  has_image      vote\n",
       "overall                               \n",
       "1.0      0.820055   0.013534  0.902184\n",
       "2.0      0.812739   0.006561  0.479497\n",
       "3.0      0.816604   0.006369  0.378761\n",
       "4.0      0.821129   0.006209  0.300926\n",
       "5.0      0.842132   0.004060  0.284217"
      ]
     },
     "execution_count": 203,
     "metadata": {},
     "output_type": "execute_result"
    }
   ],
   "source": [
    "# group dataframe by rating levels\n",
    "df_grouped = df[['overall','verified','has_image','vote']].groupby('overall').mean()\n",
    "df_grouped "
   ]
  },
  {
   "cell_type": "code",
   "execution_count": 197,
   "id": "5d3bd6b0",
   "metadata": {},
   "outputs": [
    {
     "data": {
      "text/plain": [
       "overall\n",
       "1.0      3251\n",
       "2.0      3658\n",
       "3.0      9106\n",
       "4.0     20294\n",
       "5.0    101243\n",
       "dtype: int64"
      ]
     },
     "execution_count": 197,
     "metadata": {},
     "output_type": "execute_result"
    }
   ],
   "source": [
    "df[['overall','verified','has_image','vote']].groupby('overall').size()"
   ]
  },
  {
   "cell_type": "code",
   "execution_count": 186,
   "id": "dfe265e0",
   "metadata": {},
   "outputs": [
    {
     "data": {
      "image/png": "[encoded data removed]",
      "text/plain": [
       "<Figure size 432x288 with 1 Axes>"
      ]
     },
     "metadata": {
      "needs_background": "light"
     },
     "output_type": "display_data"
    }
   ],
   "source": [
    "plt.plot(df_grouped['verified'])\n",
    "plt.title('Average percentage of verified reviews for each level of rating')\n",
    "plt.xlabel('Overall rating levels')\n",
    "plt.ylabel('Average percentage of verified reviews')\n",
    "plt.show()"
   ]
  },
  {
   "cell_type": "markdown",
   "id": "3cfac067",
   "metadata": {},
   "source": [
    "From above plot, we can see that the average percentage of verified reviews is higher for 5-star ratings andthe percentage of verified reviews is lower for lower ratings."
   ]
  },
  {
   "cell_type": "code",
   "execution_count": 188,
   "id": "e6206f46",
   "metadata": {},
   "outputs": [
    {
     "data": {
      "image/png": "[encoded data removed]",
      "text/plain": [
       "<Figure size 432x288 with 1 Axes>"
      ]
     },
     "metadata": {
      "needs_background": "light"
     },
     "output_type": "display_data"
    }
   ],
   "source": [
    "plt.plot(df_grouped['has_image'])\n",
    "plt.title('Average percentage of reviews with image for each level of rating')\n",
    "plt.xlabel('Overall rating levels')\n",
    "plt.ylabel('Average percentage of reviews with image')\n",
    "plt.show()"
   ]
  },
  {
   "cell_type": "markdown",
   "id": "0ad17f30",
   "metadata": {},
   "source": [
    "From above plot, we can see a trend where the higher the rating, the lower the average percentage of reviews with image. This result is not surprising because people can be more likely to post images when they try to support a negative review such as broken shipping packaging, broken parts etc."
   ]
  },
  {
   "cell_type": "code",
   "execution_count": 189,
   "id": "c73b9f4c",
   "metadata": {},
   "outputs": [
    {
     "data": {
      "image/png": "[encoded data removed]",
      "text/plain": [
       "<Figure size 432x288 with 1 Axes>"
      ]
     },
     "metadata": {
      "needs_background": "light"
     },
     "output_type": "display_data"
    }
   ],
   "source": [
    "plt.plot(df_grouped['vote'])\n",
    "plt.title('Average number of votes for each level of rating')\n",
    "plt.xlabel('Overall rating levels')\n",
    "plt.ylabel('Average number of votes')\n",
    "plt.show()"
   ]
  },
  {
   "cell_type": "markdown",
   "id": "cad64c56",
   "metadata": {},
   "source": [
    "From above plot, we can see a trend where the higher the rating, the lower the average number of 'helpful' votes received in reviews."
   ]
  },
  {
   "cell_type": "markdown",
   "id": "3e926748",
   "metadata": {},
   "source": [
    "# Part 2: Data Preprocessing and EDA for Textual Features\n",
    "\n",
    "### 2.1 Tokenizating and Stemming for Textual Column"
   ]
  },
  {
   "cell_type": "code",
   "execution_count": 244,
   "id": "c76d0c86",
   "metadata": {},
   "outputs": [],
   "source": [
    "# import stopwords and stemmer from nltk\n",
    "\n",
    "stopwords = nltk.corpus.stopwords.words('english')\n",
    "# customize stopwords\n",
    "stopwords.extend(['amazon','product'])\n",
    "porter = nltk.stem.PorterStemmer()"
   ]
  },
  {
   "cell_type": "code",
   "execution_count": 245,
   "id": "b2c9ebd5",
   "metadata": {},
   "outputs": [],
   "source": [
    "# define the tokenization and stemming function\n",
    "def tokenization_and_stemming(text):\n",
    "    \n",
    "    text = text.replace('-',' ')\n",
    "    text = text.replace('*',' ')\n",
    "    text = text.replace('+',' ')\n",
    "    text = text.replace('/',' ')\n",
    "    text = text.replace('^',' ')\n",
    "    \n",
    "    \n",
    "    \n",
    "    # tokenize and remove stop words from tokenized text\n",
    "    tokens = []\n",
    "    for word in nltk.word_tokenize(text):  \n",
    "        if word.lower() not in stopwords:\n",
    "            tokens.append(word.lower()) # convert to lowercase\n",
    "    \n",
    "    # filter out any tokens not containing letters (eg. numeric, puncuation, emoji)\n",
    "    filtered_tokens = []\n",
    "    for token in tokens:\n",
    "        if token.isalpha():\n",
    "            filtered_tokens.append(token)\n",
    "            \n",
    "    # stemming\n",
    "    stems = [porter.stem(ft) for ft in filtered_tokens]\n",
    "    \n",
    "    return stems"
   ]
  },
  {
   "cell_type": "markdown",
   "id": "d58389ca",
   "metadata": {},
   "source": [
    "### 2.2 Convert to TF-IDF matrix\n",
    "TF: Term Frequency\n",
    "\n",
    "IDF: Inverse Document Frequency"
   ]
  },
  {
   "cell_type": "code",
   "execution_count": 246,
   "id": "a13454b2",
   "metadata": {},
   "outputs": [],
   "source": [
    "from sklearn.feature_extraction.text import TfidfVectorizer\n",
    "\n",
    "tfidf_model = TfidfVectorizer(max_df=0.99, max_features=1000,\n",
    "                                 min_df=0.01, stop_words='english',\n",
    "                                 use_idf=True, tokenizer=tokenization_and_stemming, ngram_range=(1,1))"
   ]
  },
  {
   "cell_type": "code",
   "execution_count": 247,
   "id": "d81e43ea",
   "metadata": {},
   "outputs": [],
   "source": [
    "# convert three columns into three TF-IDF matrices\n",
    "\n",
    "tfidf_text = pd.DataFrame(tfidf_model.fit_transform(df['reviewText']).toarray(), \n",
    "                     columns=tfidf_model.get_feature_names(), index=df.index)\n",
    "tfidf_summary = pd.DataFrame(tfidf_model.fit_transform(df['summary']).toarray(), \n",
    "                     columns=tfidf_model.get_feature_names(), index=df.index)\n",
    "\n",
    "tfidf_text.columns = [ x+'_text' for x in tfidf_text.columns]\n",
    "tfidf_summary.columns = [ x+'_summary' for x in tfidf_summary.columns]"
   ]
  },
  {
   "cell_type": "markdown",
   "id": "f23dfce6",
   "metadata": {},
   "source": [
    "### 2.3 EDA"
   ]
  },
  {
   "cell_type": "code",
   "execution_count": 259,
   "id": "6f894946",
   "metadata": {
    "scrolled": true
   },
   "outputs": [
    {
     "data": {
      "text/html": [
       "<div>\n",
       "<style scoped>\n",
       "    .dataframe tbody tr th:only-of-type {\n",
       "        vertical-align: middle;\n",
       "    }\n",
       "\n",
       "    .dataframe tbody tr th {\n",
       "        vertical-align: top;\n",
       "    }\n",
       "\n",
       "    .dataframe thead th {\n",
       "        text-align: right;\n",
       "    }\n",
       "</style>\n",
       "<table border=\"1\" class=\"dataframe\">\n",
       "  <thead>\n",
       "    <tr style=\"text-align: right;\">\n",
       "      <th></th>\n",
       "      <th>actual_text</th>\n",
       "      <th>ad_text</th>\n",
       "      <th>add_text</th>\n",
       "      <th>alway_text</th>\n",
       "      <th>anyth_text</th>\n",
       "      <th>arriv_text</th>\n",
       "      <th>awesom_text</th>\n",
       "      <th>bad_text</th>\n",
       "      <th>bag_text</th>\n",
       "      <th>bar_text</th>\n",
       "      <th>...</th>\n",
       "      <th>nice_summary</th>\n",
       "      <th>price_summary</th>\n",
       "      <th>smell_summary</th>\n",
       "      <th>snack_summary</th>\n",
       "      <th>star_summary</th>\n",
       "      <th>tast_summary</th>\n",
       "      <th>tasti_summary</th>\n",
       "      <th>use_summary</th>\n",
       "      <th>work_summary</th>\n",
       "      <th>yummi_summary</th>\n",
       "    </tr>\n",
       "  </thead>\n",
       "  <tbody>\n",
       "    <tr>\n",
       "      <th>0</th>\n",
       "      <td>0.354721</td>\n",
       "      <td>0.0</td>\n",
       "      <td>0.0</td>\n",
       "      <td>0.0</td>\n",
       "      <td>0.0</td>\n",
       "      <td>0.0</td>\n",
       "      <td>0.0</td>\n",
       "      <td>0.0</td>\n",
       "      <td>0.0</td>\n",
       "      <td>0.000000</td>\n",
       "      <td>...</td>\n",
       "      <td>0.0</td>\n",
       "      <td>0.0</td>\n",
       "      <td>0.0</td>\n",
       "      <td>0.0</td>\n",
       "      <td>0.0</td>\n",
       "      <td>0.0</td>\n",
       "      <td>0.0</td>\n",
       "      <td>0.0</td>\n",
       "      <td>0.0</td>\n",
       "      <td>0.0</td>\n",
       "    </tr>\n",
       "    <tr>\n",
       "      <th>1</th>\n",
       "      <td>0.000000</td>\n",
       "      <td>0.0</td>\n",
       "      <td>0.0</td>\n",
       "      <td>0.0</td>\n",
       "      <td>0.0</td>\n",
       "      <td>0.0</td>\n",
       "      <td>0.0</td>\n",
       "      <td>0.0</td>\n",
       "      <td>0.0</td>\n",
       "      <td>0.168095</td>\n",
       "      <td>...</td>\n",
       "      <td>0.0</td>\n",
       "      <td>0.0</td>\n",
       "      <td>0.0</td>\n",
       "      <td>0.0</td>\n",
       "      <td>0.0</td>\n",
       "      <td>0.0</td>\n",
       "      <td>0.0</td>\n",
       "      <td>0.0</td>\n",
       "      <td>0.0</td>\n",
       "      <td>0.0</td>\n",
       "    </tr>\n",
       "    <tr>\n",
       "      <th>2</th>\n",
       "      <td>0.000000</td>\n",
       "      <td>0.0</td>\n",
       "      <td>0.0</td>\n",
       "      <td>0.0</td>\n",
       "      <td>0.0</td>\n",
       "      <td>0.0</td>\n",
       "      <td>0.0</td>\n",
       "      <td>0.0</td>\n",
       "      <td>0.0</td>\n",
       "      <td>0.000000</td>\n",
       "      <td>...</td>\n",
       "      <td>0.0</td>\n",
       "      <td>0.0</td>\n",
       "      <td>0.0</td>\n",
       "      <td>0.0</td>\n",
       "      <td>0.0</td>\n",
       "      <td>0.0</td>\n",
       "      <td>0.0</td>\n",
       "      <td>0.0</td>\n",
       "      <td>0.0</td>\n",
       "      <td>0.0</td>\n",
       "    </tr>\n",
       "    <tr>\n",
       "      <th>3</th>\n",
       "      <td>0.000000</td>\n",
       "      <td>0.0</td>\n",
       "      <td>0.0</td>\n",
       "      <td>0.0</td>\n",
       "      <td>0.0</td>\n",
       "      <td>0.0</td>\n",
       "      <td>0.0</td>\n",
       "      <td>0.0</td>\n",
       "      <td>0.0</td>\n",
       "      <td>0.000000</td>\n",
       "      <td>...</td>\n",
       "      <td>0.0</td>\n",
       "      <td>0.0</td>\n",
       "      <td>0.0</td>\n",
       "      <td>0.0</td>\n",
       "      <td>0.0</td>\n",
       "      <td>0.0</td>\n",
       "      <td>0.0</td>\n",
       "      <td>0.0</td>\n",
       "      <td>0.0</td>\n",
       "      <td>0.0</td>\n",
       "    </tr>\n",
       "    <tr>\n",
       "      <th>4</th>\n",
       "      <td>0.000000</td>\n",
       "      <td>0.0</td>\n",
       "      <td>0.0</td>\n",
       "      <td>0.0</td>\n",
       "      <td>0.0</td>\n",
       "      <td>0.0</td>\n",
       "      <td>0.0</td>\n",
       "      <td>0.0</td>\n",
       "      <td>0.0</td>\n",
       "      <td>0.000000</td>\n",
       "      <td>...</td>\n",
       "      <td>0.0</td>\n",
       "      <td>0.0</td>\n",
       "      <td>0.0</td>\n",
       "      <td>0.0</td>\n",
       "      <td>1.0</td>\n",
       "      <td>0.0</td>\n",
       "      <td>0.0</td>\n",
       "      <td>0.0</td>\n",
       "      <td>0.0</td>\n",
       "      <td>0.0</td>\n",
       "    </tr>\n",
       "  </tbody>\n",
       "</table>\n",
       "<p>5 rows × 175 columns</p>\n",
       "</div>"
      ],
      "text/plain": [
       "   actual_text  ad_text  add_text  alway_text  anyth_text  arriv_text  \\\n",
       "0     0.354721      0.0       0.0         0.0         0.0         0.0   \n",
       "1     0.000000      0.0       0.0         0.0         0.0         0.0   \n",
       "2     0.000000      0.0       0.0         0.0         0.0         0.0   \n",
       "3     0.000000      0.0       0.0         0.0         0.0         0.0   \n",
       "4     0.000000      0.0       0.0         0.0         0.0         0.0   \n",
       "\n",
       "   awesom_text  bad_text  bag_text  bar_text  ...  nice_summary  \\\n",
       "0          0.0       0.0       0.0  0.000000  ...           0.0   \n",
       "1          0.0       0.0       0.0  0.168095  ...           0.0   \n",
       "2          0.0       0.0       0.0  0.000000  ...           0.0   \n",
       "3          0.0       0.0       0.0  0.000000  ...           0.0   \n",
       "4          0.0       0.0       0.0  0.000000  ...           0.0   \n",
       "\n",
       "   price_summary  smell_summary  snack_summary  star_summary  tast_summary  \\\n",
       "0            0.0            0.0            0.0           0.0           0.0   \n",
       "1            0.0            0.0            0.0           0.0           0.0   \n",
       "2            0.0            0.0            0.0           0.0           0.0   \n",
       "3            0.0            0.0            0.0           0.0           0.0   \n",
       "4            0.0            0.0            0.0           1.0           0.0   \n",
       "\n",
       "   tasti_summary  use_summary  work_summary  yummi_summary  \n",
       "0            0.0          0.0           0.0            0.0  \n",
       "1            0.0          0.0           0.0            0.0  \n",
       "2            0.0          0.0           0.0            0.0  \n",
       "3            0.0          0.0           0.0            0.0  \n",
       "4            0.0          0.0           0.0            0.0  \n",
       "\n",
       "[5 rows x 175 columns]"
      ]
     },
     "execution_count": 259,
     "metadata": {},
     "output_type": "execute_result"
    }
   ],
   "source": [
    "# Concat two matrices into the final matrix\n",
    "text_df = pd.concat([tfidf_text,tfidf_summary], axis = 1)\n",
    "text_df.head()"
   ]
  },
  {
   "cell_type": "code",
   "execution_count": 263,
   "id": "0dbbe13b",
   "metadata": {},
   "outputs": [
    {
     "data": {
      "text/html": [
       "<div>\n",
       "<style scoped>\n",
       "    .dataframe tbody tr th:only-of-type {\n",
       "        vertical-align: middle;\n",
       "    }\n",
       "\n",
       "    .dataframe tbody tr th {\n",
       "        vertical-align: top;\n",
       "    }\n",
       "\n",
       "    .dataframe thead th {\n",
       "        text-align: right;\n",
       "    }\n",
       "</style>\n",
       "<table border=\"1\" class=\"dataframe\">\n",
       "  <thead>\n",
       "    <tr style=\"text-align: right;\">\n",
       "      <th></th>\n",
       "      <th>overall</th>\n",
       "      <th>verified</th>\n",
       "      <th>vote</th>\n",
       "      <th>has_image</th>\n",
       "      <th>actual_text</th>\n",
       "      <th>ad_text</th>\n",
       "      <th>add_text</th>\n",
       "      <th>alway_text</th>\n",
       "      <th>anyth_text</th>\n",
       "      <th>arriv_text</th>\n",
       "      <th>...</th>\n",
       "      <th>nice_summary</th>\n",
       "      <th>price_summary</th>\n",
       "      <th>smell_summary</th>\n",
       "      <th>snack_summary</th>\n",
       "      <th>star_summary</th>\n",
       "      <th>tast_summary</th>\n",
       "      <th>tasti_summary</th>\n",
       "      <th>use_summary</th>\n",
       "      <th>work_summary</th>\n",
       "      <th>yummi_summary</th>\n",
       "    </tr>\n",
       "    <tr>\n",
       "      <th>asin</th>\n",
       "      <th></th>\n",
       "      <th></th>\n",
       "      <th></th>\n",
       "      <th></th>\n",
       "      <th></th>\n",
       "      <th></th>\n",
       "      <th></th>\n",
       "      <th></th>\n",
       "      <th></th>\n",
       "      <th></th>\n",
       "      <th></th>\n",
       "      <th></th>\n",
       "      <th></th>\n",
       "      <th></th>\n",
       "      <th></th>\n",
       "      <th></th>\n",
       "      <th></th>\n",
       "      <th></th>\n",
       "      <th></th>\n",
       "      <th></th>\n",
       "      <th></th>\n",
       "    </tr>\n",
       "  </thead>\n",
       "  <tbody>\n",
       "    <tr>\n",
       "      <th>B0000DIWNI</th>\n",
       "      <td>4.0</td>\n",
       "      <td>1</td>\n",
       "      <td>0</td>\n",
       "      <td>0</td>\n",
       "      <td>0.354721</td>\n",
       "      <td>0.0</td>\n",
       "      <td>0.0</td>\n",
       "      <td>0.0</td>\n",
       "      <td>0.0</td>\n",
       "      <td>0.0</td>\n",
       "      <td>...</td>\n",
       "      <td>0.0</td>\n",
       "      <td>0.0</td>\n",
       "      <td>0.0</td>\n",
       "      <td>0.0</td>\n",
       "      <td>0.0</td>\n",
       "      <td>0.0</td>\n",
       "      <td>0.0</td>\n",
       "      <td>0.0</td>\n",
       "      <td>0.0</td>\n",
       "      <td>0.0</td>\n",
       "    </tr>\n",
       "    <tr>\n",
       "      <th>B0000DIWNI</th>\n",
       "      <td>5.0</td>\n",
       "      <td>1</td>\n",
       "      <td>0</td>\n",
       "      <td>0</td>\n",
       "      <td>0.000000</td>\n",
       "      <td>0.0</td>\n",
       "      <td>0.0</td>\n",
       "      <td>0.0</td>\n",
       "      <td>0.0</td>\n",
       "      <td>0.0</td>\n",
       "      <td>...</td>\n",
       "      <td>0.0</td>\n",
       "      <td>0.0</td>\n",
       "      <td>0.0</td>\n",
       "      <td>0.0</td>\n",
       "      <td>0.0</td>\n",
       "      <td>0.0</td>\n",
       "      <td>0.0</td>\n",
       "      <td>0.0</td>\n",
       "      <td>0.0</td>\n",
       "      <td>0.0</td>\n",
       "    </tr>\n",
       "    <tr>\n",
       "      <th>B0000DIWNI</th>\n",
       "      <td>5.0</td>\n",
       "      <td>1</td>\n",
       "      <td>0</td>\n",
       "      <td>0</td>\n",
       "      <td>0.000000</td>\n",
       "      <td>0.0</td>\n",
       "      <td>0.0</td>\n",
       "      <td>0.0</td>\n",
       "      <td>0.0</td>\n",
       "      <td>0.0</td>\n",
       "      <td>...</td>\n",
       "      <td>0.0</td>\n",
       "      <td>0.0</td>\n",
       "      <td>0.0</td>\n",
       "      <td>0.0</td>\n",
       "      <td>0.0</td>\n",
       "      <td>0.0</td>\n",
       "      <td>0.0</td>\n",
       "      <td>0.0</td>\n",
       "      <td>0.0</td>\n",
       "      <td>0.0</td>\n",
       "    </tr>\n",
       "    <tr>\n",
       "      <th>B0000DIWNI</th>\n",
       "      <td>4.0</td>\n",
       "      <td>1</td>\n",
       "      <td>0</td>\n",
       "      <td>0</td>\n",
       "      <td>0.000000</td>\n",
       "      <td>0.0</td>\n",
       "      <td>0.0</td>\n",
       "      <td>0.0</td>\n",
       "      <td>0.0</td>\n",
       "      <td>0.0</td>\n",
       "      <td>...</td>\n",
       "      <td>0.0</td>\n",
       "      <td>0.0</td>\n",
       "      <td>0.0</td>\n",
       "      <td>0.0</td>\n",
       "      <td>0.0</td>\n",
       "      <td>0.0</td>\n",
       "      <td>0.0</td>\n",
       "      <td>0.0</td>\n",
       "      <td>0.0</td>\n",
       "      <td>0.0</td>\n",
       "    </tr>\n",
       "    <tr>\n",
       "      <th>B0000DIWNI</th>\n",
       "      <td>5.0</td>\n",
       "      <td>1</td>\n",
       "      <td>0</td>\n",
       "      <td>0</td>\n",
       "      <td>0.000000</td>\n",
       "      <td>0.0</td>\n",
       "      <td>0.0</td>\n",
       "      <td>0.0</td>\n",
       "      <td>0.0</td>\n",
       "      <td>0.0</td>\n",
       "      <td>...</td>\n",
       "      <td>0.0</td>\n",
       "      <td>0.0</td>\n",
       "      <td>0.0</td>\n",
       "      <td>0.0</td>\n",
       "      <td>1.0</td>\n",
       "      <td>0.0</td>\n",
       "      <td>0.0</td>\n",
       "      <td>0.0</td>\n",
       "      <td>0.0</td>\n",
       "      <td>0.0</td>\n",
       "    </tr>\n",
       "  </tbody>\n",
       "</table>\n",
       "<p>5 rows × 179 columns</p>\n",
       "</div>"
      ],
      "text/plain": [
       "            overall  verified  vote  has_image  actual_text  ad_text  \\\n",
       "asin                                                                   \n",
       "B0000DIWNI      4.0         1     0          0     0.354721      0.0   \n",
       "B0000DIWNI      5.0         1     0          0     0.000000      0.0   \n",
       "B0000DIWNI      5.0         1     0          0     0.000000      0.0   \n",
       "B0000DIWNI      4.0         1     0          0     0.000000      0.0   \n",
       "B0000DIWNI      5.0         1     0          0     0.000000      0.0   \n",
       "\n",
       "            add_text  alway_text  anyth_text  arriv_text  ...  nice_summary  \\\n",
       "asin                                                      ...                 \n",
       "B0000DIWNI       0.0         0.0         0.0         0.0  ...           0.0   \n",
       "B0000DIWNI       0.0         0.0         0.0         0.0  ...           0.0   \n",
       "B0000DIWNI       0.0         0.0         0.0         0.0  ...           0.0   \n",
       "B0000DIWNI       0.0         0.0         0.0         0.0  ...           0.0   \n",
       "B0000DIWNI       0.0         0.0         0.0         0.0  ...           0.0   \n",
       "\n",
       "            price_summary  smell_summary  snack_summary  star_summary  \\\n",
       "asin                                                                    \n",
       "B0000DIWNI            0.0            0.0            0.0           0.0   \n",
       "B0000DIWNI            0.0            0.0            0.0           0.0   \n",
       "B0000DIWNI            0.0            0.0            0.0           0.0   \n",
       "B0000DIWNI            0.0            0.0            0.0           0.0   \n",
       "B0000DIWNI            0.0            0.0            0.0           1.0   \n",
       "\n",
       "            tast_summary  tasti_summary  use_summary  work_summary  \\\n",
       "asin                                                                 \n",
       "B0000DIWNI           0.0            0.0          0.0           0.0   \n",
       "B0000DIWNI           0.0            0.0          0.0           0.0   \n",
       "B0000DIWNI           0.0            0.0          0.0           0.0   \n",
       "B0000DIWNI           0.0            0.0          0.0           0.0   \n",
       "B0000DIWNI           0.0            0.0          0.0           0.0   \n",
       "\n",
       "            yummi_summary  \n",
       "asin                       \n",
       "B0000DIWNI            0.0  \n",
       "B0000DIWNI            0.0  \n",
       "B0000DIWNI            0.0  \n",
       "B0000DIWNI            0.0  \n",
       "B0000DIWNI            0.0  \n",
       "\n",
       "[5 rows x 179 columns]"
      ]
     },
     "execution_count": 263,
     "metadata": {},
     "output_type": "execute_result"
    }
   ],
   "source": [
    "final_df = pd.concat([df.drop(['reviewText','summary'], axis = 1), text_df], axis = 1).set_index('asin')\n",
    "final_df.head()"
   ]
  },
  {
   "cell_type": "code",
   "execution_count": 250,
   "id": "116c3137",
   "metadata": {},
   "outputs": [],
   "source": [
    "text_rating = pd.concat([df['overall'], text_df], axis = 1)"
   ]
  },
  {
   "cell_type": "code",
   "execution_count": 251,
   "id": "84c25380",
   "metadata": {},
   "outputs": [
    {
     "data": {
      "text/html": [
       "<div>\n",
       "<style scoped>\n",
       "    .dataframe tbody tr th:only-of-type {\n",
       "        vertical-align: middle;\n",
       "    }\n",
       "\n",
       "    .dataframe tbody tr th {\n",
       "        vertical-align: top;\n",
       "    }\n",
       "\n",
       "    .dataframe thead th {\n",
       "        text-align: right;\n",
       "    }\n",
       "</style>\n",
       "<table border=\"1\" class=\"dataframe\">\n",
       "  <thead>\n",
       "    <tr style=\"text-align: right;\">\n",
       "      <th></th>\n",
       "      <th>actual_text</th>\n",
       "      <th>ad_text</th>\n",
       "      <th>add_text</th>\n",
       "      <th>alway_text</th>\n",
       "      <th>anyth_text</th>\n",
       "      <th>arriv_text</th>\n",
       "      <th>awesom_text</th>\n",
       "      <th>bad_text</th>\n",
       "      <th>bag_text</th>\n",
       "      <th>bar_text</th>\n",
       "      <th>...</th>\n",
       "      <th>nice_summary</th>\n",
       "      <th>price_summary</th>\n",
       "      <th>smell_summary</th>\n",
       "      <th>snack_summary</th>\n",
       "      <th>star_summary</th>\n",
       "      <th>tast_summary</th>\n",
       "      <th>tasti_summary</th>\n",
       "      <th>use_summary</th>\n",
       "      <th>work_summary</th>\n",
       "      <th>yummi_summary</th>\n",
       "    </tr>\n",
       "    <tr>\n",
       "      <th>overall</th>\n",
       "      <th></th>\n",
       "      <th></th>\n",
       "      <th></th>\n",
       "      <th></th>\n",
       "      <th></th>\n",
       "      <th></th>\n",
       "      <th></th>\n",
       "      <th></th>\n",
       "      <th></th>\n",
       "      <th></th>\n",
       "      <th></th>\n",
       "      <th></th>\n",
       "      <th></th>\n",
       "      <th></th>\n",
       "      <th></th>\n",
       "      <th></th>\n",
       "      <th></th>\n",
       "      <th></th>\n",
       "      <th></th>\n",
       "      <th></th>\n",
       "      <th></th>\n",
       "    </tr>\n",
       "  </thead>\n",
       "  <tbody>\n",
       "    <tr>\n",
       "      <th>1.0</th>\n",
       "      <td>0.008201</td>\n",
       "      <td>0.005208</td>\n",
       "      <td>0.004137</td>\n",
       "      <td>0.003393</td>\n",
       "      <td>0.011869</td>\n",
       "      <td>0.014939</td>\n",
       "      <td>0.000297</td>\n",
       "      <td>0.028033</td>\n",
       "      <td>0.019711</td>\n",
       "      <td>0.004519</td>\n",
       "      <td>...</td>\n",
       "      <td>0.001872</td>\n",
       "      <td>0.007786</td>\n",
       "      <td>0.015885</td>\n",
       "      <td>0.001937</td>\n",
       "      <td>0.274564</td>\n",
       "      <td>0.051197</td>\n",
       "      <td>0.001126</td>\n",
       "      <td>0.010082</td>\n",
       "      <td>0.008115</td>\n",
       "      <td>0.000000</td>\n",
       "    </tr>\n",
       "    <tr>\n",
       "      <th>2.0</th>\n",
       "      <td>0.007329</td>\n",
       "      <td>0.005553</td>\n",
       "      <td>0.004172</td>\n",
       "      <td>0.003129</td>\n",
       "      <td>0.007748</td>\n",
       "      <td>0.007314</td>\n",
       "      <td>0.000913</td>\n",
       "      <td>0.020385</td>\n",
       "      <td>0.016905</td>\n",
       "      <td>0.008754</td>\n",
       "      <td>...</td>\n",
       "      <td>0.002947</td>\n",
       "      <td>0.006202</td>\n",
       "      <td>0.012736</td>\n",
       "      <td>0.001918</td>\n",
       "      <td>0.291147</td>\n",
       "      <td>0.058521</td>\n",
       "      <td>0.004101</td>\n",
       "      <td>0.010455</td>\n",
       "      <td>0.007152</td>\n",
       "      <td>0.000716</td>\n",
       "    </tr>\n",
       "    <tr>\n",
       "      <th>3.0</th>\n",
       "      <td>0.006066</td>\n",
       "      <td>0.005290</td>\n",
       "      <td>0.006891</td>\n",
       "      <td>0.005111</td>\n",
       "      <td>0.006067</td>\n",
       "      <td>0.006383</td>\n",
       "      <td>0.000642</td>\n",
       "      <td>0.018334</td>\n",
       "      <td>0.014416</td>\n",
       "      <td>0.006992</td>\n",
       "      <td>...</td>\n",
       "      <td>0.007782</td>\n",
       "      <td>0.012847</td>\n",
       "      <td>0.011581</td>\n",
       "      <td>0.004954</td>\n",
       "      <td>0.364722</td>\n",
       "      <td>0.037302</td>\n",
       "      <td>0.006674</td>\n",
       "      <td>0.009903</td>\n",
       "      <td>0.011874</td>\n",
       "      <td>0.001429</td>\n",
       "    </tr>\n",
       "    <tr>\n",
       "      <th>4.0</th>\n",
       "      <td>0.005461</td>\n",
       "      <td>0.005296</td>\n",
       "      <td>0.007461</td>\n",
       "      <td>0.011531</td>\n",
       "      <td>0.003727</td>\n",
       "      <td>0.005900</td>\n",
       "      <td>0.002537</td>\n",
       "      <td>0.011142</td>\n",
       "      <td>0.011989</td>\n",
       "      <td>0.006176</td>\n",
       "      <td>...</td>\n",
       "      <td>0.022021</td>\n",
       "      <td>0.012862</td>\n",
       "      <td>0.009768</td>\n",
       "      <td>0.012346</td>\n",
       "      <td>0.419252</td>\n",
       "      <td>0.027951</td>\n",
       "      <td>0.017928</td>\n",
       "      <td>0.011845</td>\n",
       "      <td>0.017125</td>\n",
       "      <td>0.006678</td>\n",
       "    </tr>\n",
       "    <tr>\n",
       "      <th>5.0</th>\n",
       "      <td>0.003530</td>\n",
       "      <td>0.003905</td>\n",
       "      <td>0.006067</td>\n",
       "      <td>0.017373</td>\n",
       "      <td>0.003615</td>\n",
       "      <td>0.007889</td>\n",
       "      <td>0.008412</td>\n",
       "      <td>0.002894</td>\n",
       "      <td>0.009522</td>\n",
       "      <td>0.005345</td>\n",
       "      <td>...</td>\n",
       "      <td>0.011183</td>\n",
       "      <td>0.013063</td>\n",
       "      <td>0.008634</td>\n",
       "      <td>0.010868</td>\n",
       "      <td>0.457952</td>\n",
       "      <td>0.019166</td>\n",
       "      <td>0.010449</td>\n",
       "      <td>0.009910</td>\n",
       "      <td>0.012291</td>\n",
       "      <td>0.013978</td>\n",
       "    </tr>\n",
       "  </tbody>\n",
       "</table>\n",
       "<p>5 rows × 175 columns</p>\n",
       "</div>"
      ],
      "text/plain": [
       "         actual_text   ad_text  add_text  alway_text  anyth_text  arriv_text  \\\n",
       "overall                                                                        \n",
       "1.0         0.008201  0.005208  0.004137    0.003393    0.011869    0.014939   \n",
       "2.0         0.007329  0.005553  0.004172    0.003129    0.007748    0.007314   \n",
       "3.0         0.006066  0.005290  0.006891    0.005111    0.006067    0.006383   \n",
       "4.0         0.005461  0.005296  0.007461    0.011531    0.003727    0.005900   \n",
       "5.0         0.003530  0.003905  0.006067    0.017373    0.003615    0.007889   \n",
       "\n",
       "         awesom_text  bad_text  bag_text  bar_text  ...  nice_summary  \\\n",
       "overall                                             ...                 \n",
       "1.0         0.000297  0.028033  0.019711  0.004519  ...      0.001872   \n",
       "2.0         0.000913  0.020385  0.016905  0.008754  ...      0.002947   \n",
       "3.0         0.000642  0.018334  0.014416  0.006992  ...      0.007782   \n",
       "4.0         0.002537  0.011142  0.011989  0.006176  ...      0.022021   \n",
       "5.0         0.008412  0.002894  0.009522  0.005345  ...      0.011183   \n",
       "\n",
       "         price_summary  smell_summary  snack_summary  star_summary  \\\n",
       "overall                                                              \n",
       "1.0           0.007786       0.015885       0.001937      0.274564   \n",
       "2.0           0.006202       0.012736       0.001918      0.291147   \n",
       "3.0           0.012847       0.011581       0.004954      0.364722   \n",
       "4.0           0.012862       0.009768       0.012346      0.419252   \n",
       "5.0           0.013063       0.008634       0.010868      0.457952   \n",
       "\n",
       "         tast_summary  tasti_summary  use_summary  work_summary  yummi_summary  \n",
       "overall                                                                         \n",
       "1.0          0.051197       0.001126     0.010082      0.008115       0.000000  \n",
       "2.0          0.058521       0.004101     0.010455      0.007152       0.000716  \n",
       "3.0          0.037302       0.006674     0.009903      0.011874       0.001429  \n",
       "4.0          0.027951       0.017928     0.011845      0.017125       0.006678  \n",
       "5.0          0.019166       0.010449     0.009910      0.012291       0.013978  \n",
       "\n",
       "[5 rows x 175 columns]"
      ]
     },
     "execution_count": 251,
     "metadata": {},
     "output_type": "execute_result"
    }
   ],
   "source": [
    "text_rating_grouped = text_rating.groupby('overall').mean()\n",
    "text_rating_grouped"
   ]
  },
  {
   "cell_type": "code",
   "execution_count": 252,
   "id": "9d7e6c49",
   "metadata": {},
   "outputs": [
    {
     "data": {
      "image/png": "[encoded data removed]",
      "text/plain": [
       "<Figure size 432x288 with 1 Axes>"
      ]
     },
     "metadata": {
      "needs_background": "light"
     },
     "output_type": "display_data"
    }
   ],
   "source": [
    "top_10_5star = pd.Series(text_rating_grouped.loc[5.0, :].sort_values(ascending = False)[1:11])\n",
    "plt.bar(top_10_5star.keys(), top_10_5star)\n",
    "plt.xticks(rotation=45) \n",
    "plt.ylabel('TFIDF')\n",
    "plt.title('Top 10 frequent words for 5-star rating reviews')\n",
    "plt.show()"
   ]
  },
  {
   "cell_type": "code",
   "execution_count": 253,
   "id": "69975138",
   "metadata": {},
   "outputs": [
    {
     "data": {
      "image/png": "[encoded data removed]",
      "text/plain": [
       "<Figure size 432x288 with 1 Axes>"
      ]
     },
     "metadata": {
      "needs_background": "light"
     },
     "output_type": "display_data"
    }
   ],
   "source": [
    "top_10_1star = pd.Series(text_rating_grouped.loc[1.0, :].sort_values(ascending = False)[1:11])\n",
    "plt.bar(top_10_1star.keys(), top_10_1star)\n",
    "plt.xticks(rotation=45) \n",
    "plt.ylabel('TFIDF')\n",
    "plt.title('Top 10 frequent words for 1-star rating reviews')\n",
    "plt.show()"
   ]
  },
  {
   "cell_type": "markdown",
   "id": "0ad7f3d3",
   "metadata": {},
   "source": [
    "# Part 3 Modeling\n",
    "\n",
    "Our target variable is `overall` and the rest of the columns are features."
   ]
  },
  {
   "cell_type": "code",
   "execution_count": 320,
   "id": "32aa2614",
   "metadata": {},
   "outputs": [
    {
     "data": {
      "text/plain": [
       "Index(['overall', 'verified', 'vote', 'has_image', 'actual_text', 'ad_text',\n",
       "       'add_text', 'alway_text', 'anyth_text', 'arriv_text',\n",
       "       ...\n",
       "       'nice_summary', 'price_summary', 'smell_summary', 'snack_summary',\n",
       "       'star_summary', 'tast_summary', 'tasti_summary', 'use_summary',\n",
       "       'work_summary', 'yummi_summary'],\n",
       "      dtype='object', length=179)"
      ]
     },
     "execution_count": 320,
     "metadata": {},
     "output_type": "execute_result"
    }
   ],
   "source": [
    "final_df.columns"
   ]
  },
  {
   "cell_type": "code",
   "execution_count": null,
   "id": "fed868e5",
   "metadata": {},
   "outputs": [],
   "source": [
    "final_df['is_helpful'] = [1 if x > 0 else 0 for x in final_df['vote']]"
   ]
  },
  {
   "cell_type": "code",
   "execution_count": 287,
   "id": "83ca4fc5",
   "metadata": {},
   "outputs": [],
   "source": [
    "# categorical feature encoding\n",
    "df_encoded = pd.get_dummies(data = final_df, columns = cat, drop_first = True)\n",
    "\n",
    "# train-test split\n",
    "train, test = train_test_split(df_encoded, test_size = 0.3, train_size = 0.7, random_state = 1)\n",
    "\n",
    "y_train = train['overall'].to_list()\n",
    "x_train = train.drop('overall', axis = 1)\n",
    "\n",
    "y_test = test['overall'].to_list()\n",
    "x_test = test.drop('overall', axis = 1)"
   ]
  },
  {
   "cell_type": "code",
   "execution_count": 288,
   "id": "5190f3b1",
   "metadata": {},
   "outputs": [],
   "source": [
    "ols = LinearRegression().fit(x_train, y_train)"
   ]
  },
  {
   "cell_type": "code",
   "execution_count": 289,
   "id": "ddf380ee",
   "metadata": {},
   "outputs": [],
   "source": [
    "y_pred_train = ols.predict(x_train)\n",
    "y_pred_test = ols.predict(x_test)"
   ]
  },
  {
   "cell_type": "code",
   "execution_count": 292,
   "id": "28ae0a70",
   "metadata": {},
   "outputs": [],
   "source": [
    "def generate_scores(y_true, y_pred):\n",
    "    MSE = mean_squared_error(y_true, y_pred)\n",
    "    R2 = r2_score(y_true, y_pred)\n",
    "    return {'MSE': MSE, 'R^2': R2}"
   ]
  },
  {
   "cell_type": "code",
   "execution_count": 311,
   "id": "3fb2688e",
   "metadata": {},
   "outputs": [
    {
     "data": {
      "text/plain": [
       "{'MSE': 0.669453503105332, 'R^2': 0.18283179137887529}"
      ]
     },
     "execution_count": 311,
     "metadata": {},
     "output_type": "execute_result"
    }
   ],
   "source": [
    "generate_scores(y_train, [round(x*2)/2 for x in y_pred_train])"
   ]
  },
  {
   "cell_type": "code",
   "execution_count": 310,
   "id": "47a52a5b",
   "metadata": {},
   "outputs": [
    {
     "data": {
      "text/plain": [
       "3.5"
      ]
     },
     "execution_count": 310,
     "metadata": {},
     "output_type": "execute_result"
    }
   ],
   "source": [
    "round(3.7*2)/2"
   ]
  },
  {
   "cell_type": "code",
   "execution_count": 307,
   "id": "38362b16",
   "metadata": {},
   "outputs": [
    {
     "data": {
      "text/plain": [
       "3.7"
      ]
     },
     "execution_count": 307,
     "metadata": {},
     "output_type": "execute_result"
    }
   ],
   "source": [
    "round(3.7,1)"
   ]
  },
  {
   "cell_type": "code",
   "execution_count": 314,
   "id": "f40049b9",
   "metadata": {},
   "outputs": [
    {
     "ename": "KeyboardInterrupt",
     "evalue": "",
     "output_type": "error",
     "traceback": [
      "\u001b[0;31m---------------------------------------------------------------------------\u001b[0m",
      "\u001b[0;31mKeyboardInterrupt\u001b[0m                         Traceback (most recent call last)",
      "Input \u001b[0;32mIn [314]\u001b[0m, in \u001b[0;36m<module>\u001b[0;34m\u001b[0m\n\u001b[1;32m      3\u001b[0m grid_values \u001b[38;5;241m=\u001b[39m {\u001b[38;5;124m'\u001b[39m\u001b[38;5;124mccp_alpha\u001b[39m\u001b[38;5;124m'\u001b[39m: np\u001b[38;5;241m.\u001b[39mlinspace(\u001b[38;5;241m0.0\u001b[39m, \u001b[38;5;241m0.05\u001b[39m, \u001b[38;5;241m5\u001b[39m),\n\u001b[1;32m      4\u001b[0m                \u001b[38;5;124m'\u001b[39m\u001b[38;5;124mmin_samples_leaf\u001b[39m\u001b[38;5;124m'\u001b[39m: [\u001b[38;5;241m5\u001b[39m],\n\u001b[1;32m      5\u001b[0m                \u001b[38;5;124m'\u001b[39m\u001b[38;5;124mmax_depth\u001b[39m\u001b[38;5;124m'\u001b[39m: [\u001b[38;5;241m30\u001b[39m],\n\u001b[1;32m      6\u001b[0m                \u001b[38;5;124m'\u001b[39m\u001b[38;5;124mrandom_state\u001b[39m\u001b[38;5;124m'\u001b[39m: [\u001b[38;5;241m88\u001b[39m]} \n\u001b[1;32m      8\u001b[0m rf_cv \u001b[38;5;241m=\u001b[39m GridSearchCV(rf, param_grid \u001b[38;5;241m=\u001b[39m grid_values, scoring \u001b[38;5;241m=\u001b[39m \u001b[38;5;124m'\u001b[39m\u001b[38;5;124mneg_mean_squared_error\u001b[39m\u001b[38;5;124m'\u001b[39m, refit \u001b[38;5;241m=\u001b[39m \u001b[38;5;28;01mTrue\u001b[39;00m)\n\u001b[0;32m----> 9\u001b[0m \u001b[43mrf\u001b[49m\u001b[38;5;241;43m.\u001b[39;49m\u001b[43mfit\u001b[49m\u001b[43m(\u001b[49m\u001b[43mx_train\u001b[49m\u001b[43m,\u001b[49m\u001b[43m \u001b[49m\u001b[43my_train\u001b[49m\u001b[43m)\u001b[49m\n",
      "File \u001b[0;32m/usr/local/lib/python3.9/site-packages/sklearn/ensemble/_forest.py:450\u001b[0m, in \u001b[0;36mBaseForest.fit\u001b[0;34m(self, X, y, sample_weight)\u001b[0m\n\u001b[1;32m    439\u001b[0m trees \u001b[38;5;241m=\u001b[39m [\n\u001b[1;32m    440\u001b[0m     \u001b[38;5;28mself\u001b[39m\u001b[38;5;241m.\u001b[39m_make_estimator(append\u001b[38;5;241m=\u001b[39m\u001b[38;5;28;01mFalse\u001b[39;00m, random_state\u001b[38;5;241m=\u001b[39mrandom_state)\n\u001b[1;32m    441\u001b[0m     \u001b[38;5;28;01mfor\u001b[39;00m i \u001b[38;5;129;01min\u001b[39;00m \u001b[38;5;28mrange\u001b[39m(n_more_estimators)\n\u001b[1;32m    442\u001b[0m ]\n\u001b[1;32m    444\u001b[0m \u001b[38;5;66;03m# Parallel loop: we prefer the threading backend as the Cython code\u001b[39;00m\n\u001b[1;32m    445\u001b[0m \u001b[38;5;66;03m# for fitting the trees is internally releasing the Python GIL\u001b[39;00m\n\u001b[1;32m    446\u001b[0m \u001b[38;5;66;03m# making threading more efficient than multiprocessing in\u001b[39;00m\n\u001b[1;32m    447\u001b[0m \u001b[38;5;66;03m# that case. However, for joblib 0.12+ we respect any\u001b[39;00m\n\u001b[1;32m    448\u001b[0m \u001b[38;5;66;03m# parallel_backend contexts set at a higher level,\u001b[39;00m\n\u001b[1;32m    449\u001b[0m \u001b[38;5;66;03m# since correctness does not rely on using threads.\u001b[39;00m\n\u001b[0;32m--> 450\u001b[0m trees \u001b[38;5;241m=\u001b[39m \u001b[43mParallel\u001b[49m\u001b[43m(\u001b[49m\n\u001b[1;32m    451\u001b[0m \u001b[43m    \u001b[49m\u001b[43mn_jobs\u001b[49m\u001b[38;5;241;43m=\u001b[39;49m\u001b[38;5;28;43mself\u001b[39;49m\u001b[38;5;241;43m.\u001b[39;49m\u001b[43mn_jobs\u001b[49m\u001b[43m,\u001b[49m\n\u001b[1;32m    452\u001b[0m \u001b[43m    \u001b[49m\u001b[43mverbose\u001b[49m\u001b[38;5;241;43m=\u001b[39;49m\u001b[38;5;28;43mself\u001b[39;49m\u001b[38;5;241;43m.\u001b[39;49m\u001b[43mverbose\u001b[49m\u001b[43m,\u001b[49m\n\u001b[1;32m    453\u001b[0m \u001b[43m    \u001b[49m\u001b[38;5;241;43m*\u001b[39;49m\u001b[38;5;241;43m*\u001b[39;49m\u001b[43m_joblib_parallel_args\u001b[49m\u001b[43m(\u001b[49m\u001b[43mprefer\u001b[49m\u001b[38;5;241;43m=\u001b[39;49m\u001b[38;5;124;43m\"\u001b[39;49m\u001b[38;5;124;43mthreads\u001b[39;49m\u001b[38;5;124;43m\"\u001b[39;49m\u001b[43m)\u001b[49m\u001b[43m,\u001b[49m\n\u001b[1;32m    454\u001b[0m \u001b[43m\u001b[49m\u001b[43m)\u001b[49m\u001b[43m(\u001b[49m\n\u001b[1;32m    455\u001b[0m \u001b[43m    \u001b[49m\u001b[43mdelayed\u001b[49m\u001b[43m(\u001b[49m\u001b[43m_parallel_build_trees\u001b[49m\u001b[43m)\u001b[49m\u001b[43m(\u001b[49m\n\u001b[1;32m    456\u001b[0m \u001b[43m        \u001b[49m\u001b[43mt\u001b[49m\u001b[43m,\u001b[49m\n\u001b[1;32m    457\u001b[0m \u001b[43m        \u001b[49m\u001b[38;5;28;43mself\u001b[39;49m\u001b[43m,\u001b[49m\n\u001b[1;32m    458\u001b[0m \u001b[43m        \u001b[49m\u001b[43mX\u001b[49m\u001b[43m,\u001b[49m\n\u001b[1;32m    459\u001b[0m \u001b[43m        \u001b[49m\u001b[43my\u001b[49m\u001b[43m,\u001b[49m\n\u001b[1;32m    460\u001b[0m \u001b[43m        \u001b[49m\u001b[43msample_weight\u001b[49m\u001b[43m,\u001b[49m\n\u001b[1;32m    461\u001b[0m \u001b[43m        \u001b[49m\u001b[43mi\u001b[49m\u001b[43m,\u001b[49m\n\u001b[1;32m    462\u001b[0m \u001b[43m        \u001b[49m\u001b[38;5;28;43mlen\u001b[39;49m\u001b[43m(\u001b[49m\u001b[43mtrees\u001b[49m\u001b[43m)\u001b[49m\u001b[43m,\u001b[49m\n\u001b[1;32m    463\u001b[0m \u001b[43m        \u001b[49m\u001b[43mverbose\u001b[49m\u001b[38;5;241;43m=\u001b[39;49m\u001b[38;5;28;43mself\u001b[39;49m\u001b[38;5;241;43m.\u001b[39;49m\u001b[43mverbose\u001b[49m\u001b[43m,\u001b[49m\n\u001b[1;32m    464\u001b[0m \u001b[43m        \u001b[49m\u001b[43mclass_weight\u001b[49m\u001b[38;5;241;43m=\u001b[39;49m\u001b[38;5;28;43mself\u001b[39;49m\u001b[38;5;241;43m.\u001b[39;49m\u001b[43mclass_weight\u001b[49m\u001b[43m,\u001b[49m\n\u001b[1;32m    465\u001b[0m \u001b[43m        \u001b[49m\u001b[43mn_samples_bootstrap\u001b[49m\u001b[38;5;241;43m=\u001b[39;49m\u001b[43mn_samples_bootstrap\u001b[49m\u001b[43m,\u001b[49m\n\u001b[1;32m    466\u001b[0m \u001b[43m    \u001b[49m\u001b[43m)\u001b[49m\n\u001b[1;32m    467\u001b[0m \u001b[43m    \u001b[49m\u001b[38;5;28;43;01mfor\u001b[39;49;00m\u001b[43m \u001b[49m\u001b[43mi\u001b[49m\u001b[43m,\u001b[49m\u001b[43m \u001b[49m\u001b[43mt\u001b[49m\u001b[43m \u001b[49m\u001b[38;5;129;43;01min\u001b[39;49;00m\u001b[43m \u001b[49m\u001b[38;5;28;43menumerate\u001b[39;49m\u001b[43m(\u001b[49m\u001b[43mtrees\u001b[49m\u001b[43m)\u001b[49m\n\u001b[1;32m    468\u001b[0m \u001b[43m\u001b[49m\u001b[43m)\u001b[49m\n\u001b[1;32m    470\u001b[0m \u001b[38;5;66;03m# Collect newly grown trees\u001b[39;00m\n\u001b[1;32m    471\u001b[0m \u001b[38;5;28mself\u001b[39m\u001b[38;5;241m.\u001b[39mestimators_\u001b[38;5;241m.\u001b[39mextend(trees)\n",
      "File \u001b[0;32m/usr/local/lib/python3.9/site-packages/joblib/parallel.py:1046\u001b[0m, in \u001b[0;36mParallel.__call__\u001b[0;34m(self, iterable)\u001b[0m\n\u001b[1;32m   1043\u001b[0m \u001b[38;5;28;01mif\u001b[39;00m \u001b[38;5;28mself\u001b[39m\u001b[38;5;241m.\u001b[39mdispatch_one_batch(iterator):\n\u001b[1;32m   1044\u001b[0m     \u001b[38;5;28mself\u001b[39m\u001b[38;5;241m.\u001b[39m_iterating \u001b[38;5;241m=\u001b[39m \u001b[38;5;28mself\u001b[39m\u001b[38;5;241m.\u001b[39m_original_iterator \u001b[38;5;129;01mis\u001b[39;00m \u001b[38;5;129;01mnot\u001b[39;00m \u001b[38;5;28;01mNone\u001b[39;00m\n\u001b[0;32m-> 1046\u001b[0m \u001b[38;5;28;01mwhile\u001b[39;00m \u001b[38;5;28;43mself\u001b[39;49m\u001b[38;5;241;43m.\u001b[39;49m\u001b[43mdispatch_one_batch\u001b[49m\u001b[43m(\u001b[49m\u001b[43miterator\u001b[49m\u001b[43m)\u001b[49m:\n\u001b[1;32m   1047\u001b[0m     \u001b[38;5;28;01mpass\u001b[39;00m\n\u001b[1;32m   1049\u001b[0m \u001b[38;5;28;01mif\u001b[39;00m pre_dispatch \u001b[38;5;241m==\u001b[39m \u001b[38;5;124m\"\u001b[39m\u001b[38;5;124mall\u001b[39m\u001b[38;5;124m\"\u001b[39m \u001b[38;5;129;01mor\u001b[39;00m n_jobs \u001b[38;5;241m==\u001b[39m \u001b[38;5;241m1\u001b[39m:\n\u001b[1;32m   1050\u001b[0m     \u001b[38;5;66;03m# The iterable was consumed all at once by the above for loop.\u001b[39;00m\n\u001b[1;32m   1051\u001b[0m     \u001b[38;5;66;03m# No need to wait for async callbacks to trigger to\u001b[39;00m\n\u001b[1;32m   1052\u001b[0m     \u001b[38;5;66;03m# consumption.\u001b[39;00m\n",
      "File \u001b[0;32m/usr/local/lib/python3.9/site-packages/joblib/parallel.py:861\u001b[0m, in \u001b[0;36mParallel.dispatch_one_batch\u001b[0;34m(self, iterator)\u001b[0m\n\u001b[1;32m    859\u001b[0m     \u001b[38;5;28;01mreturn\u001b[39;00m \u001b[38;5;28;01mFalse\u001b[39;00m\n\u001b[1;32m    860\u001b[0m \u001b[38;5;28;01melse\u001b[39;00m:\n\u001b[0;32m--> 861\u001b[0m     \u001b[38;5;28;43mself\u001b[39;49m\u001b[38;5;241;43m.\u001b[39;49m\u001b[43m_dispatch\u001b[49m\u001b[43m(\u001b[49m\u001b[43mtasks\u001b[49m\u001b[43m)\u001b[49m\n\u001b[1;32m    862\u001b[0m     \u001b[38;5;28;01mreturn\u001b[39;00m \u001b[38;5;28;01mTrue\u001b[39;00m\n",
      "File \u001b[0;32m/usr/local/lib/python3.9/site-packages/joblib/parallel.py:779\u001b[0m, in \u001b[0;36mParallel._dispatch\u001b[0;34m(self, batch)\u001b[0m\n\u001b[1;32m    777\u001b[0m \u001b[38;5;28;01mwith\u001b[39;00m \u001b[38;5;28mself\u001b[39m\u001b[38;5;241m.\u001b[39m_lock:\n\u001b[1;32m    778\u001b[0m     job_idx \u001b[38;5;241m=\u001b[39m \u001b[38;5;28mlen\u001b[39m(\u001b[38;5;28mself\u001b[39m\u001b[38;5;241m.\u001b[39m_jobs)\n\u001b[0;32m--> 779\u001b[0m     job \u001b[38;5;241m=\u001b[39m \u001b[38;5;28;43mself\u001b[39;49m\u001b[38;5;241;43m.\u001b[39;49m\u001b[43m_backend\u001b[49m\u001b[38;5;241;43m.\u001b[39;49m\u001b[43mapply_async\u001b[49m\u001b[43m(\u001b[49m\u001b[43mbatch\u001b[49m\u001b[43m,\u001b[49m\u001b[43m \u001b[49m\u001b[43mcallback\u001b[49m\u001b[38;5;241;43m=\u001b[39;49m\u001b[43mcb\u001b[49m\u001b[43m)\u001b[49m\n\u001b[1;32m    780\u001b[0m     \u001b[38;5;66;03m# A job can complete so quickly than its callback is\u001b[39;00m\n\u001b[1;32m    781\u001b[0m     \u001b[38;5;66;03m# called before we get here, causing self._jobs to\u001b[39;00m\n\u001b[1;32m    782\u001b[0m     \u001b[38;5;66;03m# grow. To ensure correct results ordering, .insert is\u001b[39;00m\n\u001b[1;32m    783\u001b[0m     \u001b[38;5;66;03m# used (rather than .append) in the following line\u001b[39;00m\n\u001b[1;32m    784\u001b[0m     \u001b[38;5;28mself\u001b[39m\u001b[38;5;241m.\u001b[39m_jobs\u001b[38;5;241m.\u001b[39minsert(job_idx, job)\n",
      "File \u001b[0;32m/usr/local/lib/python3.9/site-packages/joblib/_parallel_backends.py:208\u001b[0m, in \u001b[0;36mSequentialBackend.apply_async\u001b[0;34m(self, func, callback)\u001b[0m\n\u001b[1;32m    206\u001b[0m \u001b[38;5;28;01mdef\u001b[39;00m \u001b[38;5;21mapply_async\u001b[39m(\u001b[38;5;28mself\u001b[39m, func, callback\u001b[38;5;241m=\u001b[39m\u001b[38;5;28;01mNone\u001b[39;00m):\n\u001b[1;32m    207\u001b[0m     \u001b[38;5;124;03m\"\"\"Schedule a func to be run\"\"\"\u001b[39;00m\n\u001b[0;32m--> 208\u001b[0m     result \u001b[38;5;241m=\u001b[39m \u001b[43mImmediateResult\u001b[49m\u001b[43m(\u001b[49m\u001b[43mfunc\u001b[49m\u001b[43m)\u001b[49m\n\u001b[1;32m    209\u001b[0m     \u001b[38;5;28;01mif\u001b[39;00m callback:\n\u001b[1;32m    210\u001b[0m         callback(result)\n",
      "File \u001b[0;32m/usr/local/lib/python3.9/site-packages/joblib/_parallel_backends.py:572\u001b[0m, in \u001b[0;36mImmediateResult.__init__\u001b[0;34m(self, batch)\u001b[0m\n\u001b[1;32m    569\u001b[0m \u001b[38;5;28;01mdef\u001b[39;00m \u001b[38;5;21m__init__\u001b[39m(\u001b[38;5;28mself\u001b[39m, batch):\n\u001b[1;32m    570\u001b[0m     \u001b[38;5;66;03m# Don't delay the application, to avoid keeping the input\u001b[39;00m\n\u001b[1;32m    571\u001b[0m     \u001b[38;5;66;03m# arguments in memory\u001b[39;00m\n\u001b[0;32m--> 572\u001b[0m     \u001b[38;5;28mself\u001b[39m\u001b[38;5;241m.\u001b[39mresults \u001b[38;5;241m=\u001b[39m \u001b[43mbatch\u001b[49m\u001b[43m(\u001b[49m\u001b[43m)\u001b[49m\n",
      "File \u001b[0;32m/usr/local/lib/python3.9/site-packages/joblib/parallel.py:262\u001b[0m, in \u001b[0;36mBatchedCalls.__call__\u001b[0;34m(self)\u001b[0m\n\u001b[1;32m    258\u001b[0m \u001b[38;5;28;01mdef\u001b[39;00m \u001b[38;5;21m__call__\u001b[39m(\u001b[38;5;28mself\u001b[39m):\n\u001b[1;32m    259\u001b[0m     \u001b[38;5;66;03m# Set the default nested backend to self._backend but do not set the\u001b[39;00m\n\u001b[1;32m    260\u001b[0m     \u001b[38;5;66;03m# change the default number of processes to -1\u001b[39;00m\n\u001b[1;32m    261\u001b[0m     \u001b[38;5;28;01mwith\u001b[39;00m parallel_backend(\u001b[38;5;28mself\u001b[39m\u001b[38;5;241m.\u001b[39m_backend, n_jobs\u001b[38;5;241m=\u001b[39m\u001b[38;5;28mself\u001b[39m\u001b[38;5;241m.\u001b[39m_n_jobs):\n\u001b[0;32m--> 262\u001b[0m         \u001b[38;5;28;01mreturn\u001b[39;00m [func(\u001b[38;5;241m*\u001b[39margs, \u001b[38;5;241m*\u001b[39m\u001b[38;5;241m*\u001b[39mkwargs)\n\u001b[1;32m    263\u001b[0m                 \u001b[38;5;28;01mfor\u001b[39;00m func, args, kwargs \u001b[38;5;129;01min\u001b[39;00m \u001b[38;5;28mself\u001b[39m\u001b[38;5;241m.\u001b[39mitems]\n",
      "File \u001b[0;32m/usr/local/lib/python3.9/site-packages/joblib/parallel.py:262\u001b[0m, in \u001b[0;36m<listcomp>\u001b[0;34m(.0)\u001b[0m\n\u001b[1;32m    258\u001b[0m \u001b[38;5;28;01mdef\u001b[39;00m \u001b[38;5;21m__call__\u001b[39m(\u001b[38;5;28mself\u001b[39m):\n\u001b[1;32m    259\u001b[0m     \u001b[38;5;66;03m# Set the default nested backend to self._backend but do not set the\u001b[39;00m\n\u001b[1;32m    260\u001b[0m     \u001b[38;5;66;03m# change the default number of processes to -1\u001b[39;00m\n\u001b[1;32m    261\u001b[0m     \u001b[38;5;28;01mwith\u001b[39;00m parallel_backend(\u001b[38;5;28mself\u001b[39m\u001b[38;5;241m.\u001b[39m_backend, n_jobs\u001b[38;5;241m=\u001b[39m\u001b[38;5;28mself\u001b[39m\u001b[38;5;241m.\u001b[39m_n_jobs):\n\u001b[0;32m--> 262\u001b[0m         \u001b[38;5;28;01mreturn\u001b[39;00m [\u001b[43mfunc\u001b[49m\u001b[43m(\u001b[49m\u001b[38;5;241;43m*\u001b[39;49m\u001b[43margs\u001b[49m\u001b[43m,\u001b[49m\u001b[43m \u001b[49m\u001b[38;5;241;43m*\u001b[39;49m\u001b[38;5;241;43m*\u001b[39;49m\u001b[43mkwargs\u001b[49m\u001b[43m)\u001b[49m\n\u001b[1;32m    263\u001b[0m                 \u001b[38;5;28;01mfor\u001b[39;00m func, args, kwargs \u001b[38;5;129;01min\u001b[39;00m \u001b[38;5;28mself\u001b[39m\u001b[38;5;241m.\u001b[39mitems]\n",
      "File \u001b[0;32m/usr/local/lib/python3.9/site-packages/sklearn/utils/fixes.py:216\u001b[0m, in \u001b[0;36m_FuncWrapper.__call__\u001b[0;34m(self, *args, **kwargs)\u001b[0m\n\u001b[1;32m    214\u001b[0m \u001b[38;5;28;01mdef\u001b[39;00m \u001b[38;5;21m__call__\u001b[39m(\u001b[38;5;28mself\u001b[39m, \u001b[38;5;241m*\u001b[39margs, \u001b[38;5;241m*\u001b[39m\u001b[38;5;241m*\u001b[39mkwargs):\n\u001b[1;32m    215\u001b[0m     \u001b[38;5;28;01mwith\u001b[39;00m config_context(\u001b[38;5;241m*\u001b[39m\u001b[38;5;241m*\u001b[39m\u001b[38;5;28mself\u001b[39m\u001b[38;5;241m.\u001b[39mconfig):\n\u001b[0;32m--> 216\u001b[0m         \u001b[38;5;28;01mreturn\u001b[39;00m \u001b[38;5;28;43mself\u001b[39;49m\u001b[38;5;241;43m.\u001b[39;49m\u001b[43mfunction\u001b[49m\u001b[43m(\u001b[49m\u001b[38;5;241;43m*\u001b[39;49m\u001b[43margs\u001b[49m\u001b[43m,\u001b[49m\u001b[43m \u001b[49m\u001b[38;5;241;43m*\u001b[39;49m\u001b[38;5;241;43m*\u001b[39;49m\u001b[43mkwargs\u001b[49m\u001b[43m)\u001b[49m\n",
      "File \u001b[0;32m/usr/local/lib/python3.9/site-packages/sklearn/ensemble/_forest.py:185\u001b[0m, in \u001b[0;36m_parallel_build_trees\u001b[0;34m(tree, forest, X, y, sample_weight, tree_idx, n_trees, verbose, class_weight, n_samples_bootstrap)\u001b[0m\n\u001b[1;32m    182\u001b[0m     \u001b[38;5;28;01melif\u001b[39;00m class_weight \u001b[38;5;241m==\u001b[39m \u001b[38;5;124m\"\u001b[39m\u001b[38;5;124mbalanced_subsample\u001b[39m\u001b[38;5;124m\"\u001b[39m:\n\u001b[1;32m    183\u001b[0m         curr_sample_weight \u001b[38;5;241m*\u001b[39m\u001b[38;5;241m=\u001b[39m compute_sample_weight(\u001b[38;5;124m\"\u001b[39m\u001b[38;5;124mbalanced\u001b[39m\u001b[38;5;124m\"\u001b[39m, y, indices\u001b[38;5;241m=\u001b[39mindices)\n\u001b[0;32m--> 185\u001b[0m     \u001b[43mtree\u001b[49m\u001b[38;5;241;43m.\u001b[39;49m\u001b[43mfit\u001b[49m\u001b[43m(\u001b[49m\u001b[43mX\u001b[49m\u001b[43m,\u001b[49m\u001b[43m \u001b[49m\u001b[43my\u001b[49m\u001b[43m,\u001b[49m\u001b[43m \u001b[49m\u001b[43msample_weight\u001b[49m\u001b[38;5;241;43m=\u001b[39;49m\u001b[43mcurr_sample_weight\u001b[49m\u001b[43m,\u001b[49m\u001b[43m \u001b[49m\u001b[43mcheck_input\u001b[49m\u001b[38;5;241;43m=\u001b[39;49m\u001b[38;5;28;43;01mFalse\u001b[39;49;00m\u001b[43m)\u001b[49m\n\u001b[1;32m    186\u001b[0m \u001b[38;5;28;01melse\u001b[39;00m:\n\u001b[1;32m    187\u001b[0m     tree\u001b[38;5;241m.\u001b[39mfit(X, y, sample_weight\u001b[38;5;241m=\u001b[39msample_weight, check_input\u001b[38;5;241m=\u001b[39m\u001b[38;5;28;01mFalse\u001b[39;00m)\n",
      "File \u001b[0;32m/usr/local/lib/python3.9/site-packages/sklearn/tree/_classes.py:1315\u001b[0m, in \u001b[0;36mDecisionTreeRegressor.fit\u001b[0;34m(self, X, y, sample_weight, check_input, X_idx_sorted)\u001b[0m\n\u001b[1;32m   1278\u001b[0m \u001b[38;5;28;01mdef\u001b[39;00m \u001b[38;5;21mfit\u001b[39m(\n\u001b[1;32m   1279\u001b[0m     \u001b[38;5;28mself\u001b[39m, X, y, sample_weight\u001b[38;5;241m=\u001b[39m\u001b[38;5;28;01mNone\u001b[39;00m, check_input\u001b[38;5;241m=\u001b[39m\u001b[38;5;28;01mTrue\u001b[39;00m, X_idx_sorted\u001b[38;5;241m=\u001b[39m\u001b[38;5;124m\"\u001b[39m\u001b[38;5;124mdeprecated\u001b[39m\u001b[38;5;124m\"\u001b[39m\n\u001b[1;32m   1280\u001b[0m ):\n\u001b[1;32m   1281\u001b[0m     \u001b[38;5;124;03m\"\"\"Build a decision tree regressor from the training set (X, y).\u001b[39;00m\n\u001b[1;32m   1282\u001b[0m \n\u001b[1;32m   1283\u001b[0m \u001b[38;5;124;03m    Parameters\u001b[39;00m\n\u001b[0;32m   (...)\u001b[0m\n\u001b[1;32m   1312\u001b[0m \u001b[38;5;124;03m        Fitted estimator.\u001b[39;00m\n\u001b[1;32m   1313\u001b[0m \u001b[38;5;124;03m    \"\"\"\u001b[39;00m\n\u001b[0;32m-> 1315\u001b[0m     \u001b[38;5;28;43msuper\u001b[39;49m\u001b[43m(\u001b[49m\u001b[43m)\u001b[49m\u001b[38;5;241;43m.\u001b[39;49m\u001b[43mfit\u001b[49m\u001b[43m(\u001b[49m\n\u001b[1;32m   1316\u001b[0m \u001b[43m        \u001b[49m\u001b[43mX\u001b[49m\u001b[43m,\u001b[49m\n\u001b[1;32m   1317\u001b[0m \u001b[43m        \u001b[49m\u001b[43my\u001b[49m\u001b[43m,\u001b[49m\n\u001b[1;32m   1318\u001b[0m \u001b[43m        \u001b[49m\u001b[43msample_weight\u001b[49m\u001b[38;5;241;43m=\u001b[39;49m\u001b[43msample_weight\u001b[49m\u001b[43m,\u001b[49m\n\u001b[1;32m   1319\u001b[0m \u001b[43m        \u001b[49m\u001b[43mcheck_input\u001b[49m\u001b[38;5;241;43m=\u001b[39;49m\u001b[43mcheck_input\u001b[49m\u001b[43m,\u001b[49m\n\u001b[1;32m   1320\u001b[0m \u001b[43m        \u001b[49m\u001b[43mX_idx_sorted\u001b[49m\u001b[38;5;241;43m=\u001b[39;49m\u001b[43mX_idx_sorted\u001b[49m\u001b[43m,\u001b[49m\n\u001b[1;32m   1321\u001b[0m \u001b[43m    \u001b[49m\u001b[43m)\u001b[49m\n\u001b[1;32m   1322\u001b[0m     \u001b[38;5;28;01mreturn\u001b[39;00m \u001b[38;5;28mself\u001b[39m\n",
      "File \u001b[0;32m/usr/local/lib/python3.9/site-packages/sklearn/tree/_classes.py:420\u001b[0m, in \u001b[0;36mBaseDecisionTree.fit\u001b[0;34m(self, X, y, sample_weight, check_input, X_idx_sorted)\u001b[0m\n\u001b[1;32m    409\u001b[0m \u001b[38;5;28;01melse\u001b[39;00m:\n\u001b[1;32m    410\u001b[0m     builder \u001b[38;5;241m=\u001b[39m BestFirstTreeBuilder(\n\u001b[1;32m    411\u001b[0m         splitter,\n\u001b[1;32m    412\u001b[0m         min_samples_split,\n\u001b[0;32m   (...)\u001b[0m\n\u001b[1;32m    417\u001b[0m         \u001b[38;5;28mself\u001b[39m\u001b[38;5;241m.\u001b[39mmin_impurity_decrease,\n\u001b[1;32m    418\u001b[0m     )\n\u001b[0;32m--> 420\u001b[0m \u001b[43mbuilder\u001b[49m\u001b[38;5;241;43m.\u001b[39;49m\u001b[43mbuild\u001b[49m\u001b[43m(\u001b[49m\u001b[38;5;28;43mself\u001b[39;49m\u001b[38;5;241;43m.\u001b[39;49m\u001b[43mtree_\u001b[49m\u001b[43m,\u001b[49m\u001b[43m \u001b[49m\u001b[43mX\u001b[49m\u001b[43m,\u001b[49m\u001b[43m \u001b[49m\u001b[43my\u001b[49m\u001b[43m,\u001b[49m\u001b[43m \u001b[49m\u001b[43msample_weight\u001b[49m\u001b[43m)\u001b[49m\n\u001b[1;32m    422\u001b[0m \u001b[38;5;28;01mif\u001b[39;00m \u001b[38;5;28mself\u001b[39m\u001b[38;5;241m.\u001b[39mn_outputs_ \u001b[38;5;241m==\u001b[39m \u001b[38;5;241m1\u001b[39m \u001b[38;5;129;01mand\u001b[39;00m is_classifier(\u001b[38;5;28mself\u001b[39m):\n\u001b[1;32m    423\u001b[0m     \u001b[38;5;28mself\u001b[39m\u001b[38;5;241m.\u001b[39mn_classes_ \u001b[38;5;241m=\u001b[39m \u001b[38;5;28mself\u001b[39m\u001b[38;5;241m.\u001b[39mn_classes_[\u001b[38;5;241m0\u001b[39m]\n",
      "\u001b[0;31mKeyboardInterrupt\u001b[0m: "
     ]
    }
   ],
   "source": [
    "rf = RandomForestRegressor()\n",
    "\n",
    "grid_values = {'ccp_alpha': np.linspace(0.0, 0.05, 5),\n",
    "               'min_samples_leaf': [5],\n",
    "               'max_depth': [30],\n",
    "               'random_state': [88]} \n",
    "\n",
    "rf_cv = GridSearchCV(rf, param_grid = grid_values, scoring = 'neg_mean_squared_error', refit = True)\n",
    "rf.fit(x_train, y_train)"
   ]
  },
  {
   "cell_type": "code",
   "execution_count": 318,
   "id": "504cdf18",
   "metadata": {
    "scrolled": true
   },
   "outputs": [
    {
     "ename": "KeyboardInterrupt",
     "evalue": "",
     "output_type": "error",
     "traceback": [
      "\u001b[0;31m---------------------------------------------------------------------------\u001b[0m",
      "\u001b[0;31mKeyboardInterrupt\u001b[0m                         Traceback (most recent call last)",
      "Input \u001b[0;32mIn [318]\u001b[0m, in \u001b[0;36m<module>\u001b[0;34m\u001b[0m\n\u001b[1;32m      1\u001b[0m rf \u001b[38;5;241m=\u001b[39m RandomForestRegressor(max_features\u001b[38;5;241m=\u001b[39m\u001b[38;5;241m100\u001b[39m, min_samples_leaf\u001b[38;5;241m=\u001b[39m\u001b[38;5;241m5\u001b[39m, n_estimators \u001b[38;5;241m=\u001b[39m \u001b[38;5;241m500\u001b[39m, random_state\u001b[38;5;241m=\u001b[39m\u001b[38;5;241m88\u001b[39m, n_jobs \u001b[38;5;241m=\u001b[39m \u001b[38;5;241m2\u001b[39m)\n\u001b[0;32m----> 3\u001b[0m \u001b[43mrf\u001b[49m\u001b[38;5;241;43m.\u001b[39;49m\u001b[43mfit\u001b[49m\u001b[43m(\u001b[49m\u001b[43mx_train\u001b[49m\u001b[43m,\u001b[49m\u001b[43m \u001b[49m\u001b[43my_train\u001b[49m\u001b[43m)\u001b[49m\n",
      "File \u001b[0;32m/usr/local/lib/python3.9/site-packages/sklearn/ensemble/_forest.py:450\u001b[0m, in \u001b[0;36mBaseForest.fit\u001b[0;34m(self, X, y, sample_weight)\u001b[0m\n\u001b[1;32m    439\u001b[0m trees \u001b[38;5;241m=\u001b[39m [\n\u001b[1;32m    440\u001b[0m     \u001b[38;5;28mself\u001b[39m\u001b[38;5;241m.\u001b[39m_make_estimator(append\u001b[38;5;241m=\u001b[39m\u001b[38;5;28;01mFalse\u001b[39;00m, random_state\u001b[38;5;241m=\u001b[39mrandom_state)\n\u001b[1;32m    441\u001b[0m     \u001b[38;5;28;01mfor\u001b[39;00m i \u001b[38;5;129;01min\u001b[39;00m \u001b[38;5;28mrange\u001b[39m(n_more_estimators)\n\u001b[1;32m    442\u001b[0m ]\n\u001b[1;32m    444\u001b[0m \u001b[38;5;66;03m# Parallel loop: we prefer the threading backend as the Cython code\u001b[39;00m\n\u001b[1;32m    445\u001b[0m \u001b[38;5;66;03m# for fitting the trees is internally releasing the Python GIL\u001b[39;00m\n\u001b[1;32m    446\u001b[0m \u001b[38;5;66;03m# making threading more efficient than multiprocessing in\u001b[39;00m\n\u001b[1;32m    447\u001b[0m \u001b[38;5;66;03m# that case. However, for joblib 0.12+ we respect any\u001b[39;00m\n\u001b[1;32m    448\u001b[0m \u001b[38;5;66;03m# parallel_backend contexts set at a higher level,\u001b[39;00m\n\u001b[1;32m    449\u001b[0m \u001b[38;5;66;03m# since correctness does not rely on using threads.\u001b[39;00m\n\u001b[0;32m--> 450\u001b[0m trees \u001b[38;5;241m=\u001b[39m \u001b[43mParallel\u001b[49m\u001b[43m(\u001b[49m\n\u001b[1;32m    451\u001b[0m \u001b[43m    \u001b[49m\u001b[43mn_jobs\u001b[49m\u001b[38;5;241;43m=\u001b[39;49m\u001b[38;5;28;43mself\u001b[39;49m\u001b[38;5;241;43m.\u001b[39;49m\u001b[43mn_jobs\u001b[49m\u001b[43m,\u001b[49m\n\u001b[1;32m    452\u001b[0m \u001b[43m    \u001b[49m\u001b[43mverbose\u001b[49m\u001b[38;5;241;43m=\u001b[39;49m\u001b[38;5;28;43mself\u001b[39;49m\u001b[38;5;241;43m.\u001b[39;49m\u001b[43mverbose\u001b[49m\u001b[43m,\u001b[49m\n\u001b[1;32m    453\u001b[0m \u001b[43m    \u001b[49m\u001b[38;5;241;43m*\u001b[39;49m\u001b[38;5;241;43m*\u001b[39;49m\u001b[43m_joblib_parallel_args\u001b[49m\u001b[43m(\u001b[49m\u001b[43mprefer\u001b[49m\u001b[38;5;241;43m=\u001b[39;49m\u001b[38;5;124;43m\"\u001b[39;49m\u001b[38;5;124;43mthreads\u001b[39;49m\u001b[38;5;124;43m\"\u001b[39;49m\u001b[43m)\u001b[49m\u001b[43m,\u001b[49m\n\u001b[1;32m    454\u001b[0m \u001b[43m\u001b[49m\u001b[43m)\u001b[49m\u001b[43m(\u001b[49m\n\u001b[1;32m    455\u001b[0m \u001b[43m    \u001b[49m\u001b[43mdelayed\u001b[49m\u001b[43m(\u001b[49m\u001b[43m_parallel_build_trees\u001b[49m\u001b[43m)\u001b[49m\u001b[43m(\u001b[49m\n\u001b[1;32m    456\u001b[0m \u001b[43m        \u001b[49m\u001b[43mt\u001b[49m\u001b[43m,\u001b[49m\n\u001b[1;32m    457\u001b[0m \u001b[43m        \u001b[49m\u001b[38;5;28;43mself\u001b[39;49m\u001b[43m,\u001b[49m\n\u001b[1;32m    458\u001b[0m \u001b[43m        \u001b[49m\u001b[43mX\u001b[49m\u001b[43m,\u001b[49m\n\u001b[1;32m    459\u001b[0m \u001b[43m        \u001b[49m\u001b[43my\u001b[49m\u001b[43m,\u001b[49m\n\u001b[1;32m    460\u001b[0m \u001b[43m        \u001b[49m\u001b[43msample_weight\u001b[49m\u001b[43m,\u001b[49m\n\u001b[1;32m    461\u001b[0m \u001b[43m        \u001b[49m\u001b[43mi\u001b[49m\u001b[43m,\u001b[49m\n\u001b[1;32m    462\u001b[0m \u001b[43m        \u001b[49m\u001b[38;5;28;43mlen\u001b[39;49m\u001b[43m(\u001b[49m\u001b[43mtrees\u001b[49m\u001b[43m)\u001b[49m\u001b[43m,\u001b[49m\n\u001b[1;32m    463\u001b[0m \u001b[43m        \u001b[49m\u001b[43mverbose\u001b[49m\u001b[38;5;241;43m=\u001b[39;49m\u001b[38;5;28;43mself\u001b[39;49m\u001b[38;5;241;43m.\u001b[39;49m\u001b[43mverbose\u001b[49m\u001b[43m,\u001b[49m\n\u001b[1;32m    464\u001b[0m \u001b[43m        \u001b[49m\u001b[43mclass_weight\u001b[49m\u001b[38;5;241;43m=\u001b[39;49m\u001b[38;5;28;43mself\u001b[39;49m\u001b[38;5;241;43m.\u001b[39;49m\u001b[43mclass_weight\u001b[49m\u001b[43m,\u001b[49m\n\u001b[1;32m    465\u001b[0m \u001b[43m        \u001b[49m\u001b[43mn_samples_bootstrap\u001b[49m\u001b[38;5;241;43m=\u001b[39;49m\u001b[43mn_samples_bootstrap\u001b[49m\u001b[43m,\u001b[49m\n\u001b[1;32m    466\u001b[0m \u001b[43m    \u001b[49m\u001b[43m)\u001b[49m\n\u001b[1;32m    467\u001b[0m \u001b[43m    \u001b[49m\u001b[38;5;28;43;01mfor\u001b[39;49;00m\u001b[43m \u001b[49m\u001b[43mi\u001b[49m\u001b[43m,\u001b[49m\u001b[43m \u001b[49m\u001b[43mt\u001b[49m\u001b[43m \u001b[49m\u001b[38;5;129;43;01min\u001b[39;49;00m\u001b[43m \u001b[49m\u001b[38;5;28;43menumerate\u001b[39;49m\u001b[43m(\u001b[49m\u001b[43mtrees\u001b[49m\u001b[43m)\u001b[49m\n\u001b[1;32m    468\u001b[0m \u001b[43m\u001b[49m\u001b[43m)\u001b[49m\n\u001b[1;32m    470\u001b[0m \u001b[38;5;66;03m# Collect newly grown trees\u001b[39;00m\n\u001b[1;32m    471\u001b[0m \u001b[38;5;28mself\u001b[39m\u001b[38;5;241m.\u001b[39mestimators_\u001b[38;5;241m.\u001b[39mextend(trees)\n",
      "File \u001b[0;32m/usr/local/lib/python3.9/site-packages/joblib/parallel.py:1056\u001b[0m, in \u001b[0;36mParallel.__call__\u001b[0;34m(self, iterable)\u001b[0m\n\u001b[1;32m   1053\u001b[0m     \u001b[38;5;28mself\u001b[39m\u001b[38;5;241m.\u001b[39m_iterating \u001b[38;5;241m=\u001b[39m \u001b[38;5;28;01mFalse\u001b[39;00m\n\u001b[1;32m   1055\u001b[0m \u001b[38;5;28;01mwith\u001b[39;00m \u001b[38;5;28mself\u001b[39m\u001b[38;5;241m.\u001b[39m_backend\u001b[38;5;241m.\u001b[39mretrieval_context():\n\u001b[0;32m-> 1056\u001b[0m     \u001b[38;5;28;43mself\u001b[39;49m\u001b[38;5;241;43m.\u001b[39;49m\u001b[43mretrieve\u001b[49m\u001b[43m(\u001b[49m\u001b[43m)\u001b[49m\n\u001b[1;32m   1057\u001b[0m \u001b[38;5;66;03m# Make sure that we get a last message telling us we are done\u001b[39;00m\n\u001b[1;32m   1058\u001b[0m elapsed_time \u001b[38;5;241m=\u001b[39m time\u001b[38;5;241m.\u001b[39mtime() \u001b[38;5;241m-\u001b[39m \u001b[38;5;28mself\u001b[39m\u001b[38;5;241m.\u001b[39m_start_time\n",
      "File \u001b[0;32m/usr/local/lib/python3.9/site-packages/joblib/parallel.py:935\u001b[0m, in \u001b[0;36mParallel.retrieve\u001b[0;34m(self)\u001b[0m\n\u001b[1;32m    933\u001b[0m \u001b[38;5;28;01mtry\u001b[39;00m:\n\u001b[1;32m    934\u001b[0m     \u001b[38;5;28;01mif\u001b[39;00m \u001b[38;5;28mgetattr\u001b[39m(\u001b[38;5;28mself\u001b[39m\u001b[38;5;241m.\u001b[39m_backend, \u001b[38;5;124m'\u001b[39m\u001b[38;5;124msupports_timeout\u001b[39m\u001b[38;5;124m'\u001b[39m, \u001b[38;5;28;01mFalse\u001b[39;00m):\n\u001b[0;32m--> 935\u001b[0m         \u001b[38;5;28mself\u001b[39m\u001b[38;5;241m.\u001b[39m_output\u001b[38;5;241m.\u001b[39mextend(\u001b[43mjob\u001b[49m\u001b[38;5;241;43m.\u001b[39;49m\u001b[43mget\u001b[49m\u001b[43m(\u001b[49m\u001b[43mtimeout\u001b[49m\u001b[38;5;241;43m=\u001b[39;49m\u001b[38;5;28;43mself\u001b[39;49m\u001b[38;5;241;43m.\u001b[39;49m\u001b[43mtimeout\u001b[49m\u001b[43m)\u001b[49m)\n\u001b[1;32m    936\u001b[0m     \u001b[38;5;28;01melse\u001b[39;00m:\n\u001b[1;32m    937\u001b[0m         \u001b[38;5;28mself\u001b[39m\u001b[38;5;241m.\u001b[39m_output\u001b[38;5;241m.\u001b[39mextend(job\u001b[38;5;241m.\u001b[39mget())\n",
      "File \u001b[0;32m/usr/local/Cellar/python@3.9/3.9.10/Frameworks/Python.framework/Versions/3.9/lib/python3.9/multiprocessing/pool.py:765\u001b[0m, in \u001b[0;36mApplyResult.get\u001b[0;34m(self, timeout)\u001b[0m\n\u001b[1;32m    764\u001b[0m \u001b[38;5;28;01mdef\u001b[39;00m \u001b[38;5;21mget\u001b[39m(\u001b[38;5;28mself\u001b[39m, timeout\u001b[38;5;241m=\u001b[39m\u001b[38;5;28;01mNone\u001b[39;00m):\n\u001b[0;32m--> 765\u001b[0m     \u001b[38;5;28;43mself\u001b[39;49m\u001b[38;5;241;43m.\u001b[39;49m\u001b[43mwait\u001b[49m\u001b[43m(\u001b[49m\u001b[43mtimeout\u001b[49m\u001b[43m)\u001b[49m\n\u001b[1;32m    766\u001b[0m     \u001b[38;5;28;01mif\u001b[39;00m \u001b[38;5;129;01mnot\u001b[39;00m \u001b[38;5;28mself\u001b[39m\u001b[38;5;241m.\u001b[39mready():\n\u001b[1;32m    767\u001b[0m         \u001b[38;5;28;01mraise\u001b[39;00m \u001b[38;5;167;01mTimeoutError\u001b[39;00m\n",
      "File \u001b[0;32m/usr/local/Cellar/python@3.9/3.9.10/Frameworks/Python.framework/Versions/3.9/lib/python3.9/multiprocessing/pool.py:762\u001b[0m, in \u001b[0;36mApplyResult.wait\u001b[0;34m(self, timeout)\u001b[0m\n\u001b[1;32m    761\u001b[0m \u001b[38;5;28;01mdef\u001b[39;00m \u001b[38;5;21mwait\u001b[39m(\u001b[38;5;28mself\u001b[39m, timeout\u001b[38;5;241m=\u001b[39m\u001b[38;5;28;01mNone\u001b[39;00m):\n\u001b[0;32m--> 762\u001b[0m     \u001b[38;5;28;43mself\u001b[39;49m\u001b[38;5;241;43m.\u001b[39;49m\u001b[43m_event\u001b[49m\u001b[38;5;241;43m.\u001b[39;49m\u001b[43mwait\u001b[49m\u001b[43m(\u001b[49m\u001b[43mtimeout\u001b[49m\u001b[43m)\u001b[49m\n",
      "File \u001b[0;32m/usr/local/Cellar/python@3.9/3.9.10/Frameworks/Python.framework/Versions/3.9/lib/python3.9/threading.py:574\u001b[0m, in \u001b[0;36mEvent.wait\u001b[0;34m(self, timeout)\u001b[0m\n\u001b[1;32m    572\u001b[0m signaled \u001b[38;5;241m=\u001b[39m \u001b[38;5;28mself\u001b[39m\u001b[38;5;241m.\u001b[39m_flag\n\u001b[1;32m    573\u001b[0m \u001b[38;5;28;01mif\u001b[39;00m \u001b[38;5;129;01mnot\u001b[39;00m signaled:\n\u001b[0;32m--> 574\u001b[0m     signaled \u001b[38;5;241m=\u001b[39m \u001b[38;5;28;43mself\u001b[39;49m\u001b[38;5;241;43m.\u001b[39;49m\u001b[43m_cond\u001b[49m\u001b[38;5;241;43m.\u001b[39;49m\u001b[43mwait\u001b[49m\u001b[43m(\u001b[49m\u001b[43mtimeout\u001b[49m\u001b[43m)\u001b[49m\n\u001b[1;32m    575\u001b[0m \u001b[38;5;28;01mreturn\u001b[39;00m signaled\n",
      "File \u001b[0;32m/usr/local/Cellar/python@3.9/3.9.10/Frameworks/Python.framework/Versions/3.9/lib/python3.9/threading.py:312\u001b[0m, in \u001b[0;36mCondition.wait\u001b[0;34m(self, timeout)\u001b[0m\n\u001b[1;32m    310\u001b[0m \u001b[38;5;28;01mtry\u001b[39;00m:    \u001b[38;5;66;03m# restore state no matter what (e.g., KeyboardInterrupt)\u001b[39;00m\n\u001b[1;32m    311\u001b[0m     \u001b[38;5;28;01mif\u001b[39;00m timeout \u001b[38;5;129;01mis\u001b[39;00m \u001b[38;5;28;01mNone\u001b[39;00m:\n\u001b[0;32m--> 312\u001b[0m         \u001b[43mwaiter\u001b[49m\u001b[38;5;241;43m.\u001b[39;49m\u001b[43macquire\u001b[49m\u001b[43m(\u001b[49m\u001b[43m)\u001b[49m\n\u001b[1;32m    313\u001b[0m         gotit \u001b[38;5;241m=\u001b[39m \u001b[38;5;28;01mTrue\u001b[39;00m\n\u001b[1;32m    314\u001b[0m     \u001b[38;5;28;01melse\u001b[39;00m:\n",
      "\u001b[0;31mKeyboardInterrupt\u001b[0m: "
     ]
    }
   ],
   "source": [
    "rf = RandomForestRegressor(max_features=100, min_samples_leaf=5, n_estimators = 500, random_state=88, n_jobs = 2)\n",
    "\n",
    "rf.fit(x_train, y_train)"
   ]
  },
  {
   "cell_type": "code",
   "execution_count": null,
   "id": "33dda78b",
   "metadata": {},
   "outputs": [],
   "source": []
  }
 ],
 "metadata": {
  "kernelspec": {
   "display_name": "Python 3 (ipykernel)",
   "language": "python",
   "name": "python3"
  },
  "language_info": {
   "codemirror_mode": {
    "name": "ipython",
    "version": 3
   },
   "file_extension": ".py",
   "mimetype": "text/x-python",
   "name": "python",
   "nbconvert_exporter": "python",
   "pygments_lexer": "ipython3",
   "version": "3.9.10"
  }
 },
 "nbformat": 4,
 "nbformat_minor": 5
}
