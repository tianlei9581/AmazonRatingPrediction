{
 "cells": [
  {
   "cell_type": "markdown",
   "id": "c9d58b72",
   "metadata": {},
   "source": [
    "# Recommending helpful reviews on Amazon"
   ]
  },
  {
   "cell_type": "markdown",
   "id": "68a87c4f",
   "metadata": {},
   "source": [
    "**Problem Statement:**\n",
    "\n",
    "Nowadays, as more and more people make their daily purchase on Amazon, how to help customers find their most wanted products out of tens or even hundreds of similar products becomes a crucial challenge for Amazon. Under the assumption that mere product title and description drafted by merchants displayed on the product page can sometimes provide very limited and even misleading information to customers, we think some reviews can provide much more valuable and accurate information about the product and therefore could help customers make better judgements. In order to display more useful and subjective information on product pages, Amazon has adopted a strategy where it displays reviews that received the most \"helpful votes\" at the top of the review section. However, for products that have just few reviews and even fewer \"helpful\" votes, such strategy doesn't work so well. \n",
    "\n",
    "Therefore, the goal of this section of the project is to *predict* helpful reviews based on both non-textual feature and textual content of the reviews so that Amazon is able to recommend the most helpful reviews of a certain product at the top of its review sections, even those that received few votes. By recommending most helpful reviews and placing them at the top of the review section, we think Amazon could provide more useful information to customers when they browse products therefore increasing customers' satisfaction rate, products' purchase rates and ultimately company profits in the long run. \n",
    "\n",
    "In this section, we will explore the 5-score dataset specifically on Prime_Pantry category of Amazon dataset with a goal of finding meaningful relationship between the \"helpfulness\" of a review (indicated by whether a review has received votes) and its attributes and content. Dataset is provided on this [website](https://nijianmo.github.io/amazon/index.html#subsets). \n",
    "\n",
    "**Dataset description**\n",
    "- reviewerID - ID of the reviewer, e.g. A2SUAM1J3GNN3B\n",
    "- asin - ID of the product, e.g. 0000013714\n",
    "- reviewerName - name of the reviewer\n",
    "- vote - helpful votes of the review\n",
    "- style - a disctionary of the product metadata, e.g., \"Format\" is \"Hardcover\"\n",
    "- reviewText - text of the review\n",
    "- overall - rating of the product\n",
    "- summary - summary of the review\n",
    "- unixReviewTime - time of the review (unix time)\n",
    "- reviewTime - time of the review (raw)\n",
    "- image - images that users post after they have received the product"
   ]
  },
  {
   "cell_type": "code",
   "execution_count": 65,
   "id": "303d81e6",
   "metadata": {},
   "outputs": [],
   "source": [
    "import pandas as pd\n",
    "import gzip\n",
    "import json\n",
    "import numpy as np\n",
    "\n",
    "import matplotlib.pyplot as plt\n",
    "import seaborn as sns\n",
    "\n",
    "import nltk\n",
    "from sklearn.feature_extraction.text import TfidfVectorizer\n",
    "\n",
    "from sklearn.preprocessing import OneHotEncoder\n",
    "\n",
    "\n",
    "from sklearn.model_selection import GridSearchCV\n",
    "from sklearn.model_selection import train_test_split\n",
    "from statsmodels.formula.api import ols\n",
    "from sklearn.linear_model import LinearRegression\n",
    "from sklearn.linear_model import LogisticRegression\n",
    "from sklearn.ensemble import RandomForestRegressor\n",
    "from sklearn.ensemble import RandomForestClassifier\n",
    "from sklearn.tree import DecisionTreeClassifier\n",
    "\n",
    "from sklearn import metrics\n",
    "from sklearn.model_selection import cross_val_score\n",
    "#from sklearn.metrics import r2_score\n",
    "#from sklearn.metrics import mean_squared_error\n",
    "from sklearn.metrics import confusion_matrix"
   ]
  },
  {
   "cell_type": "code",
   "execution_count": 3,
   "id": "6aac21ff",
   "metadata": {},
   "outputs": [],
   "source": [
    "data = []\n",
    "\n",
    "for line in open('Prime_Pantry_5.json','r'):\n",
    "    data.append(json.loads(line))"
   ]
  },
  {
   "cell_type": "code",
   "execution_count": 4,
   "id": "d1bbcea5",
   "metadata": {},
   "outputs": [
    {
     "data": {
      "text/html": [
       "<div>\n",
       "<style scoped>\n",
       "    .dataframe tbody tr th:only-of-type {\n",
       "        vertical-align: middle;\n",
       "    }\n",
       "\n",
       "    .dataframe tbody tr th {\n",
       "        vertical-align: top;\n",
       "    }\n",
       "\n",
       "    .dataframe thead th {\n",
       "        text-align: right;\n",
       "    }\n",
       "</style>\n",
       "<table border=\"1\" class=\"dataframe\">\n",
       "  <thead>\n",
       "    <tr style=\"text-align: right;\">\n",
       "      <th></th>\n",
       "      <th>overall</th>\n",
       "      <th>verified</th>\n",
       "      <th>reviewTime</th>\n",
       "      <th>reviewerID</th>\n",
       "      <th>asin</th>\n",
       "      <th>reviewerName</th>\n",
       "      <th>reviewText</th>\n",
       "      <th>summary</th>\n",
       "      <th>unixReviewTime</th>\n",
       "      <th>vote</th>\n",
       "      <th>image</th>\n",
       "      <th>style</th>\n",
       "    </tr>\n",
       "  </thead>\n",
       "  <tbody>\n",
       "    <tr>\n",
       "      <th>0</th>\n",
       "      <td>4.0</td>\n",
       "      <td>True</td>\n",
       "      <td>09 24, 2015</td>\n",
       "      <td>A31Y9ELLA1JUB0</td>\n",
       "      <td>B0000DIWNI</td>\n",
       "      <td>Her Royal Peepness Princess HoneyBunny Blayze</td>\n",
       "      <td>I purchased this Saran premium plastic wrap af...</td>\n",
       "      <td>Pretty Good For plastic Wrap</td>\n",
       "      <td>1443052800</td>\n",
       "      <td>NaN</td>\n",
       "      <td>NaN</td>\n",
       "      <td>NaN</td>\n",
       "    </tr>\n",
       "    <tr>\n",
       "      <th>1</th>\n",
       "      <td>5.0</td>\n",
       "      <td>True</td>\n",
       "      <td>06 23, 2015</td>\n",
       "      <td>A2FYW9VZ0AMXKY</td>\n",
       "      <td>B0000DIWNI</td>\n",
       "      <td>Mary</td>\n",
       "      <td>I am an avid cook and baker.  Saran Premium Pl...</td>\n",
       "      <td>The Best Plastic Wrap for your Cooking, Baking...</td>\n",
       "      <td>1435017600</td>\n",
       "      <td>NaN</td>\n",
       "      <td>NaN</td>\n",
       "      <td>NaN</td>\n",
       "    </tr>\n",
       "    <tr>\n",
       "      <th>2</th>\n",
       "      <td>5.0</td>\n",
       "      <td>True</td>\n",
       "      <td>06 13, 2015</td>\n",
       "      <td>A1NE43T0OM6NNX</td>\n",
       "      <td>B0000DIWNI</td>\n",
       "      <td>Tulay C</td>\n",
       "      <td>Good wrap, keeping it in the fridge makes it e...</td>\n",
       "      <td>Good and strong.</td>\n",
       "      <td>1434153600</td>\n",
       "      <td>NaN</td>\n",
       "      <td>NaN</td>\n",
       "      <td>NaN</td>\n",
       "    </tr>\n",
       "    <tr>\n",
       "      <th>3</th>\n",
       "      <td>4.0</td>\n",
       "      <td>True</td>\n",
       "      <td>06 3, 2015</td>\n",
       "      <td>AHTCPGK2CNPKU</td>\n",
       "      <td>B0000DIWNI</td>\n",
       "      <td>OmaShops</td>\n",
       "      <td>I prefer Saran wrap over other brands. It does...</td>\n",
       "      <td>Doesn't cling as well to dishes as other brand...</td>\n",
       "      <td>1433289600</td>\n",
       "      <td>NaN</td>\n",
       "      <td>NaN</td>\n",
       "      <td>NaN</td>\n",
       "    </tr>\n",
       "    <tr>\n",
       "      <th>4</th>\n",
       "      <td>5.0</td>\n",
       "      <td>True</td>\n",
       "      <td>04 20, 2015</td>\n",
       "      <td>A25SIBTMVXLB59</td>\n",
       "      <td>B0000DIWNI</td>\n",
       "      <td>Nitemanslim</td>\n",
       "      <td>Thanks</td>\n",
       "      <td>Five Stars</td>\n",
       "      <td>1429488000</td>\n",
       "      <td>NaN</td>\n",
       "      <td>NaN</td>\n",
       "      <td>NaN</td>\n",
       "    </tr>\n",
       "  </tbody>\n",
       "</table>\n",
       "</div>"
      ],
      "text/plain": [
       "   overall  verified   reviewTime      reviewerID        asin  \\\n",
       "0      4.0      True  09 24, 2015  A31Y9ELLA1JUB0  B0000DIWNI   \n",
       "1      5.0      True  06 23, 2015  A2FYW9VZ0AMXKY  B0000DIWNI   \n",
       "2      5.0      True  06 13, 2015  A1NE43T0OM6NNX  B0000DIWNI   \n",
       "3      4.0      True   06 3, 2015   AHTCPGK2CNPKU  B0000DIWNI   \n",
       "4      5.0      True  04 20, 2015  A25SIBTMVXLB59  B0000DIWNI   \n",
       "\n",
       "                                    reviewerName  \\\n",
       "0  Her Royal Peepness Princess HoneyBunny Blayze   \n",
       "1                                           Mary   \n",
       "2                                        Tulay C   \n",
       "3                                       OmaShops   \n",
       "4                                    Nitemanslim   \n",
       "\n",
       "                                          reviewText  \\\n",
       "0  I purchased this Saran premium plastic wrap af...   \n",
       "1  I am an avid cook and baker.  Saran Premium Pl...   \n",
       "2  Good wrap, keeping it in the fridge makes it e...   \n",
       "3  I prefer Saran wrap over other brands. It does...   \n",
       "4                                             Thanks   \n",
       "\n",
       "                                             summary  unixReviewTime vote  \\\n",
       "0                       Pretty Good For plastic Wrap      1443052800  NaN   \n",
       "1  The Best Plastic Wrap for your Cooking, Baking...      1435017600  NaN   \n",
       "2                                   Good and strong.      1434153600  NaN   \n",
       "3  Doesn't cling as well to dishes as other brand...      1433289600  NaN   \n",
       "4                                         Five Stars      1429488000  NaN   \n",
       "\n",
       "  image style  \n",
       "0   NaN   NaN  \n",
       "1   NaN   NaN  \n",
       "2   NaN   NaN  \n",
       "3   NaN   NaN  \n",
       "4   NaN   NaN  "
      ]
     },
     "execution_count": 4,
     "metadata": {},
     "output_type": "execute_result"
    }
   ],
   "source": [
    "df = pd.DataFrame(v for v in data)\n",
    "df.head()"
   ]
  },
  {
   "cell_type": "code",
   "execution_count": 5,
   "id": "fff132ea",
   "metadata": {
    "scrolled": true
   },
   "outputs": [
    {
     "data": {
      "text/plain": [
       "(137788, 12)"
      ]
     },
     "execution_count": 5,
     "metadata": {},
     "output_type": "execute_result"
    }
   ],
   "source": [
    "df.shape"
   ]
  },
  {
   "cell_type": "markdown",
   "id": "07f169f1",
   "metadata": {},
   "source": [
    "## Part 1: Data Preprocessing and EDA for Non-textual Features\n",
    "\n",
    "### 1.1 Data Preprocessing\n",
    "\n",
    "We conduct data preprocessing for non-textual features in following steps:\n",
    "\n",
    "1. Handling missing values: \n",
    "\n",
    "    Based on the feature description on the [documentation](https://nijianmo.github.io/amazon/index.html#subsets) website, we make interpration and take following steps to handle NA values:\n",
    "    \n",
    "    1. There are 93% NA values for `vote`, which are reviews received no votes. So we can impute NA using 0.\n",
    "    2. There are 99.5% NA values for `image`, which are reviews with no image attached therefore we impute NA using 0 \n",
    "    3. There are 99% NA values for `style`, which are product metadata. Since we are handling product metadata in the other part of this project. We decide to remove this feature.\n",
    "    4. There are <0.2% NA values for `reviewName`, `reviewText`, `summary`. Since they comprise only small portion of the dataset. We decide to remove the NA rows.\n",
    "    \n",
    "2. Feature Enginnering: \n",
    "    1. Since `image` itself provide little use in this specific project, we decide to replace the `image` feature with a new feature: `has_image` which contain value 1 if a review has attached images or 0 if otherwise.\n",
    "    2. Convert datatype for `vote` column to integers and replace it with a new feature `is_helpful` which is binary categorical feature that takes value of 1 if a review has been voted as helpful one or more times (`vote` > 0) and 0 otherwise (`vote` == 0)\n",
    "    3. Convert True/False values in `verified` to 1/0 values respectively.\n",
    "    4. Create two new features: `review_length` and `summary_length`, which indicate the lengths of the review text and summary, respectively.\n",
    "\n",
    "3. Feature Selection\n",
    "    1. Besides `style`, we also remove unuseful columns: `reviewTime`, `reviewerID`, `unixReviewTime`, `reviewerName`."
   ]
  },
  {
   "cell_type": "code",
   "execution_count": 6,
   "id": "52d28d0a",
   "metadata": {},
   "outputs": [
    {
     "data": {
      "text/plain": [
       "overall           0.000000\n",
       "verified          0.000000\n",
       "reviewTime        0.000000\n",
       "reviewerID        0.000000\n",
       "asin              0.000000\n",
       "reviewerName      0.000116\n",
       "reviewText        0.001285\n",
       "summary           0.000443\n",
       "unixReviewTime    0.000000\n",
       "vote              0.931511\n",
       "image             0.995174\n",
       "style             0.991639\n",
       "dtype: float64"
      ]
     },
     "execution_count": 6,
     "metadata": {},
     "output_type": "execute_result"
    }
   ],
   "source": [
    "# check NA percentage for each column\n",
    "df.isna().sum()/len(df)"
   ]
  },
  {
   "cell_type": "code",
   "execution_count": 7,
   "id": "c52bc2b4",
   "metadata": {},
   "outputs": [],
   "source": [
    "# impute NA for 'vote'\n",
    "df['vote'] = df['vote'].fillna(0)\n",
    "\n",
    "# add 'has_image' feature based on 'image' feature\n",
    "df['has_image'] = 1- df['image'].isna().astype(int)\n",
    "\n",
    "# remove 'image', 'style' columns\n",
    "df.drop(['image','style'], axis =1, inplace = True)\n",
    "\n",
    "# remove NA rows\n",
    "df.dropna(axis = 0, inplace = True)\n",
    "\n",
    "# convert verified columns into 0/1\n",
    "df['verified'] = df['verified'].astype(int)\n",
    "\n",
    "# create new column 'is_helpful'\n",
    "df['is_helpful'] = [1 if x > 0 else 0 for x in df['vote'].astype(int)]\n",
    "\n",
    "# create new columns: 'review_length' and 'summary_length'\n",
    "df['review_length'] = [len(str(x)) for x in df['reviewText']]\n",
    "df['summary_length'] = [len(str(x)) for x in df['summary']]\n",
    "\n",
    "# remove unuseful columns: reviewTime, reviewerID, unixReviewTime, reviewerName,asin\n",
    "votes = df['vote']\n",
    "df.drop(['vote','reviewTime', 'reviewerID', 'unixReviewTime','reviewerName','asin'], axis = 1, inplace = True)"
   ]
  },
  {
   "cell_type": "code",
   "execution_count": 8,
   "id": "116ea209",
   "metadata": {},
   "outputs": [],
   "source": [
    "# identify categorical and numerical features \n",
    "cat = ['verified','has_image','overall']\n",
    "num = ['review_length','summary_length']\n",
    "\n",
    "nt_features = cat+num"
   ]
  },
  {
   "cell_type": "markdown",
   "id": "e3cefbe7",
   "metadata": {},
   "source": [
    "### 1.2 EDA on grouped non-textual dataframe"
   ]
  },
  {
   "cell_type": "code",
   "execution_count": 9,
   "id": "5cc92ba4",
   "metadata": {},
   "outputs": [
    {
     "data": {
      "text/html": [
       "<div>\n",
       "<style scoped>\n",
       "    .dataframe tbody tr th:only-of-type {\n",
       "        vertical-align: middle;\n",
       "    }\n",
       "\n",
       "    .dataframe tbody tr th {\n",
       "        vertical-align: top;\n",
       "    }\n",
       "\n",
       "    .dataframe thead th {\n",
       "        text-align: right;\n",
       "    }\n",
       "</style>\n",
       "<table border=\"1\" class=\"dataframe\">\n",
       "  <thead>\n",
       "    <tr style=\"text-align: right;\">\n",
       "      <th></th>\n",
       "      <th>verified</th>\n",
       "      <th>has_image</th>\n",
       "      <th>overall</th>\n",
       "      <th>review_length</th>\n",
       "      <th>summary_length</th>\n",
       "    </tr>\n",
       "    <tr>\n",
       "      <th>is_helpful</th>\n",
       "      <th></th>\n",
       "      <th></th>\n",
       "      <th></th>\n",
       "      <th></th>\n",
       "      <th></th>\n",
       "    </tr>\n",
       "  </thead>\n",
       "  <tbody>\n",
       "    <tr>\n",
       "      <th>0</th>\n",
       "      <td>0.833376</td>\n",
       "      <td>0.002146</td>\n",
       "      <td>4.561719</td>\n",
       "      <td>92.135380</td>\n",
       "      <td>18.266709</td>\n",
       "    </tr>\n",
       "    <tr>\n",
       "      <th>1</th>\n",
       "      <td>0.872230</td>\n",
       "      <td>0.041141</td>\n",
       "      <td>4.328703</td>\n",
       "      <td>385.988654</td>\n",
       "      <td>31.493797</td>\n",
       "    </tr>\n",
       "  </tbody>\n",
       "</table>\n",
       "</div>"
      ],
      "text/plain": [
       "            verified  has_image   overall  review_length  summary_length\n",
       "is_helpful                                                              \n",
       "0           0.833376   0.002146  4.561719      92.135380       18.266709\n",
       "1           0.872230   0.041141  4.328703     385.988654       31.493797"
      ]
     },
     "execution_count": 9,
     "metadata": {},
     "output_type": "execute_result"
    }
   ],
   "source": [
    "# group dataframe by rating levels\n",
    "df_grouped = df[nt_features+['is_helpful']].groupby('is_helpful').mean()\n",
    "df_grouped "
   ]
  },
  {
   "cell_type": "code",
   "execution_count": 10,
   "id": "dfe265e0",
   "metadata": {},
   "outputs": [
    {
     "data": {
      "image/png": "[encoded data removed]",
      "text/plain": [
       "<Figure size 432x288 with 1 Axes>"
      ]
     },
     "metadata": {
      "needs_background": "light"
     },
     "output_type": "display_data"
    },
    {
     "data": {
      "image/png": "[encoded data removed]",
      "text/plain": [
       "<Figure size 432x288 with 1 Axes>"
      ]
     },
     "metadata": {
      "needs_background": "light"
     },
     "output_type": "display_data"
    },
    {
     "data": {
      "image/png": "[encoded data removed]",
      "text/plain": [
       "<Figure size 432x288 with 1 Axes>"
      ]
     },
     "metadata": {
      "needs_background": "light"
     },
     "output_type": "display_data"
    },
    {
     "data": {
      "image/png": "[encoded data removed]",
      "text/plain": [
       "<Figure size 432x288 with 1 Axes>"
      ]
     },
     "metadata": {
      "needs_background": "light"
     },
     "output_type": "display_data"
    },
    {
     "data": {
      "image/png": "[encoded data removed]",
      "text/plain": [
       "<Figure size 432x288 with 1 Axes>"
      ]
     },
     "metadata": {
      "needs_background": "light"
     },
     "output_type": "display_data"
    }
   ],
   "source": [
    "plt.bar(['not helpful','helpful'], df_grouped['verified'], width = 0.3)\n",
    "plt.title('Average percentage of verified reviews for helpful and unhelpful reviews')\n",
    "plt.ylabel('Average percentage')\n",
    "plt.show()\n",
    "\n",
    "plt.bar(['not helpful','helpful'], df_grouped['has_image'], width = 0.3)\n",
    "plt.title('Average percentage of reviews with image for helpful and unhelpful reviews')\n",
    "plt.ylabel('Average percentage')\n",
    "plt.show()\n",
    "\n",
    "plt.bar(['not helpful','helpful'], df_grouped['overall'], width = 0.3)\n",
    "plt.title('Average rating for helpful and unhelpful reviews')\n",
    "plt.ylabel('Average rating')\n",
    "plt.show()\n",
    "\n",
    "plt.bar(['not helpful','helpful'], df_grouped['review_length'], width = 0.3)\n",
    "plt.title('Average review text length for helpful and unhelpful reviews')\n",
    "plt.ylabel('Average text length')\n",
    "plt.show()\n",
    "\n",
    "plt.bar(['not helpful','helpful'], df_grouped['summary_length'], width = 0.3)\n",
    "plt.title('Average summary length for helpful and unhelpful reviews')\n",
    "plt.ylabel('Average summary length')\n",
    "plt.show()"
   ]
  },
  {
   "cell_type": "markdown",
   "id": "3e926748",
   "metadata": {},
   "source": [
    "# Part 2: Data Preprocessing and EDA for Textual Features\n",
    "\n",
    "### 2.1 Tokenizating and Stemming for Textual Column\n",
    "\n",
    "In this part, we tokenized textual contents of each review in the following way:\n",
    "1. convert all words into lower cap\n",
    "2. filter out words that are in the `stopwords` list, which contains most commonly used words that provide little information. Note that in this step, we add two extra words into the list: 'amazon' and 'product' because they too are most common and neutral words specifically for our dataset.\n",
    "3. filter out all tokens that are not letters including numbers, punctuation, and emoji\n",
    "4. stem words using the 'PorterStemmer' package."
   ]
  },
  {
   "cell_type": "code",
   "execution_count": 11,
   "id": "c76d0c86",
   "metadata": {},
   "outputs": [],
   "source": [
    "# import stopwords and stemmer from nltk\n",
    "\n",
    "stopwords = nltk.corpus.stopwords.words('english')\n",
    "# customize stopwords\n",
    "stopwords.extend(['amazon','product'])\n",
    "porter = nltk.stem.PorterStemmer()"
   ]
  },
  {
   "cell_type": "code",
   "execution_count": 12,
   "id": "b2c9ebd5",
   "metadata": {},
   "outputs": [],
   "source": [
    "# define the tokenization and stemming function\n",
    "def tokenization_and_stemming(text):\n",
    "    \n",
    "    text = text.replace('-',' ')\n",
    "    text = text.replace('*',' ')\n",
    "    text = text.replace('+',' ')\n",
    "    text = text.replace('/',' ')\n",
    "    text = text.replace('^',' ')\n",
    "    \n",
    "    \n",
    "    \n",
    "    # tokenize and remove stop words from tokenized text\n",
    "    tokens = []\n",
    "    for word in nltk.word_tokenize(text):  \n",
    "        if word.lower() not in stopwords:\n",
    "            tokens.append(word.lower()) # convert to lowercase\n",
    "    \n",
    "    # filter out any tokens not containing letters (eg. numeric, punctuation, emoji)\n",
    "    filtered_tokens = []\n",
    "    for token in tokens:\n",
    "        if token.isalpha():\n",
    "            filtered_tokens.append(token)\n",
    "            \n",
    "    # stemming\n",
    "    stems = [porter.stem(ft) for ft in filtered_tokens]\n",
    "    \n",
    "    return stems"
   ]
  },
  {
   "cell_type": "markdown",
   "id": "d58389ca",
   "metadata": {},
   "source": [
    "### 2.2 Convert to TF-IDF matrix\n",
    "\n",
    "After tokenizing the words, we vectorize the textual data into numerical data using the TFIDF algorithm and 1-gram method, where each column indicate a stemmed word, each row is a single review, and each cell contains a value that equal to the term frequency divided by the document frequency of that word.\n",
    "\n",
    "- TF: Term Frequency\n",
    "- IDF: Inverse Document Frequency\n",
    "\n",
    "Note that in this part, we want to keep the information that whether a certain term appeared in the text (review body) or the summary. Therefore, we verctorize the text column and summary column separately and label the words that indicate summary or text when we concate the two matrices."
   ]
  },
  {
   "cell_type": "code",
   "execution_count": 13,
   "id": "a13454b2",
   "metadata": {},
   "outputs": [],
   "source": [
    "from sklearn.feature_extraction.text import TfidfVectorizer\n",
    "\n",
    "tfidf_model = TfidfVectorizer(max_df=0.99, max_features=1000,\n",
    "                                 min_df=0.01, stop_words='english',\n",
    "                                 use_idf=True, tokenizer=tokenization_and_stemming, ngram_range=(1,1))"
   ]
  },
  {
   "cell_type": "code",
   "execution_count": 14,
   "id": "d81e43ea",
   "metadata": {},
   "outputs": [
    {
     "name": "stderr",
     "output_type": "stream",
     "text": [
      "/usr/local/lib/python3.9/site-packages/sklearn/feature_extraction/text.py:396: UserWarning: Your stop_words may be inconsistent with your preprocessing. Tokenizing the stop words generated tokens ['afterward', 'alon', 'alreadi', 'alway', 'anoth', 'anyon', 'anyth', 'anywher', 'becam', 'becom', 'besid', 'cri', 'describ', 'els', 'elsewher', 'empti', 'everi', 'everyon', 'everyth', 'everywher', 'fifti', 'formerli', 'forti', 'henc', 'hereaft', 'herebi', 'howev', 'hundr', 'inde', 'latterli', 'mani', 'meanwhil', 'moreov', 'mostli', 'nobodi', 'noon', 'noth', 'nowher', 'otherwis', 'perhap', 'pleas', 'seriou', 'sever', 'sinc', 'sincer', 'sixti', 'someon', 'someth', 'sometim', 'somewher', 'thenc', 'thereaft', 'therebi', 'therefor', 'thu', 'togeth', 'twelv', 'twenti', 'whatev', 'whenc', 'whenev', 'wherea', 'whereaft', 'wherebi', 'wherev'] not in stop_words.\n",
      "  warnings.warn(\n",
      "/usr/local/lib/python3.9/site-packages/sklearn/utils/deprecation.py:87: FutureWarning: Function get_feature_names is deprecated; get_feature_names is deprecated in 1.0 and will be removed in 1.2. Please use get_feature_names_out instead.\n",
      "  warnings.warn(msg, category=FutureWarning)\n"
     ]
    }
   ],
   "source": [
    "# convert two columns into two TF-IDF matrices\n",
    "\n",
    "tfidf_text = pd.DataFrame(tfidf_model.fit_transform(df['reviewText']).toarray(), \n",
    "                     columns=tfidf_model.get_feature_names(), index=df.index)\n",
    "tfidf_summary = pd.DataFrame(tfidf_model.fit_transform(df['summary']).toarray(), \n",
    "                     columns=tfidf_model.get_feature_names(), index=df.index)\n",
    "\n",
    "tfidf_text.columns = [ x+'_text' for x in tfidf_text.columns]\n",
    "tfidf_summary.columns = [ x+'_summary' for x in tfidf_summary.columns]"
   ]
  },
  {
   "cell_type": "markdown",
   "id": "f23dfce6",
   "metadata": {},
   "source": [
    "### 2.3 EDA on Textual Features"
   ]
  },
  {
   "cell_type": "code",
   "execution_count": 15,
   "id": "6f894946",
   "metadata": {
    "scrolled": false
   },
   "outputs": [
    {
     "data": {
      "text/html": [
       "<div>\n",
       "<style scoped>\n",
       "    .dataframe tbody tr th:only-of-type {\n",
       "        vertical-align: middle;\n",
       "    }\n",
       "\n",
       "    .dataframe tbody tr th {\n",
       "        vertical-align: top;\n",
       "    }\n",
       "\n",
       "    .dataframe thead th {\n",
       "        text-align: right;\n",
       "    }\n",
       "</style>\n",
       "<table border=\"1\" class=\"dataframe\">\n",
       "  <thead>\n",
       "    <tr style=\"text-align: right;\">\n",
       "      <th></th>\n",
       "      <th>actual_text</th>\n",
       "      <th>ad_text</th>\n",
       "      <th>add_text</th>\n",
       "      <th>alway_text</th>\n",
       "      <th>anyth_text</th>\n",
       "      <th>arriv_text</th>\n",
       "      <th>awesom_text</th>\n",
       "      <th>bad_text</th>\n",
       "      <th>bag_text</th>\n",
       "      <th>bar_text</th>\n",
       "      <th>...</th>\n",
       "      <th>nice_summary</th>\n",
       "      <th>price_summary</th>\n",
       "      <th>smell_summary</th>\n",
       "      <th>snack_summary</th>\n",
       "      <th>star_summary</th>\n",
       "      <th>tast_summary</th>\n",
       "      <th>tasti_summary</th>\n",
       "      <th>use_summary</th>\n",
       "      <th>work_summary</th>\n",
       "      <th>yummi_summary</th>\n",
       "    </tr>\n",
       "  </thead>\n",
       "  <tbody>\n",
       "    <tr>\n",
       "      <th>0</th>\n",
       "      <td>0.354721</td>\n",
       "      <td>0.0</td>\n",
       "      <td>0.0</td>\n",
       "      <td>0.0</td>\n",
       "      <td>0.0</td>\n",
       "      <td>0.0</td>\n",
       "      <td>0.0</td>\n",
       "      <td>0.0</td>\n",
       "      <td>0.0</td>\n",
       "      <td>0.000000</td>\n",
       "      <td>...</td>\n",
       "      <td>0.0</td>\n",
       "      <td>0.0</td>\n",
       "      <td>0.0</td>\n",
       "      <td>0.0</td>\n",
       "      <td>0.0</td>\n",
       "      <td>0.0</td>\n",
       "      <td>0.0</td>\n",
       "      <td>0.0</td>\n",
       "      <td>0.0</td>\n",
       "      <td>0.0</td>\n",
       "    </tr>\n",
       "    <tr>\n",
       "      <th>1</th>\n",
       "      <td>0.000000</td>\n",
       "      <td>0.0</td>\n",
       "      <td>0.0</td>\n",
       "      <td>0.0</td>\n",
       "      <td>0.0</td>\n",
       "      <td>0.0</td>\n",
       "      <td>0.0</td>\n",
       "      <td>0.0</td>\n",
       "      <td>0.0</td>\n",
       "      <td>0.168095</td>\n",
       "      <td>...</td>\n",
       "      <td>0.0</td>\n",
       "      <td>0.0</td>\n",
       "      <td>0.0</td>\n",
       "      <td>0.0</td>\n",
       "      <td>0.0</td>\n",
       "      <td>0.0</td>\n",
       "      <td>0.0</td>\n",
       "      <td>0.0</td>\n",
       "      <td>0.0</td>\n",
       "      <td>0.0</td>\n",
       "    </tr>\n",
       "    <tr>\n",
       "      <th>2</th>\n",
       "      <td>0.000000</td>\n",
       "      <td>0.0</td>\n",
       "      <td>0.0</td>\n",
       "      <td>0.0</td>\n",
       "      <td>0.0</td>\n",
       "      <td>0.0</td>\n",
       "      <td>0.0</td>\n",
       "      <td>0.0</td>\n",
       "      <td>0.0</td>\n",
       "      <td>0.000000</td>\n",
       "      <td>...</td>\n",
       "      <td>0.0</td>\n",
       "      <td>0.0</td>\n",
       "      <td>0.0</td>\n",
       "      <td>0.0</td>\n",
       "      <td>0.0</td>\n",
       "      <td>0.0</td>\n",
       "      <td>0.0</td>\n",
       "      <td>0.0</td>\n",
       "      <td>0.0</td>\n",
       "      <td>0.0</td>\n",
       "    </tr>\n",
       "    <tr>\n",
       "      <th>3</th>\n",
       "      <td>0.000000</td>\n",
       "      <td>0.0</td>\n",
       "      <td>0.0</td>\n",
       "      <td>0.0</td>\n",
       "      <td>0.0</td>\n",
       "      <td>0.0</td>\n",
       "      <td>0.0</td>\n",
       "      <td>0.0</td>\n",
       "      <td>0.0</td>\n",
       "      <td>0.000000</td>\n",
       "      <td>...</td>\n",
       "      <td>0.0</td>\n",
       "      <td>0.0</td>\n",
       "      <td>0.0</td>\n",
       "      <td>0.0</td>\n",
       "      <td>0.0</td>\n",
       "      <td>0.0</td>\n",
       "      <td>0.0</td>\n",
       "      <td>0.0</td>\n",
       "      <td>0.0</td>\n",
       "      <td>0.0</td>\n",
       "    </tr>\n",
       "    <tr>\n",
       "      <th>4</th>\n",
       "      <td>0.000000</td>\n",
       "      <td>0.0</td>\n",
       "      <td>0.0</td>\n",
       "      <td>0.0</td>\n",
       "      <td>0.0</td>\n",
       "      <td>0.0</td>\n",
       "      <td>0.0</td>\n",
       "      <td>0.0</td>\n",
       "      <td>0.0</td>\n",
       "      <td>0.000000</td>\n",
       "      <td>...</td>\n",
       "      <td>0.0</td>\n",
       "      <td>0.0</td>\n",
       "      <td>0.0</td>\n",
       "      <td>0.0</td>\n",
       "      <td>1.0</td>\n",
       "      <td>0.0</td>\n",
       "      <td>0.0</td>\n",
       "      <td>0.0</td>\n",
       "      <td>0.0</td>\n",
       "      <td>0.0</td>\n",
       "    </tr>\n",
       "  </tbody>\n",
       "</table>\n",
       "<p>5 rows × 175 columns</p>\n",
       "</div>"
      ],
      "text/plain": [
       "   actual_text  ad_text  add_text  alway_text  anyth_text  arriv_text  \\\n",
       "0     0.354721      0.0       0.0         0.0         0.0         0.0   \n",
       "1     0.000000      0.0       0.0         0.0         0.0         0.0   \n",
       "2     0.000000      0.0       0.0         0.0         0.0         0.0   \n",
       "3     0.000000      0.0       0.0         0.0         0.0         0.0   \n",
       "4     0.000000      0.0       0.0         0.0         0.0         0.0   \n",
       "\n",
       "   awesom_text  bad_text  bag_text  bar_text  ...  nice_summary  \\\n",
       "0          0.0       0.0       0.0  0.000000  ...           0.0   \n",
       "1          0.0       0.0       0.0  0.168095  ...           0.0   \n",
       "2          0.0       0.0       0.0  0.000000  ...           0.0   \n",
       "3          0.0       0.0       0.0  0.000000  ...           0.0   \n",
       "4          0.0       0.0       0.0  0.000000  ...           0.0   \n",
       "\n",
       "   price_summary  smell_summary  snack_summary  star_summary  tast_summary  \\\n",
       "0            0.0            0.0            0.0           0.0           0.0   \n",
       "1            0.0            0.0            0.0           0.0           0.0   \n",
       "2            0.0            0.0            0.0           0.0           0.0   \n",
       "3            0.0            0.0            0.0           0.0           0.0   \n",
       "4            0.0            0.0            0.0           1.0           0.0   \n",
       "\n",
       "   tasti_summary  use_summary  work_summary  yummi_summary  \n",
       "0            0.0          0.0           0.0            0.0  \n",
       "1            0.0          0.0           0.0            0.0  \n",
       "2            0.0          0.0           0.0            0.0  \n",
       "3            0.0          0.0           0.0            0.0  \n",
       "4            0.0          0.0           0.0            0.0  \n",
       "\n",
       "[5 rows x 175 columns]"
      ]
     },
     "execution_count": 15,
     "metadata": {},
     "output_type": "execute_result"
    }
   ],
   "source": [
    "# Concat two matrices into the final matrix\n",
    "text_df = pd.concat([tfidf_text,tfidf_summary], axis = 1)\n",
    "text_df.head()"
   ]
  },
  {
   "cell_type": "code",
   "execution_count": 16,
   "id": "0dbbe13b",
   "metadata": {},
   "outputs": [
    {
     "data": {
      "text/html": [
       "<div>\n",
       "<style scoped>\n",
       "    .dataframe tbody tr th:only-of-type {\n",
       "        vertical-align: middle;\n",
       "    }\n",
       "\n",
       "    .dataframe tbody tr th {\n",
       "        vertical-align: top;\n",
       "    }\n",
       "\n",
       "    .dataframe thead th {\n",
       "        text-align: right;\n",
       "    }\n",
       "</style>\n",
       "<table border=\"1\" class=\"dataframe\">\n",
       "  <thead>\n",
       "    <tr style=\"text-align: right;\">\n",
       "      <th></th>\n",
       "      <th>overall</th>\n",
       "      <th>verified</th>\n",
       "      <th>has_image</th>\n",
       "      <th>is_helpful</th>\n",
       "      <th>review_length</th>\n",
       "      <th>summary_length</th>\n",
       "      <th>actual_text</th>\n",
       "      <th>ad_text</th>\n",
       "      <th>add_text</th>\n",
       "      <th>alway_text</th>\n",
       "      <th>...</th>\n",
       "      <th>nice_summary</th>\n",
       "      <th>price_summary</th>\n",
       "      <th>smell_summary</th>\n",
       "      <th>snack_summary</th>\n",
       "      <th>star_summary</th>\n",
       "      <th>tast_summary</th>\n",
       "      <th>tasti_summary</th>\n",
       "      <th>use_summary</th>\n",
       "      <th>work_summary</th>\n",
       "      <th>yummi_summary</th>\n",
       "    </tr>\n",
       "  </thead>\n",
       "  <tbody>\n",
       "    <tr>\n",
       "      <th>0</th>\n",
       "      <td>4.0</td>\n",
       "      <td>1</td>\n",
       "      <td>0</td>\n",
       "      <td>0</td>\n",
       "      <td>581</td>\n",
       "      <td>28</td>\n",
       "      <td>0.354721</td>\n",
       "      <td>0.0</td>\n",
       "      <td>0.0</td>\n",
       "      <td>0.0</td>\n",
       "      <td>...</td>\n",
       "      <td>0.0</td>\n",
       "      <td>0.0</td>\n",
       "      <td>0.0</td>\n",
       "      <td>0.0</td>\n",
       "      <td>0.0</td>\n",
       "      <td>0.0</td>\n",
       "      <td>0.0</td>\n",
       "      <td>0.0</td>\n",
       "      <td>0.0</td>\n",
       "      <td>0.0</td>\n",
       "    </tr>\n",
       "    <tr>\n",
       "      <th>1</th>\n",
       "      <td>5.0</td>\n",
       "      <td>1</td>\n",
       "      <td>0</td>\n",
       "      <td>0</td>\n",
       "      <td>976</td>\n",
       "      <td>70</td>\n",
       "      <td>0.000000</td>\n",
       "      <td>0.0</td>\n",
       "      <td>0.0</td>\n",
       "      <td>0.0</td>\n",
       "      <td>...</td>\n",
       "      <td>0.0</td>\n",
       "      <td>0.0</td>\n",
       "      <td>0.0</td>\n",
       "      <td>0.0</td>\n",
       "      <td>0.0</td>\n",
       "      <td>0.0</td>\n",
       "      <td>0.0</td>\n",
       "      <td>0.0</td>\n",
       "      <td>0.0</td>\n",
       "      <td>0.0</td>\n",
       "    </tr>\n",
       "    <tr>\n",
       "      <th>2</th>\n",
       "      <td>5.0</td>\n",
       "      <td>1</td>\n",
       "      <td>0</td>\n",
       "      <td>0</td>\n",
       "      <td>95</td>\n",
       "      <td>16</td>\n",
       "      <td>0.000000</td>\n",
       "      <td>0.0</td>\n",
       "      <td>0.0</td>\n",
       "      <td>0.0</td>\n",
       "      <td>...</td>\n",
       "      <td>0.0</td>\n",
       "      <td>0.0</td>\n",
       "      <td>0.0</td>\n",
       "      <td>0.0</td>\n",
       "      <td>0.0</td>\n",
       "      <td>0.0</td>\n",
       "      <td>0.0</td>\n",
       "      <td>0.0</td>\n",
       "      <td>0.0</td>\n",
       "      <td>0.0</td>\n",
       "    </tr>\n",
       "    <tr>\n",
       "      <th>3</th>\n",
       "      <td>4.0</td>\n",
       "      <td>1</td>\n",
       "      <td>0</td>\n",
       "      <td>0</td>\n",
       "      <td>126</td>\n",
       "      <td>68</td>\n",
       "      <td>0.000000</td>\n",
       "      <td>0.0</td>\n",
       "      <td>0.0</td>\n",
       "      <td>0.0</td>\n",
       "      <td>...</td>\n",
       "      <td>0.0</td>\n",
       "      <td>0.0</td>\n",
       "      <td>0.0</td>\n",
       "      <td>0.0</td>\n",
       "      <td>0.0</td>\n",
       "      <td>0.0</td>\n",
       "      <td>0.0</td>\n",
       "      <td>0.0</td>\n",
       "      <td>0.0</td>\n",
       "      <td>0.0</td>\n",
       "    </tr>\n",
       "    <tr>\n",
       "      <th>4</th>\n",
       "      <td>5.0</td>\n",
       "      <td>1</td>\n",
       "      <td>0</td>\n",
       "      <td>0</td>\n",
       "      <td>6</td>\n",
       "      <td>10</td>\n",
       "      <td>0.000000</td>\n",
       "      <td>0.0</td>\n",
       "      <td>0.0</td>\n",
       "      <td>0.0</td>\n",
       "      <td>...</td>\n",
       "      <td>0.0</td>\n",
       "      <td>0.0</td>\n",
       "      <td>0.0</td>\n",
       "      <td>0.0</td>\n",
       "      <td>1.0</td>\n",
       "      <td>0.0</td>\n",
       "      <td>0.0</td>\n",
       "      <td>0.0</td>\n",
       "      <td>0.0</td>\n",
       "      <td>0.0</td>\n",
       "    </tr>\n",
       "  </tbody>\n",
       "</table>\n",
       "<p>5 rows × 181 columns</p>\n",
       "</div>"
      ],
      "text/plain": [
       "   overall  verified  has_image  is_helpful  review_length  summary_length  \\\n",
       "0      4.0         1          0           0            581              28   \n",
       "1      5.0         1          0           0            976              70   \n",
       "2      5.0         1          0           0             95              16   \n",
       "3      4.0         1          0           0            126              68   \n",
       "4      5.0         1          0           0              6              10   \n",
       "\n",
       "   actual_text  ad_text  add_text  alway_text  ...  nice_summary  \\\n",
       "0     0.354721      0.0       0.0         0.0  ...           0.0   \n",
       "1     0.000000      0.0       0.0         0.0  ...           0.0   \n",
       "2     0.000000      0.0       0.0         0.0  ...           0.0   \n",
       "3     0.000000      0.0       0.0         0.0  ...           0.0   \n",
       "4     0.000000      0.0       0.0         0.0  ...           0.0   \n",
       "\n",
       "   price_summary  smell_summary  snack_summary  star_summary  tast_summary  \\\n",
       "0            0.0            0.0            0.0           0.0           0.0   \n",
       "1            0.0            0.0            0.0           0.0           0.0   \n",
       "2            0.0            0.0            0.0           0.0           0.0   \n",
       "3            0.0            0.0            0.0           0.0           0.0   \n",
       "4            0.0            0.0            0.0           1.0           0.0   \n",
       "\n",
       "   tasti_summary  use_summary  work_summary  yummi_summary  \n",
       "0            0.0          0.0           0.0            0.0  \n",
       "1            0.0          0.0           0.0            0.0  \n",
       "2            0.0          0.0           0.0            0.0  \n",
       "3            0.0          0.0           0.0            0.0  \n",
       "4            0.0          0.0           0.0            0.0  \n",
       "\n",
       "[5 rows x 181 columns]"
      ]
     },
     "execution_count": 16,
     "metadata": {},
     "output_type": "execute_result"
    }
   ],
   "source": [
    "final_df = pd.concat([df.drop(['reviewText','summary'], axis = 1), text_df], axis = 1)\n",
    "final_df.head()"
   ]
  },
  {
   "cell_type": "code",
   "execution_count": 17,
   "id": "116c3137",
   "metadata": {},
   "outputs": [
    {
     "data": {
      "text/html": [
       "<div>\n",
       "<style scoped>\n",
       "    .dataframe tbody tr th:only-of-type {\n",
       "        vertical-align: middle;\n",
       "    }\n",
       "\n",
       "    .dataframe tbody tr th {\n",
       "        vertical-align: top;\n",
       "    }\n",
       "\n",
       "    .dataframe thead th {\n",
       "        text-align: right;\n",
       "    }\n",
       "</style>\n",
       "<table border=\"1\" class=\"dataframe\">\n",
       "  <thead>\n",
       "    <tr style=\"text-align: right;\">\n",
       "      <th></th>\n",
       "      <th>actual_text</th>\n",
       "      <th>ad_text</th>\n",
       "      <th>add_text</th>\n",
       "      <th>alway_text</th>\n",
       "      <th>anyth_text</th>\n",
       "      <th>arriv_text</th>\n",
       "      <th>awesom_text</th>\n",
       "      <th>bad_text</th>\n",
       "      <th>bag_text</th>\n",
       "      <th>bar_text</th>\n",
       "      <th>...</th>\n",
       "      <th>nice_summary</th>\n",
       "      <th>price_summary</th>\n",
       "      <th>smell_summary</th>\n",
       "      <th>snack_summary</th>\n",
       "      <th>star_summary</th>\n",
       "      <th>tast_summary</th>\n",
       "      <th>tasti_summary</th>\n",
       "      <th>use_summary</th>\n",
       "      <th>work_summary</th>\n",
       "      <th>yummi_summary</th>\n",
       "    </tr>\n",
       "    <tr>\n",
       "      <th>is_helpful</th>\n",
       "      <th></th>\n",
       "      <th></th>\n",
       "      <th></th>\n",
       "      <th></th>\n",
       "      <th></th>\n",
       "      <th></th>\n",
       "      <th></th>\n",
       "      <th></th>\n",
       "      <th></th>\n",
       "      <th></th>\n",
       "      <th></th>\n",
       "      <th></th>\n",
       "      <th></th>\n",
       "      <th></th>\n",
       "      <th></th>\n",
       "      <th></th>\n",
       "      <th></th>\n",
       "      <th></th>\n",
       "      <th></th>\n",
       "      <th></th>\n",
       "      <th></th>\n",
       "    </tr>\n",
       "  </thead>\n",
       "  <tbody>\n",
       "    <tr>\n",
       "      <th>0</th>\n",
       "      <td>0.003570</td>\n",
       "      <td>0.003622</td>\n",
       "      <td>0.005501</td>\n",
       "      <td>0.014697</td>\n",
       "      <td>0.003685</td>\n",
       "      <td>0.007683</td>\n",
       "      <td>0.006690</td>\n",
       "      <td>0.00583</td>\n",
       "      <td>0.009824</td>\n",
       "      <td>0.005308</td>\n",
       "      <td>...</td>\n",
       "      <td>0.011684</td>\n",
       "      <td>0.012306</td>\n",
       "      <td>0.008594</td>\n",
       "      <td>0.010054</td>\n",
       "      <td>0.462970</td>\n",
       "      <td>0.022041</td>\n",
       "      <td>0.010544</td>\n",
       "      <td>0.009322</td>\n",
       "      <td>0.011700</td>\n",
       "      <td>0.011393</td>\n",
       "    </tr>\n",
       "    <tr>\n",
       "      <th>1</th>\n",
       "      <td>0.012666</td>\n",
       "      <td>0.013175</td>\n",
       "      <td>0.016151</td>\n",
       "      <td>0.018969</td>\n",
       "      <td>0.009713</td>\n",
       "      <td>0.007160</td>\n",
       "      <td>0.005958</td>\n",
       "      <td>0.01111</td>\n",
       "      <td>0.021827</td>\n",
       "      <td>0.010267</td>\n",
       "      <td>...</td>\n",
       "      <td>0.018016</td>\n",
       "      <td>0.018219</td>\n",
       "      <td>0.018554</td>\n",
       "      <td>0.012847</td>\n",
       "      <td>0.088572</td>\n",
       "      <td>0.042826</td>\n",
       "      <td>0.015939</td>\n",
       "      <td>0.022320</td>\n",
       "      <td>0.026881</td>\n",
       "      <td>0.011301</td>\n",
       "    </tr>\n",
       "  </tbody>\n",
       "</table>\n",
       "<p>2 rows × 175 columns</p>\n",
       "</div>"
      ],
      "text/plain": [
       "            actual_text   ad_text  add_text  alway_text  anyth_text  \\\n",
       "is_helpful                                                            \n",
       "0              0.003570  0.003622  0.005501    0.014697    0.003685   \n",
       "1              0.012666  0.013175  0.016151    0.018969    0.009713   \n",
       "\n",
       "            arriv_text  awesom_text  bad_text  bag_text  bar_text  ...  \\\n",
       "is_helpful                                                         ...   \n",
       "0             0.007683     0.006690   0.00583  0.009824  0.005308  ...   \n",
       "1             0.007160     0.005958   0.01111  0.021827  0.010267  ...   \n",
       "\n",
       "            nice_summary  price_summary  smell_summary  snack_summary  \\\n",
       "is_helpful                                                              \n",
       "0               0.011684       0.012306       0.008594       0.010054   \n",
       "1               0.018016       0.018219       0.018554       0.012847   \n",
       "\n",
       "            star_summary  tast_summary  tasti_summary  use_summary  \\\n",
       "is_helpful                                                           \n",
       "0               0.462970      0.022041       0.010544     0.009322   \n",
       "1               0.088572      0.042826       0.015939     0.022320   \n",
       "\n",
       "            work_summary  yummi_summary  \n",
       "is_helpful                               \n",
       "0               0.011700       0.011393  \n",
       "1               0.026881       0.011301  \n",
       "\n",
       "[2 rows x 175 columns]"
      ]
     },
     "execution_count": 17,
     "metadata": {},
     "output_type": "execute_result"
    }
   ],
   "source": [
    "text_rating = pd.concat([df['is_helpful'], text_df], axis = 1)\n",
    "text_rating_grouped = text_rating.groupby('is_helpful').mean()\n",
    "text_rating_grouped"
   ]
  },
  {
   "cell_type": "code",
   "execution_count": 18,
   "id": "9d7e6c49",
   "metadata": {},
   "outputs": [
    {
     "data": {
      "image/png": "[encoded data removed]",
      "text/plain": [
       "<Figure size 432x288 with 1 Axes>"
      ]
     },
     "metadata": {
      "needs_background": "light"
     },
     "output_type": "display_data"
    }
   ],
   "source": [
    "top_10_helpful = pd.Series(text_rating_grouped.loc[1, :].sort_values(ascending = False)[1:11])\n",
    "plt.bar(top_10_helpful.keys(), top_10_helpful)\n",
    "plt.xticks(rotation=45) \n",
    "plt.ylabel('TFIDF')\n",
    "plt.title('Top 10 frequent words for helpful reviews')\n",
    "plt.show()"
   ]
  },
  {
   "cell_type": "code",
   "execution_count": 19,
   "id": "69975138",
   "metadata": {},
   "outputs": [
    {
     "data": {
      "image/png": "[encoded data removed]",
      "text/plain": [
       "<Figure size 432x288 with 1 Axes>"
      ]
     },
     "metadata": {
      "needs_background": "light"
     },
     "output_type": "display_data"
    }
   ],
   "source": [
    "top_10_unhelpful = pd.Series(text_rating_grouped.loc[0, :].sort_values(ascending = False)[1:11])\n",
    "plt.bar(top_10_unhelpful.keys(), top_10_unhelpful)\n",
    "plt.xticks(rotation=45) \n",
    "plt.ylabel('TFIDF')\n",
    "plt.title('Top 10 frequent words for unhelpful reviews')\n",
    "plt.show()"
   ]
  },
  {
   "cell_type": "markdown",
   "id": "0ad7f3d3",
   "metadata": {},
   "source": [
    "# Part 3 Modeling\n",
    "\n",
    "Our target variable is `is_helpful` and the rest of the columns are features.\n",
    "\n",
    "### 3.1 Model Training\n",
    "\n",
    "First of all, we check the proportion of positive observations in our dataset to be 6.86% which is pretty low. This imbalanced class problem can lead to a problem where model is more likely to predict a datapoint as negative. We take 2 steps to address this problem:\n",
    "1. We use stratefied sampling when we split dataset into training and testing sets to make sure we have enough presence of positives in both sets.\n",
    "2. We penalize false negative much more heavily than false positive with a ratio of 93:7 during model training. The reason for the 0.94:0.06 ratio is because we have roughly 93% negatives and 7% positives in our datasets.\n",
    "\n",
    "Note that in this part, we use F1-score to be the metric to evaluate model performance and to choose threshold for logistic regression for 2 reasons:\n",
    "1. Accuracy can not reflect model performance in a fair way for imblanced dataset because the baseline model could achieve a high accuracy score by simply predicting all negatives.\n",
    "2. F1 score suits our project goal better because, on the one hand, we want to increase recall because higher recall rate could encourage our model to generate more positive predictions which serves our project goal. On the other hand, however, we also want to increase the precision. Because in real application, we think FP has greater consequences than FN because recommending bad quality reviews to customers will not only mislead customers, but also harm purchase rate of product and even harm company's reputation in the long term. Therefore, F1 would be our final metric because it creates a proper balance between precision and recall.\n",
    "\n",
    "\n",
    "Then we train three models:\n",
    "1. Logistic regression model\n",
    "    - Fit data directly and generated a set of predictions in terms of probability $P(y_i =1)$\n",
    "    - Generate a set of potential thresholds, computed accuracy score of each threshold\n",
    "    - Choose the threshold that gives the highest f1 (threshold = 0.72, accuracy = 0.43)\n",
    "2. CART classification model\n",
    "    - Use 'gini index' as loss function \n",
    "    - Use GridSearchCV on a set of ccp_alphas from 0 to 0.05 to reduce overfitting and select ccp_alpha that gives highest f1 (ccp_alpha = 0.0125)\n",
    "3. Random Forest model\n",
    "    - Use GridSearchCV on a set of ccp_alphas from 0 to 0.05 to reduce overfitting and on two choices of max_features, 50 and 100.\n",
    "    - Select the parameters that gives highest f1"
   ]
  },
  {
   "cell_type": "code",
   "execution_count": 20,
   "id": "5d9db5b9",
   "metadata": {},
   "outputs": [],
   "source": [
    "# define evaluation functions\n",
    "\n",
    "def cm_metrics(cm, metric):\n",
    "    \"\"\"\n",
    "    input: 2x2 confusion_matrix array\n",
    "    metric takes in strings: 'TPR','FPR','recall','precision','accuracy','f1'\n",
    "    output: return metric score (int)\n",
    "    Meanwhile print the metric score\n",
    "    \"\"\"\n",
    "    TN, FP, FN, TP = cm.ravel()[0],cm.ravel()[1],cm.ravel()[2],cm.ravel()[3]    \n",
    "    if metric == 'TPR':\n",
    "        #print('return TPR: '+str(TP /(TP+FN)))\n",
    "        return TP /(TP+FN)\n",
    "    if metric == 'recall':\n",
    "        #print('return TPR/recall: '+str(TP /(TP+FN)))\n",
    "        return TP /(TP+FN)\n",
    "    if metric == 'FPR':\n",
    "        #print('return FPR: '+str(FP /(FP+TN)))\n",
    "        return FP /(FP+TN)\n",
    "    if metric == 'precision':\n",
    "        #print('return precision: '+str(TP /(TP+FP)))\n",
    "        return TP /(TP+FP)\n",
    "    if metric == 'accuracy':\n",
    "        #print('return accuracy: '+str((TP+TN)/(TP+FP+TN+FN)))\n",
    "        return (TP+TN)/(TP+FP+TN+FN)\n",
    "    if metric == 'f1':\n",
    "        recall = TP /(TP+FN)\n",
    "        precision = TP /(TP+FP)\n",
    "        f1 = 2/(1/recall + 1/precision)\n",
    "        #print('return f1 score: '+str(f1))\n",
    "        return f1\n",
    "    \n",
    "def wrapper(y_test, y_pred, metric):\n",
    "    \"\"\"\n",
    "    input: real y, predicted y, metric takes in strings: 'TPR','FPR','recall','precision','accuracy','f1'\n",
    "    output: value of the metric\n",
    "    \"\"\"\n",
    "    cm = confusion_matrix(y_test, y_pred)\n",
    "    return cm_metrics(cm, metric)"
   ]
  },
  {
   "cell_type": "code",
   "execution_count": 21,
   "id": "e6be3d02",
   "metadata": {},
   "outputs": [
    {
     "data": {
      "text/plain": [
       "9431"
      ]
     },
     "execution_count": 21,
     "metadata": {},
     "output_type": "execute_result"
    }
   ],
   "source": [
    "sum(df['is_helpful'] == 1)"
   ]
  },
  {
   "cell_type": "code",
   "execution_count": 22,
   "id": "c7fb884f",
   "metadata": {},
   "outputs": [
    {
     "data": {
      "text/plain": [
       "0.06856316156798883"
      ]
     },
     "execution_count": 22,
     "metadata": {},
     "output_type": "execute_result"
    }
   ],
   "source": [
    "sum(df['is_helpful'] == 1)/len(df)"
   ]
  },
  {
   "cell_type": "code",
   "execution_count": 23,
   "id": "83ca4fc5",
   "metadata": {},
   "outputs": [],
   "source": [
    "# categorical feature encoding\n",
    "df_encoded = pd.get_dummies(data = final_df, columns = cat, drop_first = True)\n",
    "\n",
    "X = df_encoded.drop('is_helpful', axis = 1)\n",
    "y = df_encoded['is_helpful'].to_list()\n",
    "\n",
    "# train-test split\n",
    "x_train, x_test, y_train, y_test = train_test_split(X, y, test_size = 0.3, train_size = 0.7, stratify = y, random_state = 1)"
   ]
  },
  {
   "cell_type": "code",
   "execution_count": 57,
   "id": "5190f3b1",
   "metadata": {},
   "outputs": [
    {
     "data": {
      "text/plain": [
       "LogisticRegression(class_weight={0: 0.07, 1: 0.93}, max_iter=1000, n_jobs=3)"
      ]
     },
     "execution_count": 57,
     "metadata": {},
     "output_type": "execute_result"
    }
   ],
   "source": [
    "# instantiate the model (using the default parameters)\n",
    "logreg = LogisticRegression(class_weight = {0:0.07, 1:0.93}, max_iter = 1000, n_jobs=3)\n",
    "\n",
    "# fit the model with data\n",
    "logreg.fit(x_train,y_train)\n",
    "\n",
    "# predict on test\n",
    "#y_pred_train = logreg.predict(x_train)\n",
    "#y_pred_test = logreg.predict(x_test)"
   ]
  },
  {
   "cell_type": "code",
   "execution_count": 61,
   "id": "d4781e6e",
   "metadata": {},
   "outputs": [
    {
     "name": "stdout",
     "output_type": "stream",
     "text": [
      "best threshold:  0.7171717171717172\n",
      "best f1: 0.42627313414781665\n"
     ]
    }
   ],
   "source": [
    "# find best threshold using accuracy metric\n",
    "\n",
    "def find_threshold(y_prob, y_train, score):\n",
    "    thresh = np.linspace(0,1,100)\n",
    "    score_dict = {}\n",
    "    \n",
    "    for t in thresh:\n",
    "        y_pred = [1 if y >= t else 0 for y in y_prob]\n",
    "        score_dict[t] = wrapper(y_train, y_pred, score)\n",
    "        \n",
    "    best = max(score_dict, key=score_dict.get)\n",
    "    print('best threshold: ', str(best))\n",
    "    print('best {}: {}'.format(score, score_dict[best]))\n",
    "    \n",
    "    return best\n",
    "\n",
    "y_prob = logreg.predict_proba(x_train)[:,1]\n",
    "\n",
    "threshold = find_threshold(y_prob, y_train, 'f1')"
   ]
  },
  {
   "cell_type": "code",
   "execution_count": 66,
   "id": "a0ce898a",
   "metadata": {},
   "outputs": [
    {
     "data": {
      "text/plain": [
       "GridSearchCV(estimator=DecisionTreeClassifier(class_weight={0: 0.07, 1: 0.93}),\n",
       "             param_grid={'ccp_alpha': array([0.    , 0.0125, 0.025 , 0.0375, 0.05  ]),\n",
       "                         'max_depth': [30], 'min_samples_leaf': [5],\n",
       "                         'random_state': [88]},\n",
       "             scoring='f1')"
      ]
     },
     "execution_count": 66,
     "metadata": {},
     "output_type": "execute_result"
    }
   ],
   "source": [
    "# build CART classification model\n",
    "dtc = DecisionTreeClassifier(criterion = 'gini', class_weight = {0:0.07, 1:0.93})\n",
    "\n",
    "grid_values = {'ccp_alpha': np.linspace(0.0, 0.05, 5),\n",
    "               'min_samples_leaf': [5],\n",
    "               'max_depth': [30],\n",
    "               'random_state': [88]} \n",
    "\n",
    "dtc_cv = GridSearchCV(dtc, param_grid = grid_values, scoring = 'f1', refit = True)\n",
    "dtc_cv.fit(x_train, y_train)"
   ]
  },
  {
   "cell_type": "code",
   "execution_count": 72,
   "id": "b0b41544",
   "metadata": {},
   "outputs": [
    {
     "data": {
      "text/plain": [
       "{'ccp_alpha': 0.0125,\n",
       " 'max_depth': 30,\n",
       " 'min_samples_leaf': 5,\n",
       " 'random_state': 88}"
      ]
     },
     "execution_count": 72,
     "metadata": {},
     "output_type": "execute_result"
    }
   ],
   "source": [
    "dtc_cv.best_params_"
   ]
  },
  {
   "cell_type": "code",
   "execution_count": 68,
   "id": "1a4cdeb5",
   "metadata": {},
   "outputs": [
    {
     "data": {
      "image/png": "[encoded data removed]",
      "text/plain": [
       "<Figure size 576x432 with 1 Axes>"
      ]
     },
     "metadata": {
      "needs_background": "light"
     },
     "output_type": "display_data"
    }
   ],
   "source": [
    "# plot ccp alpha performance\n",
    "accuracy = dtc_cv.cv_results_['mean_test_score']\n",
    "ccp2 = dtc_cv.cv_results_['param_ccp_alpha'].data\n",
    "\n",
    "plt.figure(figsize=(8, 6))\n",
    "plt.xlabel('ccp alpha', fontsize=16)\n",
    "plt.ylabel('f1', fontsize=16)\n",
    "plt.scatter(ccp2, accuracy, s=2)\n",
    "plt.plot(ccp2, accuracy, linewidth=3)\n",
    "plt.grid(True, which='both')\n",
    "plt.show()"
   ]
  },
  {
   "cell_type": "code",
   "execution_count": 75,
   "id": "504cdf18",
   "metadata": {
    "scrolled": true
   },
   "outputs": [
    {
     "data": {
      "text/plain": [
       "GridSearchCV(estimator=RandomForestClassifier(class_weight={0: 0.07, 1: 0.93},\n",
       "                                              n_jobs=2, random_state=88),\n",
       "             param_grid={'ccp_alpha': array([0.   , 0.025, 0.05 ]),\n",
       "                         'max_depth': [30], 'max_features': [10, 50],\n",
       "                         'min_samples_leaf': [5], 'n_estimators': [500],\n",
       "                         'random_state': [88]},\n",
       "             scoring='f1')"
      ]
     },
     "execution_count": 75,
     "metadata": {},
     "output_type": "execute_result"
    }
   ],
   "source": [
    "# random forest model training\n",
    "\n",
    "rf = RandomForestClassifier(criterion = 'gini', class_weight = {0:0.07, 1:0.93}, random_state=88, n_jobs = 2)\n",
    "\n",
    "grid_values = {'ccp_alpha': np.linspace(0.0, 0.05, 3),\n",
    "               'max_features':[10, 50],\n",
    "               'n_estimators': [500],\n",
    "               'min_samples_leaf': [5],\n",
    "               'max_depth': [30],\n",
    "               'random_state': [88]} \n",
    "\n",
    "rf_cv = GridSearchCV(rf, param_grid = grid_values, scoring = 'f1', refit = True)\n",
    "rf_cv.fit(x_train, y_train)"
   ]
  },
  {
   "cell_type": "code",
   "execution_count": null,
   "id": "55914230",
   "metadata": {},
   "outputs": [],
   "source": [
    "rf_cv.best_params_"
   ]
  },
  {
   "cell_type": "code",
   "execution_count": null,
   "id": "5bbc4f24",
   "metadata": {},
   "outputs": [],
   "source": [
    "import pickle\n",
    "\n",
    "filename = 'random_forest.sav'\n",
    "pickle.dump(rf_cv, open(filename, 'wb'))\n",
    "\n",
    "filename = 'CART.sav'\n",
    "pickle.dump(dtc_cv, open(filename, 'wb'))\n",
    "\n",
    "filename = 'LogReg.sav'\n",
    "pickle.dump(logreg, open(filename, 'wb'))"
   ]
  },
  {
   "cell_type": "markdown",
   "id": "c3e48d65",
   "metadata": {},
   "source": [
    "# Part 4 Performance Evaluation and Model Recommendation\n",
    "\n",
    "**Performance Evaluation**\n",
    "\n",
    "In this section, we compute a set of performance metrics for each model on our testing set. (see result dataframe). Note that we add a baseline model for comparison, which predicts only the majority class (0) of the training set.\n",
    "\n",
    "**Model Recommendation and Application**\n",
    "\n",
    "Since Random Forest model yields highest f1 score on the testing set, we recommend it as our final model. In application, Amazon can use such model to predict the probability of certain reviews left by customers being helpful to others, and can display the review that has the highest probability of being useful at the top of the review section. We believe this application could help Amazon provide more valuable information to customers that could increase purchase rate and customer satisfaction rate, which ultimately benefit company in the long term."
   ]
  },
  {
   "cell_type": "code",
   "execution_count": 76,
   "id": "33dda78b",
   "metadata": {},
   "outputs": [],
   "source": [
    "# test set performance \n",
    "\n",
    "# most frequent outcome in train is 0, so baseline model will predict 0 for all test sets\n",
    "y_pred_base = np.repeat(0, len(x_test))\n",
    "\n",
    "log_pred = logreg.predict_proba(x_test)[:,1]\n",
    "y_pred_log = [1 if x > threshold else 0 for x in log_pred]\n",
    "\n",
    "dtc_pred = dtc_cv.predict(x_test)\n",
    "\n",
    "rf_pred = rf_cv.predict(x_test)"
   ]
  },
  {
   "cell_type": "code",
   "execution_count": 77,
   "id": "ced4bbb3",
   "metadata": {},
   "outputs": [
    {
     "name": "stderr",
     "output_type": "stream",
     "text": [
      "/var/folders/s3/95w1nnsd3w9_rq0tzpc4t4l00000gn/T/ipykernel_1685/857016769.py:28: RuntimeWarning: invalid value encountered in long_scalars\n",
      "  precision = TP /(TP+FP)\n",
      "/var/folders/s3/95w1nnsd3w9_rq0tzpc4t4l00000gn/T/ipykernel_1685/857016769.py:29: RuntimeWarning: divide by zero encountered in double_scalars\n",
      "  f1 = 2/(1/recall + 1/precision)\n"
     ]
    },
    {
     "data": {
      "text/html": [
       "<div>\n",
       "<style scoped>\n",
       "    .dataframe tbody tr th:only-of-type {\n",
       "        vertical-align: middle;\n",
       "    }\n",
       "\n",
       "    .dataframe tbody tr th {\n",
       "        vertical-align: top;\n",
       "    }\n",
       "\n",
       "    .dataframe thead th {\n",
       "        text-align: right;\n",
       "    }\n",
       "</style>\n",
       "<table border=\"1\" class=\"dataframe\">\n",
       "  <thead>\n",
       "    <tr style=\"text-align: right;\">\n",
       "      <th></th>\n",
       "      <th>accuracy</th>\n",
       "      <th>TPR</th>\n",
       "      <th>FPR</th>\n",
       "      <th>recall</th>\n",
       "      <th>f1</th>\n",
       "    </tr>\n",
       "  </thead>\n",
       "  <tbody>\n",
       "    <tr>\n",
       "      <th>baseline</th>\n",
       "      <td>0.931445</td>\n",
       "      <td>0.0</td>\n",
       "      <td>0.0</td>\n",
       "      <td>0.0</td>\n",
       "      <td>NaN</td>\n",
       "    </tr>\n",
       "    <tr>\n",
       "      <th>logistic regression</th>\n",
       "      <td>0.898876</td>\n",
       "      <td>0.511842</td>\n",
       "      <td>0.072638</td>\n",
       "      <td>0.511842</td>\n",
       "      <td>0.409676</td>\n",
       "    </tr>\n",
       "    <tr>\n",
       "      <th>CART</th>\n",
       "      <td>0.773736</td>\n",
       "      <td>0.784023</td>\n",
       "      <td>0.227021</td>\n",
       "      <td>0.784023</td>\n",
       "      <td>0.322079</td>\n",
       "    </tr>\n",
       "    <tr>\n",
       "      <th>random forest</th>\n",
       "      <td>0.889061</td>\n",
       "      <td>0.591375</td>\n",
       "      <td>0.089029</td>\n",
       "      <td>0.591375</td>\n",
       "      <td>0.422261</td>\n",
       "    </tr>\n",
       "  </tbody>\n",
       "</table>\n",
       "</div>"
      ],
      "text/plain": [
       "                     accuracy       TPR       FPR    recall        f1\n",
       "baseline             0.931445       0.0       0.0       0.0       NaN\n",
       "logistic regression  0.898876  0.511842  0.072638  0.511842  0.409676\n",
       "CART                 0.773736  0.784023  0.227021  0.784023  0.322079\n",
       "random forest        0.889061  0.591375  0.089029  0.591375  0.422261"
      ]
     },
     "execution_count": 77,
     "metadata": {},
     "output_type": "execute_result"
    }
   ],
   "source": [
    "# compile predictions for each model into a data frame\n",
    "metric_lst = ['accuracy', 'TPR', 'FPR','recall','precision','f1']\n",
    "models = ['baseline','logistic regression','CART','random forest']\n",
    "\n",
    "pred_df = pd.DataFrame(np.transpose([y_pred_base, y_pred_log, dtc_pred, rf_pred]))\n",
    "pred_df.columns = models\n",
    "\n",
    "# generate metrics table for each model\n",
    "metric_df = pd.DataFrame(columns = metric_lst)\n",
    "\n",
    "for model in models:\n",
    "    for metric in metric_lst:\n",
    "        metric_df.loc[model, metric] = wrapper(y_test, pred_df[model], metric)\n",
    "        \n",
    "metric_df"
   ]
  }
 ],
 "metadata": {
  "kernelspec": {
   "display_name": "Python 3 (ipykernel)",
   "language": "python",
   "name": "python3"
  },
  "language_info": {
   "codemirror_mode": {
    "name": "ipython",
    "version": 3
   },
   "file_extension": ".py",
   "mimetype": "text/x-python",
   "name": "python",
   "nbconvert_exporter": "python",
   "pygments_lexer": "ipython3",
   "version": "3.9.10"
  }
 },
 "nbformat": 4,
 "nbformat_minor": 5
}
